{
 "cells": [
  {
   "cell_type": "markdown",
   "metadata": {},
   "source": [
    "O OpenCV é uma biblioteca de código aberto voltada para as áreas de visão computacional e aprendizado de máquina.\n",
    "\n",
    "Exemplos práticos de uso do OpenCV (cv2) com Python.\n",
    "\n",
    "1 - Leitura e exibição de imagens:\n",
    "- Utilize o OpenCV para ler imagens de diferentes formatos, como JPEG, PNG, entre outros.\n",
    "- Faça manipulações básicas nas imagens, como redimensionar, cortar ou girar.\n",
    "- Exiba as imagens utilizando o OpenCV e visualize os resultados das manipulações realizadas.\n",
    "\n",
    "2 - Detecção de rostos e objetos:\n",
    "- Utilize técnicas de detecção de rostos e objetos utilizando algoritmos de Haar Cascade ou redes neurais convolucionais.\n",
    "- Aplique essas técnicas para detectar rostos em imagens ou vídeos.\n",
    "\n",
    "3 - Reconhecimento de padrões:\n",
    "- Utilize as bibliotecas disponíveis no OpenCV para realizar reconhecimento de padrões, como reconhecimento facial ou reconhecimento de objetos específicos.\n",
    "4 - Segmentação e contagem de objetos:\n",
    "- Utilize o OpenCV para segmentar imagens e identificar os objetos presentes nelas.\n",
    "- Realize a contagem de objetos com base na segmentação realizada."
   ]
  },
  {
   "cell_type": "code",
   "execution_count": null,
   "metadata": {},
   "outputs": [],
   "source": [
    "#Instalando a biblioteca\n",
    "pip install opencv-python"
   ]
  },
  {
   "cell_type": "code",
   "execution_count": 3,
   "metadata": {},
   "outputs": [],
   "source": [
    "import cv2\n",
    "import numpy as np"
   ]
  },
  {
   "cell_type": "code",
   "execution_count": 9,
   "metadata": {},
   "outputs": [],
   "source": [
    "#Carregar a imagem\n",
    "#Quero carregar a imagem \"cv2.IMREAD_COLOR\" colorida no padrão RGB\n",
    "img = cv2.imread('OpenCV_Logo.png', cv2.IMREAD_COLOR)"
   ]
  },
  {
   "cell_type": "code",
   "execution_count": 7,
   "metadata": {},
   "outputs": [],
   "source": [
    "#Carregar a imagem\n",
    "#Quero carregar a imagem \"cv2.IMREAD_COLOR\" em escala de cinza\n",
    "img = cv2.imread('OpenCV_Logo.png', cv2.IMREAD_GRAYSCALE)"
   ]
  },
  {
   "cell_type": "code",
   "execution_count": 11,
   "metadata": {},
   "outputs": [],
   "source": [
    "#Carregar a imagem\n",
    "#Quero carregar a imagem, \"0\" significa em escala de cinza\n",
    "img = cv2.imread('OpenCV_Logo.png', 0)"
   ]
  },
  {
   "cell_type": "code",
   "execution_count": null,
   "metadata": {},
   "outputs": [],
   "source": [
    "#Carregar a imagem\n",
    "#Quero carregar a imagem, \"1\" significa em escala colorida no padrão RGB\n",
    "img = cv2.imread('OpenCV_Logo.png', 1)"
   ]
  },
  {
   "cell_type": "code",
   "execution_count": 12,
   "metadata": {},
   "outputs": [
    {
     "data": {
      "text/plain": [
       "-1"
      ]
     },
     "execution_count": 12,
     "metadata": {},
     "output_type": "execute_result"
    }
   ],
   "source": [
    "#Exibindo a imagem em uma nova janela. Nome da janela é \"Hello World\"\n",
    "cv2.namedWindow('Hello World')\n",
    "\n",
    "#Mostrar imagem dentro da janela\n",
    "cv2.imshow('Hello World', img)\n",
    "\n",
    "#Tempo em milisegundos, esperar uma tecla ser pressionada para fechar\n",
    "cv2.waitKey()"
   ]
  },
  {
   "cell_type": "markdown",
   "metadata": {},
   "source": [
    "Como ler textos dentro de imagens com python[Introdução ao OpenCV e Tesseract]"
   ]
  },
  {
   "cell_type": "markdown",
   "metadata": {},
   "source": [
    "Importante: O padrão do pytesseract, o reconhecimento dele e ser feito de um texto em inglês.\n",
    "Por esse motivo que ele n colocou nenhum acento,"
   ]
  },
  {
   "cell_type": "markdown",
   "metadata": {},
   "source": [
    "# links uteis:\n",
    "# corrigir instalação windows: https://stackoverflow.com/questions/50951955/pytesseract-tesseractnotfound-error-tesseract-is-not-installed-or-its-not-i\n",
    "# instalar outra língua: https://github.com/tesseract-ocr/tessdata\n",
    "# pegar linguas: print(pytesseract.get_languages())"
   ]
  },
  {
   "cell_type": "code",
   "execution_count": null,
   "metadata": {},
   "outputs": [],
   "source": [
    "#Instalando  o opencv e do tesseract\n",
    "pip install opencv-python\n",
    "pip install pytesseract"
   ]
  },
  {
   "cell_type": "code",
   "execution_count": 1,
   "metadata": {},
   "outputs": [],
   "source": [
    "import pytesseract\n",
    "import cv2"
   ]
  },
  {
   "cell_type": "markdown",
   "metadata": {},
   "source": [
    "1° Passo: Ler a imagem com o opencv e trazer essa imagem para o código em python"
   ]
  },
  {
   "cell_type": "code",
   "execution_count": 7,
   "metadata": {},
   "outputs": [],
   "source": [
    "#imread é usada para carregar/ler uma imagem\n",
    "\n",
    "imagem = cv2.imread(\"print_magalu.JPG\")"
   ]
  },
  {
   "cell_type": "markdown",
   "metadata": {},
   "source": [
    "2° Passo: Verificar e criar uma variavel que diz o local aonde o tesseract foi instalado no computador"
   ]
  },
  {
   "cell_type": "code",
   "execution_count": 8,
   "metadata": {},
   "outputs": [],
   "source": [
    "caminho = r\"C:\\Program Files\\Tesseract-OCR\""
   ]
  },
  {
   "cell_type": "markdown",
   "metadata": {},
   "source": [
    "3° Passo: Estamos dizendo qual é o local do seu tesseract"
   ]
  },
  {
   "cell_type": "code",
   "execution_count": 9,
   "metadata": {},
   "outputs": [],
   "source": [
    "pytesseract.pytesseract.tesseract_cmd = caminho + r\"\\tesseract.exe\"\n",
    "\n",
    "#Podemos tanto fazer da forma de cima, ou fazer dessa forma abaixo\n",
    "\n",
    "#pytesseract.pytesseract.tesseract_cmd = r\"C:\\Program Files\\Tesseract-OCR\\tesseract.exe\""
   ]
  },
  {
   "cell_type": "markdown",
   "metadata": {},
   "source": [
    "4° Passo: Pedir para o tesseract extrair o texto da imagem"
   ]
  },
  {
   "cell_type": "code",
   "execution_count": 10,
   "metadata": {},
   "outputs": [],
   "source": [
    "#A função .image_to_string da biblioteca pytesseract é usada para extrair texto de uma imagem.\n",
    "\n",
    "texto = pytesseract.image_to_string(imagem, lang=\"por\")# A linguagem padrão é inglês, mas quero que reconheça o texto da imagem no padrão em português"
   ]
  },
  {
   "cell_type": "markdown",
   "metadata": {},
   "source": [
    "3° Passo: Exibir o texto da imagem"
   ]
  },
  {
   "cell_type": "code",
   "execution_count": 11,
   "metadata": {},
   "outputs": [
    {
     "name": "stdout",
     "output_type": "stream",
     "text": [
      "MGLU\n",
      "\n",
      "B3 LISTED NM\n",
      "\n",
      "| Destaques do 2T21\n",
      "\n",
      "Vendas totais cresceram 60% no 2T21, atingindo R$13,7 bilhões\n",
      "\n",
      "E-commerce cresceu 46% no 2721, atingindo R$9,8 bilhões e 72% das vendas totais\n",
      "\n",
      "Marketplace atingiu R$3,0 bilhões em vendas, crescendo 63%\n",
      "\n",
      "Vendas nas lojas físicas evoluíram 112% no total (102% no crescimento mesmas lojas)\n",
      "EBITDA ajustado atingiu R$455 milhões no 2721 (crescimento de 209%)\n",
      "Lucro líquido ajustado de R$89 milhões no 21721\n",
      "\n",
      "Posição de caixa ajustado de R$6,1 bilhões (R$10,0 bilhões considerando o follow-on)\n",
      "\n",
      "IZ Ganho consistente de participação de mercado. No 2721, as vendas totais, incluindo lojas físicas, e-commerce com\n",
      "estoque próprio (1P) e marketplace (3P) cresceram expressivos 60,5% para R$13,7 bilhões, reflexo do aumento de 46,4% no\n",
      "e-commerce total e de 111,6% nas lojas físicas. O excelente desempenho das vendas foi alcançado mesmo com parte das\n",
      "lojas físicas ainda fechadas em função da covid-19, principalmente no mês de abril. No 2121, o Magalu expandiu sua\n",
      "participação de mercado em 3,7 p.p. comparada com o 2T20, segundo a GFK.\n",
      "\n",
      "l=, E-commerce continua em ritmo muito acelerado. No 2721, o e-commerce brasileiro cresceu 16,8%, segundo a\n",
      "Neotrust, com o Magalu crescendo muito mais que o mercado. No período, as vendas do e-commerce do Magalu avançaram\n",
      "46,4%, mesmo com uma forte base de comparação (crescimento de 181,9% no 2T20). No e-commerce com estoque próprio\n",
      "(1P), as vendas evoluíram 40,1% e o marketplace contribuiu com R$3,0 bilhões, crescendo 63,3%. O forte ganho de\n",
      "marketshare foi impulsionado pela excelente performance do app, com 32 milhões de usuários ativos mensais. Também\n",
      "contribuíram a entrega mais rápida do varejo, a evolução do marketplace e o crescimento das novas categorias.\n",
      "\n",
      "Margem bruta estável. No 2121, a margem bruta foi de 25,6%, praticamente estável quando comparada ao mesmo\n",
      "período de 2020 (25,8% no 2T20). As vendas do e-commerce representaram 71,6% das vendas totais da Companhia no 2121,\n",
      "comparado a 78,5% no 2120.\n",
      "\n",
      "Despesas atingem um dos menores percentuais da história. O percentual das despesas operacionais ajustadas\n",
      "em relação à receita líquida atingiu 20,6% no 2T21, uma redução de 2,5 p.p. comparada ao 2T20, um dos menores patamares\n",
      "históricos. O forte crescimento de vendas e a eficiência proporcionada pelo modelo de negócio multicanal do Magalu\n",
      "contribuíram para esse resultado.\n",
      "\n",
      "EBITDA e lucro líquido. No 2T21, o crescimento das vendas e a diluição das despesas operacionais foram fundamentais\n",
      "\n",
      "m para a evolução do EBITDA ajustado, que atingiu R$455,4 milhões, crescendo expressivos 209,3% comparado ao 2T120. À\n",
      "margem EBITDA ajustada foi de 5,1%, um aumento de 2,5 p.p. em relação ao mesmo período do ano anterior. O lucro líquido\n",
      "ajustado atingiu R$89,1 milhões no 2721, revertendo o resultado negativo de R$62,2 milhões no 2T20. Considerando os\n",
      "ganhos líquidos não recorrentes, o lucro líquido foi de R$95,5 milhões.\n",
      "\n",
      "Geração de caixa e estrutura de capital. No trimestre, a geração de caixa operacional foi de R$401,8 milhões,\n",
      "influenciada pelos resultados positivos e pela variação do capital de giro. Nos últimos 12 meses, o fluxo de caixa das\n",
      "\n",
      "4% operações, ajustado pelos recebíveis de cartão de crédito, atingiu R$881,4 milhões. Em jun/21, a posição de caixa líquido\n",
      "ajustado foi de R$3,8 bilhões e a posição total de caixa ajustado foi de R$6,1 bilhões. Adicionando-se os recursos da oferta\n",
      "subsequente de ações concluída em jul/21, a posição total de caixa ajustado seria de R$10,0 bilhões.\n",
      "\n",
      "Fintech. Em jun/21, a base de cartões de crédito emitidos pela Luizacred atingiu a marca de 6,0 milhões de cartões,\n",
      "ª incluindo o Cartão Luiza e o recém-lançado Cartão Magalu, crescendo 19,5% comparado a jun/20. O faturamento (TPV) de\n",
      "cartão de crédito cresceu 63% no 2T21, atingindo R$9,6 bilhões no período, e a carteira de cartão de crédito alcançou R$13,5\n",
      "bilhões ao final do 2T21. Em jun/21, o MagaluPay chegou a 3,3 milhões de contas abertas.\n",
      "\n",
      "” Videoconferência Relações com Investidores\n",
      "B) SEA E Bdeagtodena etafeia) [ TeLSs aa aso627a?\n",
      "S EA ES in 16:00 no horário de Brasília: +55 (11) 3181-8565 Www.magazineluiza.com.br/ri\n",
      "\n",
      "Velorde Mercado: R$ 140,0 bilhões 15:00 no horário dos EUA (EST): +1 412 717 9627 riêmagazineluiza.com.br\n",
      "\n",
      "\n"
     ]
    }
   ],
   "source": [
    "print(texto)"
   ]
  }
 ],
 "metadata": {
  "kernelspec": {
   "display_name": ".venv",
   "language": "python",
   "name": "python3"
  },
  "language_info": {
   "codemirror_mode": {
    "name": "ipython",
    "version": 3
   },
   "file_extension": ".py",
   "mimetype": "text/x-python",
   "name": "python",
   "nbconvert_exporter": "python",
   "pygments_lexer": "ipython3",
   "version": "3.10.4"
  }
 },
 "nbformat": 4,
 "nbformat_minor": 2
}
