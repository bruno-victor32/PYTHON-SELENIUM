{
 "cells": [
  {
   "cell_type": "markdown",
   "metadata": {},
   "source": [
    "                            ========== LISTAS EM PYTHON ========== \n",
    "\n",
    "Estrutura:\n",
    "\n",
    "lista = [valor, valor, valor, valor, ..]\n",
    "\n",
    "\n",
    "* Lista é um dos objetos mais importantes de Python, por isso vamos trabalhar bastante neles\n",
    "* Quando importamos uma base de dados para o Python, normalmente ele ё lido como uma \"lista\" ou como alguma \"variação de lista\"\n",
    "Listas em Python foram feitas para serem homogêneas, apesar aceitarem valores heterogêneos.\n",
    "Quando fala que a lista ser feita para ser homogênea, significa que a lista deve ser somente de texto/string, se for de número ser somente de número. Devemos evitar colocar uma lista de texto e números ao mesmo tempo dentro dela\n",
    "Exemplos de Lista:\n",
    "\n",
    "Listas de Produtos de uma Loja:"
   ]
  },
  {
   "cell_type": "code",
   "execution_count": 30,
   "metadata": {},
   "outputs": [
    {
     "name": "stdout",
     "output_type": "stream",
     "text": [
      "['tv', 'celular', 'mouse', 'teclado', 'tablet']\n"
     ]
    }
   ],
   "source": [
    "nome = 'celular' #Variaveis também funcionam dentro das listas\n",
    "produtos = ['tv', nome, 'mouse', 'teclado', 'tablet']\n",
    "print(produtos)"
   ]
  },
  {
   "cell_type": "markdown",
   "metadata": {},
   "source": [
    "Outra forma da lista de produtos de uma loja"
   ]
  },
  {
   "cell_type": "code",
   "execution_count": 31,
   "metadata": {},
   "outputs": [],
   "source": [
    "produtos = ['tv', \n",
    "            'celular',\n",
    "            'mouse',\n",
    "            'teclado',\n",
    "            'tablet',\n",
    "            ]"
   ]
  },
  {
   "cell_type": "markdown",
   "metadata": {},
   "source": [
    "Lista de Unidades Vendidas de cada Produto da Loja:"
   ]
  },
  {
   "cell_type": "code",
   "execution_count": 32,
   "metadata": {},
   "outputs": [],
   "source": [
    "vendas = [1000, 1500, 350, 270, 900]"
   ]
  },
  {
   "cell_type": "markdown",
   "metadata": {},
   "source": [
    "Criando uma lista vazia"
   ]
  },
  {
   "cell_type": "code",
   "execution_count": 33,
   "metadata": {},
   "outputs": [],
   "source": [
    "vendas = []"
   ]
  },
  {
   "cell_type": "markdown",
   "metadata": {},
   "source": [
    "lista[i] -> é o valor de índice \"i\" da lista\n",
    "Observação: Lembre-se que no python o índice começa em 0, então o primeiro item de uma lista é o item lista[0]\n",
    "\n",
    "Para substituir um valor de uma lista você pode fazer:\n",
    "lista[i] = novo_valor"
   ]
  },
  {
   "cell_type": "markdown",
   "metadata": {},
   "source": [
    "Nesse caso, as listas funcionam da seguinte forma:\n",
    "produtos = ['tv', 'celular', 'mouse', 'teclado', 'tablet']\n",
    "\n",
    "índice       0  ,  1       ,  2     ,  3       ,  4\n",
    "\n",
    "vendas = [   1000, 1500,      350,     270,       900]"
   ]
  },
  {
   "cell_type": "code",
   "execution_count": 34,
   "metadata": {},
   "outputs": [
    {
     "name": "stdout",
     "output_type": "stream",
     "text": [
      "celular\n"
     ]
    }
   ],
   "source": [
    "# Pegando o índice de número 1 da lista produtos\n",
    "produtos = ['tv', 'celular', 'mouse', 'teclado', 'tablet']\n",
    "print(produtos[1])"
   ]
  },
  {
   "cell_type": "code",
   "execution_count": 35,
   "metadata": {},
   "outputs": [
    {
     "name": "stdout",
     "output_type": "stream",
     "text": [
      "1500\n"
     ]
    }
   ],
   "source": [
    "# Pegando o índice de número 1 da lista vendas\n",
    "vendas = [1000, 1500, 350, 270, 900]\n",
    "print(vendas[1])"
   ]
  },
  {
   "cell_type": "code",
   "execution_count": 36,
   "metadata": {},
   "outputs": [
    {
     "name": "stdout",
     "output_type": "stream",
     "text": [
      "Vendas do produto celular foram de 1500 unidades\n"
     ]
    }
   ],
   "source": [
    "# Pegando o índice de número 1 da lista vendas e o índice de número 1 da lista produtos e mostrando na tela\n",
    "print('Vendas do produto {} foram de {} unidades'.format(produtos[1], vendas[1]))"
   ]
  },
  {
   "cell_type": "code",
   "execution_count": 37,
   "metadata": {},
   "outputs": [
    {
     "name": "stdout",
     "output_type": "stream",
     "text": [
      "[1000, 1500, 350, 270, 900]\n",
      "[1000, 1500, 350, 300, 900]\n",
      "Vendas do produto teclado foram de 300 unidades\n"
     ]
    }
   ],
   "source": [
    "#O indice de número 3 da lista de vendas é o valor 270\n",
    "print(vendas)\n",
    "#Modificando o valor do indice de número 3 da lista de vendas para o valor 300\n",
    "vendas[3] = 300\n",
    "print(vendas)\n",
    "## Pegando o índice de número 3 da lista vendas e o índice de número 3 da lista produtos e mostrando na tela \n",
    "print('Vendas do produto {} foram de {} unidades'.format(produtos[3], vendas[3]))\n"
   ]
  },
  {
   "cell_type": "markdown",
   "metadata": {},
   "source": [
    "IMPORTANTE: Uma string no python é como se fosse uma lista de texto\n",
    "A string no python é imutavel, ou seja, não é possível mudar o valor dela"
   ]
  },
  {
   "cell_type": "code",
   "execution_count": 38,
   "metadata": {},
   "outputs": [
    {
     "name": "stdout",
     "output_type": "stream",
     "text": [
      "l\n"
     ]
    }
   ],
   "source": [
    "#Estou querendo que mostre na tela, o indice de número 0 da variavel texto que será a letra \"l\"\n",
    "texto = 'lira@gmail.com'\n",
    "print(texto[0])"
   ]
  },
  {
   "cell_type": "markdown",
   "metadata": {},
   "source": [
    "IMPORTANTE: Nesse caso abaixo, estou exemplificando que não é possível mudar o valor de uma string. Apesar da string ser basicamente uma lista de caracteres, não é possível substituir um caracter pelo o outro como fazemos com a lista"
   ]
  },
  {
   "cell_type": "code",
   "execution_count": null,
   "metadata": {},
   "outputs": [],
   "source": [
    "#Modificando o caracter de indice 1 da variavel \"texto\"\n",
    "texto = 'lira@gmail.com'\n",
    "print(texto[1])\n",
    "\n",
    "#Tentando modificar a string, tentando modificar a string que está localizada no indice 1 de \"i\" para \"a\"\n",
    "texto[1] = 'a'\n",
    "print(texto)"
   ]
  },
  {
   "cell_type": "markdown",
   "metadata": {},
   "source": [
    "# Como descobrir o índice de um item de uma lista?\n",
    "\n",
    "i = lista.index('item')\n",
    "\n",
    "Exemplo:\n",
    "\n",
    "Digamos que você puxou do Banco de Dados da sua empresa uma lista com todos os produtos que a empresa vende e a quantidade em estoque de todos eles."
   ]
  },
  {
   "cell_type": "code",
   "execution_count": 1,
   "metadata": {},
   "outputs": [],
   "source": [
    "produtos = ['tv', 'celular', 'tablet', 'mouse', 'teclado', 'geladeira', 'forno']\n",
    "estoque = [100, 150, 100, 120, 70, 180, 80]"
   ]
  },
  {
   "cell_type": "markdown",
   "metadata": {},
   "source": [
    "Nesse caso a lista é \"pequena\" para fins didáticos, mas essa lista poderia ter dezenas de milhares de produtos diferentes.\n",
    "\n",
    "E agora, como eu faço para descobrir a quantidade em estoque do produto geladeira?"
   ]
  },
  {
   "cell_type": "code",
   "execution_count": null,
   "metadata": {},
   "outputs": [],
   "source": [
    "#Encontrar o índice do produto 'geladeira' na lista produtos.\n",
    "i = produtos.index('geladeira')\n",
    "\n",
    "#Usa o índice encontrado anteriormente para acessar a quantidade correspondente ao produto na lista \"estoque\" e armazena essa quantidade na variável qtde_estoque\n",
    "qtde_estoque = estoque[i]\n",
    "\n",
    "#Imprimir o índice encontrado.\n",
    "print('O índice do produto geladeira é {}'.format(i))\n",
    "\n",
    "#Exibe a quantidade em estoque do produto 'geladeira'.\n",
    "print('Quantidade em estoque da geladeira é de: {}'.format(qtde_estoque))\n",
    "\n",
    "#Usar o índice encontrado anteriormente para acessar a lista produto e exibir o seu nome.\n",
    "print(produtos[i])"
   ]
  },
  {
   "cell_type": "markdown",
   "metadata": {},
   "source": [
    "Crie um programa para fazer uma consulta de estoque. O usuário do programa deve inserir o nome do produto e, caso ele não exista na lista, ele deve ser avisado. Caso exista, o programa deve dizer a quantidade de unidades em estoque do produto"
   ]
  },
  {
   "cell_type": "code",
   "execution_count": null,
   "metadata": {},
   "outputs": [],
   "source": [
    "# 1° Vamos fazer um programa que pega informação do usuário e procura aquele item na lista"
   ]
  },
  {
   "cell_type": "code",
   "execution_count": 8,
   "metadata": {},
   "outputs": [
    {
     "name": "stdout",
     "output_type": "stream",
     "text": [
      "Temos 180 unidades de geladeira no estoque\n"
     ]
    }
   ],
   "source": [
    "produtos = ['tv', 'celular', 'tablet', 'mouse', 'teclado', 'geladeira', 'forno']\n",
    "estoque = [100, 150, 100, 120, 70, 180, 80]\n",
    "\n",
    "nm_produto = input('Insiraa o nome do produto em letra minúscula')\n",
    "\n",
    "#Se o \"produto\" digitado é armazenado na variavel \"nm_produto\"  estiver na lista \"produtos\"\n",
    "if nm_produto in produtos: \n",
    "  #Descobrindo o índice do produto digitado \"nm_produto\" que está na lista \"produtos\"\n",
    "  i = produtos.index(nm_produto)\n",
    "\n",
    "  #Usa o índice encontrado anteriormente e armazenado na variavel \"i\" para acessar a quantidade correspondente ao produto que tem no estoque na lista \"estoque\" e armazena essa quantidade na variável qtde_estoque\n",
    "  qtde_estoque = estoque[i] #\n",
    "\n",
    "  print('Temos {} unidades de {} no estoque'.format(qtde_estoque,nm_produto))\n",
    "else:\n",
    "  print('{} não existe no estoque'.format(nm_produto))"
   ]
  },
  {
   "cell_type": "markdown",
   "metadata": {},
   "source": [
    "# Adicionar e Remover itens de uma lista\n",
    "\n",
    "Adicionar:\n",
    "lista.append(item)\n",
    "\n",
    "Remover:\n",
    "item_removido = lista.pop(indice)\n",
    "lista.remove(item)\n",
    "\n",
    "Digamos que você está construindo o controle de produtos da Apple.\n",
    "E a Apple lançou o IPhone 11 e irá doar seus estoques do IPhone X"
   ]
  },
  {
   "cell_type": "code",
   "execution_count": null,
   "metadata": {},
   "outputs": [],
   "source": [
    "produtos = ['apple tv', 'mac', 'iphone x', 'Ipad', 'apple watch', 'mac book', 'airpods']\n",
    "print(produtos)\n",
    "\n",
    "######## Trocar o valor atual pelo valor 'iphone 11' na lista \"produtos\" ######## \n",
    "produtos[2] = 'iphone 11' #Altera o terceiro elemento da lista produtos, substituindo o valor atual pelo valor 'iphone 11'. Esse método troca o elemento\n",
    "print(produtos)"
   ]
  },
  {
   "cell_type": "code",
   "execution_count": null,
   "metadata": {},
   "outputs": [],
   "source": [
    "######### Adicionar o iphone 12 na lista produtos ######## \n",
    "produtos.append('iphone 12')\n",
    "print(produtos)"
   ]
  },
  {
   "cell_type": "code",
   "execution_count": null,
   "metadata": {},
   "outputs": [],
   "source": [
    "#Remover o iphone 11 da lista de produtos, ou seja, do indice 2 utilizando o \"pop\"\n",
    "print(produtos)\n",
    "\n",
    "produtos.pop(2)\n",
    "\n",
    "print(produtos)"
   ]
  },
  {
   "cell_type": "code",
   "execution_count": null,
   "metadata": {},
   "outputs": [],
   "source": [
    "#Utilizando o \"pop\" podemos armazenar em uma variavel, o valor  que retiramos da lista\n",
    "#Remover o iphone 12 da lista de produtos, ou seja, do indice 7 utilizando o \"pop\"\n",
    "print(produtos)\n",
    "\n",
    "item_removido = produtos.pop(7)\n",
    "\n",
    "print('O produto removido foi {} da lista'.format(item_removido))\n",
    "print(produtos)"
   ]
  },
  {
   "cell_type": "code",
   "execution_count": null,
   "metadata": {},
   "outputs": [],
   "source": [
    "######### Remover o iphone 12 da lista de produtos utilizando o \"remove\" ######## \n",
    "print(produtos)\n",
    "\n",
    "produtos.remove('iphone 12')\n",
    "\n",
    "print(produtos)"
   ]
  },
  {
   "cell_type": "markdown",
   "metadata": {},
   "source": [
    "# Existem 2 formas de tratar o erro:\n",
    "\n",
    "1. Criar um if para evitar que ele aconteça\n"
   ]
  },
  {
   "cell_type": "code",
   "execution_count": null,
   "metadata": {},
   "outputs": [],
   "source": [
    "produtos = ['apple tv', 'mac', 'iphone x', 'Ipad', 'apple watch', 'mac book', 'airpods']\n",
    "print(produtos)\n",
    "\n",
    "# Remover o iphone x da lista de produtos\n",
    "produto_remover = 'iphonex'\n",
    "\n",
    "#Se o produto \"iphonex\" não estiver na lista de \"produtos\"\n",
    "if produto_remover in produtos:\n",
    "  produtos.remove('iphonex') #Remove esse produto da lista de \"produtos\"\n",
    "else:#Senão\n",
    "  print('{} não existe na lista de produtos'.format(produto_remover))\n",
    "\n",
    "#Como na lista tem \"iphone x\" e não tem \"iphonex\", diz que não tem na lista esse produto"
   ]
  },
  {
   "cell_type": "markdown",
   "metadata": {},
   "source": [
    "2. Esperar que ele possa acontecer e tratar caso o erro aconteça com:"
   ]
  },
  {
   "cell_type": "code",
   "execution_count": null,
   "metadata": {},
   "outputs": [],
   "source": [
    "produtos = ['apple tv', 'mac', 'iphone x', 'Ipad', 'apple watch', 'mac book', 'airpods']\n",
    "print(produtos)\n",
    "\n",
    "try:#tentar fazer\n",
    "    produtos.remover('iphonex') #Tento remover da lista o produto \"iphonex\"\n",
    "    print(produtos)\n",
    "except: #Caso dê errado, caso não exista esse produto na lista será impresso essa mensagem abaixo\n",
    "    print('iphonex não existe na lista de produtos')"
   ]
  },
  {
   "cell_type": "code",
   "execution_count": null,
   "metadata": {},
   "outputs": [],
   "source": [
    "produtos = ['apple tv', 'mac', 'iphone x', 'Ipad', 'apple watch', 'mac book', 'airpods']\n",
    "print(produtos)\n",
    "\n",
    "try:#tentar fazer\n",
    "    produtos.remove('iphone x') #Tento remover da lista o produto \"iphone x\"\n",
    "    print(produtos)\n",
    "except: #Caso não exista esse produto na lista de \"produtos\" será impresso essa mensagem abaixo\n",
    "    print('iphone x não existe na lista de produtos')"
   ]
  },
  {
   "cell_type": "code",
   "execution_count": null,
   "metadata": {},
   "outputs": [],
   "source": [
    "produtos = ['apple tv', 'mac', 'iphone x', 'Ipad', 'apple watch', 'mac book', 'airpods']\n",
    "print(produtos)\n",
    "\n",
    "try:#tentar fazer\n",
    "    produtos.remove('iphone x') #Tento remover da lista o produto \"iphone x\"\n",
    "    print(produtos)\n",
    "except: #Caso não exista esse produto na lista de \"produtos\" quero que faça nada e continue o cód\n",
    "    pass"
   ]
  },
  {
   "cell_type": "markdown",
   "metadata": {},
   "source": [
    "# Algumas funções básicas de lista\n",
    "# Tamanho da Lista\n",
    "\n",
    "tamanho = len(lista)"
   ]
  },
  {
   "cell_type": "code",
   "execution_count": 45,
   "metadata": {},
   "outputs": [
    {
     "name": "stdout",
     "output_type": "stream",
     "text": [
      "Temos na lista de produtos 7 produtos\n"
     ]
    }
   ],
   "source": [
    "produtos = ['apple tv', 'mac', 'iphone x', 'Ipad', 'apple watch', 'mac book', 'airpods']\n",
    "\n",
    "############ Quantos produtos temos a venda? ############\n",
    "tamanho = len(produtos) #Qual é o tamanho da lista \"produtos\"\n",
    "\n",
    "print('Temos na lista de produtos {} produtos'.format(tamanho))"
   ]
  },
  {
   "cell_type": "markdown",
   "metadata": {},
   "source": [
    "# Maior e Menor Valor\n",
    "\n",
    "maior = max(lista)\n",
    "\n",
    "menor = min(lista)"
   ]
  },
  {
   "cell_type": "code",
   "execution_count": 48,
   "metadata": {},
   "outputs": [
    {
     "name": "stdout",
     "output_type": "stream",
     "text": [
      "O valor do produto mais vendido é 15000 unidades\n",
      "O valor do produto menos vendido é 100 unidades\n"
     ]
    }
   ],
   "source": [
    "vendas = [1000, 1500, 15000, 270, 900, 100, 1200]\n",
    "\n",
    "produto_mais_vendido = max(vendas)\n",
    "print('O valor do produto mais vendido é {} unidades'.format(produto_mais_vendido))\n",
    "\n",
    "produto_menos_vendido = min(vendas)\n",
    "print('O valor do produto menos vendido é {} unidades'.format(produto_menos_vendido))"
   ]
  },
  {
   "cell_type": "code",
   "execution_count": null,
   "metadata": {},
   "outputs": [],
   "source": [
    "produtos = ['apple tv', 'mac', 'iphone x', 'Ipad', 'apple watch', 'mac book', 'airpods']\n",
    "vendas = [1000, 1500, 15000, 270, 900, 100, 1200]\n",
    "\n",
    "produto_mais_vendido = max(vendas)\n",
    "\n",
    "produto_menos_vendido = min(vendas)\n",
    "\n",
    "############# Qual o item mais vendido? #############\n",
    "indice = vendas.index(produto_mais_vendido) #Descobrindo o índice do produto mais vendido\n",
    "\n",
    "#Descobrindo qual produto foi mais vendido, utilizando o indice descoberto anteriormente\n",
    "produto_mais_vendido = produtos[indice] \n",
    "\n",
    "print('O produto mais vendido é o \"{}\" de índice \"{}\"'.format(produto_mais_vendido,indice))\n",
    "\n",
    "############## Qual o item menos vendido? #############\n",
    "\n",
    "indice = vendas.index(produto_menos_vendido)#Descobrindo o índice do produto menos vendido\n",
    "\n",
    "produto_menos_vendido = produtos[indice]\n",
    "\n",
    "print('O produto menos vendido é o \"{}\" de índice \"{}\"'.format(produto_menos_vendido,indice))\n"
   ]
  },
  {
   "cell_type": "markdown",
   "metadata": {},
   "source": [
    "# Juntar Listas, Ordenar e Cuidados Especiais\n",
    "\n",
    "2 formas:\n",
    "- lista1.extend(lista2) #Estou pegando a lista2 e adicionando ela na lista 1, ou seja, a lista 1 será modificada\n",
    "\n",
    "- lista_nova = lista1 + lista2 #Criando uma nova lista chamada \"lista_nova\" que é a junção da lista1 mais a lista2\n",
    "\n",
    "Observação: o Método .append não junta listas, mas adiciona um valor no final da lista.\n",
    "O método .append adiciona um item no final da lista"
   ]
  },
  {
   "cell_type": "code",
   "execution_count": 1,
   "metadata": {},
   "outputs": [
    {
     "name": "stdout",
     "output_type": "stream",
     "text": [
      "['apple tv', 'mac', 'iphone x', 'iphone 11', 'Ipad', 'apple watch', 'mac book', 'airpods', 'iphone 12', 'ioculos']\n"
     ]
    }
   ],
   "source": [
    "#Estou adicionando a lista \"novos_produtos\" a lista \"produtos\"\n",
    "\n",
    "produtos = ['apple tv', 'mac','iphone x', 'iphone 11', 'Ipad', 'apple watch', 'mac book', 'airpods']\n",
    "novos_produtos = ['iphone 12', 'ioculos']\n",
    "\n",
    "produtos.extend(novos_produtos)\n",
    "print(produtos)"
   ]
  },
  {
   "cell_type": "code",
   "execution_count": 3,
   "metadata": {},
   "outputs": [
    {
     "name": "stdout",
     "output_type": "stream",
     "text": [
      "['apple tv', 'mac', 'iphone x', 'iphone 11', 'Ipad', 'apple watch', 'mac book', 'airpods', 'iphone 12', 'ioculos']\n"
     ]
    }
   ],
   "source": [
    "#Criando uma nova lista chamada \"todos_produtos\" que é a junção da lista de nome \"produtos\" mais a lista de nome \"novos_produtos\"\n",
    "\n",
    "produtos = ['apple tv', 'mac','iphone x', 'iphone 11', 'Ipad', 'apple watch', 'mac book', 'airpods']\n",
    "novos_produtos = ['iphone 12', 'ioculos']\n",
    "\n",
    "todos_produtos = produtos + novos_produtos\n",
    "print(todos_produtos)\n"
   ]
  },
  {
   "cell_type": "markdown",
   "metadata": {},
   "source": [
    "Exemplificando o porque não deve utilizar o método .append para juntar listas"
   ]
  },
  {
   "cell_type": "code",
   "execution_count": 5,
   "metadata": {},
   "outputs": [
    {
     "name": "stdout",
     "output_type": "stream",
     "text": [
      "['apple tv', 'mac', 'iphone x', 'iphone 11', 'Ipad', 'apple watch', 'mac book', 'airpods', 'iphone 12', 'ioculos']\n",
      "['apple tv', 'mac', 'iphone x', 'iphone 11', 'Ipad', 'apple watch', 'mac book', 'airpods', ['iphone 12', 'ioculos']]\n"
     ]
    }
   ],
   "source": [
    "produtos = ['apple tv', 'mac','iphone x', 'iphone 11', 'Ipad', 'apple watch', 'mac book', 'airpods']\n",
    "novos_produtos = ['iphone 12', 'ioculos']\n",
    "\n",
    "\n",
    "#Quando usamos o método .append estamos adicionando um valor no final da lista \"produtos\", ou seja, o valor é a lista inteira de nome \"novos_produtos\" sendo adicionada. Estamos literalmente colocando uma lista dentro de outra lista quando utilizamos o .append\n",
    "produtos.append(novos_produtos)\n",
    "print(produtos)"
   ]
  },
  {
   "cell_type": "markdown",
   "metadata": {},
   "source": [
    "Cuidado:\n",
    "\n",
    "- [1] + [2] não e a mesma coisa que 1 + 2, então cuidado sempre com o formato de valores na hora de fazer operações"
   ]
  },
  {
   "cell_type": "code",
   "execution_count": 7,
   "metadata": {},
   "outputs": [
    {
     "name": "stdout",
     "output_type": "stream",
     "text": [
      "35000\n"
     ]
    }
   ],
   "source": [
    "produtos = ['apple tv', 'mac','iphone x', 'iphone 11', 'Ipad', 'apple watch', 'mac book', 'airpods']\n",
    "vendas = [1000, 1500, 15000, 20000, 270, 900, 100, 1200]\n",
    "\n",
    "#Quero saber o total de vendas de iphone, nesse caso só temos \"iphone x\" e \"iphone 11\"\n",
    "#Nessa linha abaixo estou somando a quantidade de iphone x com a de iphone 11.\n",
    "#Quando pegamos um item de uma lista através do indice, ele só retorna o valor, ele não dá uma lista que contem o valor\n",
    "total_iphone = vendas[2] + vendas[3]\n",
    "print(total_iphone)"
   ]
  },
  {
   "cell_type": "code",
   "execution_count": 8,
   "metadata": {},
   "outputs": [
    {
     "name": "stdout",
     "output_type": "stream",
     "text": [
      "[15000, 20000]\n"
     ]
    }
   ],
   "source": [
    "#Criei duas listas com apenas um item em cada uma das listas\n",
    "vendas_iphonex = [15000]\n",
    "vendas_iphone11 = [20000]\n",
    "\n",
    "#Dessa forma abaixo, será criado uma nova lista, não será somado os valores dos itens nas listas que estão armazenados nas variaveis\n",
    "total_iphone_listas = vendas_iphonex + vendas_iphone11\n",
    "print(total_iphone_listas)"
   ]
  },
  {
   "cell_type": "code",
   "execution_count": 10,
   "metadata": {},
   "outputs": [
    {
     "name": "stdout",
     "output_type": "stream",
     "text": [
      "35000\n"
     ]
    }
   ],
   "source": [
    "#Outro exemplo\n",
    "#Tenho duas listas que tem somente um item só em cada lista, é quero somar os valores das duas listas\n",
    "vendas_iphonex = [15000]\n",
    "vendas_iphone11 = [20000]\n",
    "\n",
    "#Tenho que informar o índice do item que quero somar em cada lista.\n",
    "#Nesse caso abaixo quero somar o item de indice 0 da lista \"vendas_iphonex\" com o item de indice 0 da lista \"vendas_iphone11\"\n",
    "total_iphone_listas = vendas_iphonex[0] + vendas_iphone11[0]\n",
    "print(total_iphone_listas)\n"
   ]
  },
  {
   "cell_type": "markdown",
   "metadata": {},
   "source": [
    "Ordenar valores de uma lista\n",
    "Ordernar é colocar os valores em ordem alfabetica\n",
    "Colocar os valores do maior para o menor ou vice-versa\n",
    "\n",
    "lista.sort()"
   ]
  },
  {
   "cell_type": "code",
   "execution_count": 2,
   "metadata": {},
   "outputs": [
    {
     "name": "stdout",
     "output_type": "stream",
     "text": [
      "['Ipad', 'airpods', 'apple tv', 'apple watch', 'iphone 11', 'iphone x', 'mac', 'mac book']\n"
     ]
    }
   ],
   "source": [
    "produtos = ['apple tv', 'mac','iphone x', 'iphone 11', 'Ipad', 'apple watch', 'mac book', 'airpods']\n",
    "\n",
    "#Ordenando a lvariavel de \"produtos\" que tem uma lista com produtos em ordem alfabetica.\n",
    "# O resultado não é alfabetica, devido o python fazer diferença letras maiusculas e letras minusculas. O \"Ipad\" está em primeiro, devido o \"I\" está em letra maiuscula.\n",
    "# A ordem que o python usa  é a da tabela ASCII, nessa tabela diz que as letras maiusculas vem primeiro do que as letras minusculas\n",
    "produtos.sort()\n",
    "print(produtos)"
   ]
  },
  {
   "cell_type": "code",
   "execution_count": 4,
   "metadata": {},
   "outputs": [
    {
     "name": "stdout",
     "output_type": "stream",
     "text": [
      "[100, 270, 900, 1000, 1200, 1500, 15000, 20000]\n"
     ]
    }
   ],
   "source": [
    "vendas = [1000, 1500, 15000, 20000, 270, 900, 100, 1200]\n",
    "\n",
    "#Como é somente números, será ordenado do menor para o maior número\n",
    "vendas.sort()\n",
    "print(vendas)"
   ]
  },
  {
   "cell_type": "code",
   "execution_count": 5,
   "metadata": {},
   "outputs": [
    {
     "name": "stdout",
     "output_type": "stream",
     "text": [
      "[20000, 15000, 1500, 1200, 1000, 900, 270, 100]\n"
     ]
    }
   ],
   "source": [
    "vendas = [1000, 1500, 15000, 20000, 270, 900, 100, 1200]\n",
    "\n",
    "#Nesse caso como coloquei \"reverse=True\" será ordenado do maior para o menor número\n",
    "vendas.sort(reverse=True)\n",
    "print(vendas)"
   ]
  },
  {
   "cell_type": "markdown",
   "metadata": {},
   "source": [
    "# Print de Listas\n",
    "\n",
    "2 Opções:\n",
    "\n",
    "- print \"normal\"\n",
    "- método join -> texto.join(lista)"
   ]
  },
  {
   "cell_type": "code",
   "execution_count": null,
   "metadata": {},
   "outputs": [],
   "source": [
    "produtos = ['apple tv', 'mac','iphone x', 'iphone 11', 'Ipad', 'apple watch', 'mac book', 'airpods']\n",
    "print(produtos)\n",
    "print('=-=-=' * 15)\n",
    "# O join vai exibir todos os produtos que tenho na lista separando através de uma vírgula\n",
    "print(', '.join(produtos))\n",
    "print('=-=-=' * 15)\n",
    "#Outro exemplo\n",
    "print('; '.join(produtos))\n",
    "print('=-=-=' * 15)\n",
    "#Deixando cada produto em uma linha, exibindo cada produto em uma linha\n",
    "# \\n é o caracter do \"Enter\"\n",
    "print('\\n'.join(produtos))\n"
   ]
  },
  {
   "cell_type": "markdown",
   "metadata": {},
   "source": [
    "Lembrando do método split de strings\n",
    "\n",
    "lista = texto.split(separador)"
   ]
  },
  {
   "cell_type": "code",
   "execution_count": null,
   "metadata": {},
   "outputs": [],
   "source": [
    "# A variavel \"produtos\" armazena um texto completo. Quero pegar cada item desse e colocar na lista. Quem permite fazer isso é o \"split\", principalmente quando você está lendo arquivos \"csv\" ou quando você está importando informações, as vezes de já vir separadas elas vem dessa forma abaixo como um texto único só que separado por vírgula\n",
    "produtos = 'apple tv, mac, iphone x, iphone 11, Ipad, apple watch, mac book, airpods'\n",
    "\n",
    "#Criando uma nova lista\n",
    "#Dessa forma o split pega o delimitador \"virgula\" que a gente tinha e ele separa os itens por esse delimitador\n",
    "lista= produtos.split(',')\n",
    "\n",
    "print(lista)\n",
    "print('=-=-=' * 15)\n",
    "#Retirando o espaço depois da virgula \n",
    "lista= produtos.split(', ')\n",
    "\n",
    "print(lista)"
   ]
  },
  {
   "cell_type": "markdown",
   "metadata": {},
   "source": [
    "# Alterações \"Incrementais\" de Variáveis\n",
    "\n",
    "# Estrutura\n",
    "- varíavel = varíavel + outro_valor\n",
    "Exemplo: \n",
    "\n",
    "soma_vendas = soma_vendas + 500\n",
    "\n",
    "# ou então\n",
    "- varíavel += outro_valor\n",
    "Exemplo: \n",
    "\n",
    "soma_vendas += 500"
   ]
  },
  {
   "cell_type": "code",
   "execution_count": 4,
   "metadata": {},
   "outputs": [
    {
     "name": "stdout",
     "output_type": "stream",
     "text": [
      "4000\n"
     ]
    }
   ],
   "source": [
    "#Exemplo:\n",
    "\n",
    "faturamento = 3000\n",
    "faturamento = faturamento + 1000 #Agora o valor da variavel \"faturamente\" será o antigo valor da variavel \"faturamento\"  que é 3000 mais o valor de 1000 totalizando 4000\n",
    "\n",
    "print(faturamento)"
   ]
  },
  {
   "cell_type": "code",
   "execution_count": 3,
   "metadata": {},
   "outputs": [
    {
     "name": "stdout",
     "output_type": "stream",
     "text": [
      "lira@gmail.com\n"
     ]
    }
   ],
   "source": [
    "#Exemplo: Também é possível fazer com texto\n",
    "\n",
    "email = 'lira@gmail'\n",
    "email = email + '.com'\n",
    "\n",
    "print(email)"
   ]
  },
  {
   "cell_type": "markdown",
   "metadata": {},
   "source": [
    "Exemplo: Vamos adicionar às variáveis criadas o Produto IPad, 500 vendas"
   ]
  },
  {
   "cell_type": "code",
   "execution_count": 5,
   "metadata": {},
   "outputs": [
    {
     "name": "stdout",
     "output_type": "stream",
     "text": [
      "['mac', 'iphone', 'Ipad']\n"
     ]
    }
   ],
   "source": [
    "lista = ['mac', 'iphone']\n",
    "vendas = [100, 200]\n",
    "#Adicionando o produto IPAD na lista\n",
    "\n",
    "#Poderiamos fazer dessa primeira maneira para adicionar o produto/item na lista\n",
    "#lista.append('Ipad')\n",
    "\n",
    "#Outra forma de adicionar o item/produto IPAD na lista utilizando \"Alterações Incrementais de Variáveis\"\n",
    "#No código abaixo estou fazendo exatamente isso \"listanova = lista1 + lista2\", ou seja, o novo valor da minha variavel lista, vai ser o antigo valor mais a lista que tem o item/produto \"Ipad\"\n",
    "lista = lista + ['Ipad']\n",
    "\n",
    "print(lista)"
   ]
  },
  {
   "cell_type": "code",
   "execution_count": 6,
   "metadata": {},
   "outputs": [
    {
     "name": "stdout",
     "output_type": "stream",
     "text": [
      "800\n"
     ]
    }
   ],
   "source": [
    "#Alterando o valor da variavel soma_vendas, pois quero acrescentar o valor do IPAD que colocamos na lista\n",
    "soma_vendas = 300\n",
    "#Adicionando na soma a quantidade de IPad\n",
    "soma_vendas = soma_vendas + 500 #Adicionando a variavel soma_vendas o valor antigo da variavel soma_vendas mais o valor 500, totalizando 800\n",
    "print(soma_vendas)\n"
   ]
  },
  {
   "cell_type": "code",
   "execution_count": 12,
   "metadata": {},
   "outputs": [
    {
     "name": "stdout",
     "output_type": "stream",
     "text": [
      "Esse mês vendemos um total de 800 produtos, sendo:\n",
      "100 unidades de mac\n",
      "200 unidades de iphone\n",
      "500 unidades de Ipad\n"
     ]
    }
   ],
   "source": [
    "\n",
    "email = 'Esse mês vendemos um total de {} produtos, sendo:\\n{} unidades de {}\\n{} unidades de {}'.format(soma_vendas, vendas[0], lista[0], vendas[1], lista[1])\n",
    "#Quero adicionar no texto desse e-mail, tantas unidades de Ipad \n",
    "\n",
    "email = email + '\\n{} unidades de Ipad'.format(500) #Estou fazendo alterações incrementais na variavel, estou pegando o valor antigo da variavel é adicionando algo nela\n",
    "\n",
    "print(email)"
   ]
  },
  {
   "cell_type": "markdown",
   "metadata": {},
   "source": [
    "# Copiar e \"Igualdade\" de Listas\n",
    "\n",
    "### Estrutura:\n",
    "\n",
    "- Quando fazemos:\n",
    "lista2 = lista1\n",
    "não estamos criando uma lista nova chamada lista2, que tem os mesmos valores da lista1. Na verdade temos uma única lista que tem duas variaveis que aponta para mesma lista, isso que dizer que elas ainda estão ligadas se modificar uma lista vai modificar a outra lista.mas estamos atribuindo outra variável à mesma lista.\n",
    "\n",
    "- Se quisermos copiar lista devemos fazer\n",
    "lista2 = lista1.copy()\n",
    "ou entao\n",
    "lista2 = lista1[:]\n",
    "\n",
    "Para entender bem isso, vamos ver na prática:"
   ]
  },
  {
   "cell_type": "code",
   "execution_count": 13,
   "metadata": {},
   "outputs": [
    {
     "name": "stdout",
     "output_type": "stream",
     "text": [
      "['ipad', 'iphone x', 'apple tv']\n",
      "['ipad', 'iphone x', 'apple tv']\n"
     ]
    }
   ],
   "source": [
    "#Quero criar uma cópia da lista de nome \"lista\"\n",
    "lista = ['ipad', 'iphone x', 'apple tv']\n",
    "lista2 = lista #Atribuindo o valor da lista de nome \"lista\" a variavel \"lista2\", se modificar a lista \"lista\" a \"lista2\" também será modificada\n",
    "\n",
    "print(lista)\n",
    "print(lista2)"
   ]
  },
  {
   "cell_type": "code",
   "execution_count": 14,
   "metadata": {},
   "outputs": [
    {
     "name": "stdout",
     "output_type": "stream",
     "text": [
      "['ipad', 'iphone 11', 'apple tv']\n",
      "['ipad', 'iphone 11', 'apple tv']\n"
     ]
    }
   ],
   "source": [
    "#Agora vou modificar, ou seja, vou retirar \"iphone x\" devido ter saido de linha e vou vender agora o \"iphone 11\" da lista de nome \"lista\"\n",
    "lista = ['ipad', 'iphone x', 'apple tv']\n",
    "lista2 = lista #Atribuindo o valor da lista de nome \"lista\" a variavel \"lista2\", ou seja, aqui quando modificamos uma lista  estamos automaticamente modificando a outra e vice-versa\n",
    "\n",
    "lista[1] = 'iphone 11'\n",
    "\n",
    "print(lista)\n",
    "print(lista2)"
   ]
  },
  {
   "cell_type": "code",
   "execution_count": null,
   "metadata": {},
   "outputs": [],
   "source": [
    "#### Agora copiando, ou seja, FAZENDO UMA CÓPIA DA LISTA\n",
    "\n",
    "#Quero ter uma lista original que seria a lista de nome \"lista\", mas quero ter uma lista de nome \"lista2\" para modificar ela sem impactar a minha lista original.\n",
    "#Para fazer isso podemos utilizar o método .copy() ou você pode  \"lista2 = lista1[:]\" igualar a lista2 a todo conteudo da lista1"
   ]
  },
  {
   "cell_type": "code",
   "execution_count": 1,
   "metadata": {},
   "outputs": [
    {
     "name": "stdout",
     "output_type": "stream",
     "text": [
      "['ipad', 'iphone x', 'apple tv']\n",
      "['ipad', 'iphone x', 'apple tv']\n"
     ]
    }
   ],
   "source": [
    "lista = ['ipad', 'iphone x', 'apple tv']\n",
    "lista2 = lista.copy()\n",
    "\n",
    "print(lista)\n",
    "print(lista2)"
   ]
  },
  {
   "cell_type": "code",
   "execution_count": 2,
   "metadata": {},
   "outputs": [
    {
     "name": "stdout",
     "output_type": "stream",
     "text": [
      "['ipad', 'iphone 11', 'apple tv']\n",
      "['ipad', 'iphone x', 'apple tv']\n"
     ]
    }
   ],
   "source": [
    "lista = ['ipad', 'iphone x', 'apple tv']\n",
    "lista2 = lista.copy()\n",
    "\n",
    "lista[1] = 'iphone 11' #Estou alterando de iphone x para iphone 11  o item de indice 1 da lista de nome \"lista\"\n",
    "\n",
    "print(lista)\n",
    "print(lista2)\n",
    "\n",
    "#Agora a lista de nome \"lista\" e a lista de nome \"lista2\", são agora variaveis independentes.\n",
    "#Quando criei a \"lista2\" ela era uma cópia da lista de nome \"lista\", mas a partir do momento que você modificar alguma dessas lista, elas não terão itens dentro dela identicos"
   ]
  },
  {
   "cell_type": "code",
   "execution_count": 3,
   "metadata": {},
   "outputs": [
    {
     "name": "stdout",
     "output_type": "stream",
     "text": [
      "['ipad', 'iphone x', 'apple tv']\n",
      "['ipad']\n"
     ]
    }
   ],
   "source": [
    "#Observação:\n",
    "\n",
    "lista = ['ipad', 'iphone x', 'apple tv']\n",
    "lista2 = lista[:1]#Caso eu queira pegar todos os itens até o iphone x,ou seja, pegar todos os itens até o indice 1, faço da seguinte maneira\n",
    "\n",
    "print(lista)\n",
    "print(lista2)"
   ]
  },
  {
   "cell_type": "code",
   "execution_count": 4,
   "metadata": {},
   "outputs": [
    {
     "name": "stdout",
     "output_type": "stream",
     "text": [
      "['ipad', 'iphone 11', 'apple tv']\n",
      "['ipad', 'iphone x', 'apple tv']\n"
     ]
    }
   ],
   "source": [
    "lista = ['ipad', 'iphone x', 'apple tv']\n",
    "lista2 = lista[:] #Quero pegar todos os itens da lista. Quero que a minha lista 2, seja todos os itens da lista de nome \"lista\", ou seja, é a mesma coisa que copiar\n",
    "\n",
    "lista[1] = 'iphone 11'\n",
    "\n",
    "print(lista)\n",
    "print(lista2)"
   ]
  },
  {
   "cell_type": "code",
   "execution_count": null,
   "metadata": {},
   "outputs": [],
   "source": [
    "nome = input('Digite seu nome: ')\n",
    "for x in range(10):\n",
    "  print(f'{x+1} {nome}')"
   ]
  },
  {
   "cell_type": "markdown",
   "metadata": {},
   "source": [
    "# Listas de Listas\n",
    "\n",
    "# Estrutura:\n",
    "\n",
    "Cada item de uma lista pode ser qualquer tipo de variável. Inclusive, uma lista.\n",
    "Quando dentro de uma lista temos cada item como sendo outra lista, temos um \"nested list\", ou seja, uma lista de listas.\n",
    "Todas as regras de lista e tudo que vimos até agora funciona exatamente igual, mas vamos ver como isso funciona na prática"
   ]
  },
  {
   "cell_type": "code",
   "execution_count": 6,
   "metadata": {},
   "outputs": [],
   "source": [
    "vendedores = ['Lira', 'João', 'Diego', 'Alon']\n",
    "produtos = ['ipad', 'iphone']\n",
    "vendas = [\n",
    "  [100, 200],\n",
    "  [300, 500],\n",
    "  [50, 1000],\n",
    "  [900, 10],\n",
    "]"
   ]
  },
  {
   "cell_type": "markdown",
   "metadata": {},
   "source": [
    "# Quando João vendeu de Ipad?\n",
    "# Quando Diego vendeu de Iphone?\n",
    "# Qual o total de vendas de Iphone?"
   ]
  },
  {
   "cell_type": "code",
   "execution_count": 14,
   "metadata": {},
   "outputs": [
    {
     "name": "stdout",
     "output_type": "stream",
     "text": [
      "300\n"
     ]
    }
   ],
   "source": [
    "# Quando João vendeu de Ipad?\n",
    "vendas_ipad_joao = vendas[1][0]\n",
    "print(vendas_ipad_joao)"
   ]
  },
  {
   "cell_type": "code",
   "execution_count": 13,
   "metadata": {},
   "outputs": [
    {
     "name": "stdout",
     "output_type": "stream",
     "text": [
      "João vendeu 300 unidades de ipad e 500 unidades de iphone \n"
     ]
    }
   ],
   "source": [
    "# Quando João vendeu de Ipad?\n",
    "print(f'{vendedores[1]} vendeu {vendas[1][0]} unidades de {produtos[0]} e {vendas[1][1]} unidades de {produtos[1]} ')\n",
    "\n",
    "#Explicando esse comando \"vendas[1][0]\"\n",
    "#Estou pegando da minha lista de vendas, o item de índice 1 que é uma lista e dentro dessa lista estou pegando o indice 0"
   ]
  },
  {
   "cell_type": "code",
   "execution_count": 15,
   "metadata": {},
   "outputs": [
    {
     "name": "stdout",
     "output_type": "stream",
     "text": [
      "Diego vendeu 1000 unidades de iphone\n"
     ]
    }
   ],
   "source": [
    "# Quando Diego vendeu de Iphone?\n",
    "\n",
    "print(f'{vendedores[2]} vendeu {vendas[2][1]} unidades de {produtos[1]}')"
   ]
  },
  {
   "cell_type": "code",
   "execution_count": 16,
   "metadata": {},
   "outputs": [
    {
     "name": "stdout",
     "output_type": "stream",
     "text": [
      "O total de vendas de iphone foi 1710\n"
     ]
    }
   ],
   "source": [
    "# Qual o total de vendas de Iphone?\n",
    "total_vendas_iphone = vendas[0][1] + vendas[1][1] + vendas[2][1] + vendas[3][1]\n",
    "print(f'O total de vendas de {produtos[1]} foi {total_vendas_iphone}')"
   ]
  },
  {
   "cell_type": "markdown",
   "metadata": {},
   "source": [
    "# E se Lira na verdade fez apenas 50 vendas de Iphone, como eu modifico na minha lista o valor de vendas dele?"
   ]
  },
  {
   "cell_type": "code",
   "execution_count": 17,
   "metadata": {},
   "outputs": [
    {
     "name": "stdout",
     "output_type": "stream",
     "text": [
      "[[100, 50], [300, 500], [50, 1000], [900, 10]]\n"
     ]
    }
   ],
   "source": [
    "vendedores = ['Lira', 'João', 'Diego', 'Alon']\n",
    "produtos = ['ipad', 'iphone']\n",
    "vendas = [\n",
    "  [100, 200],\n",
    "  [300, 500],\n",
    "  [50, 1000],\n",
    "  [900, 10],\n",
    "]\n",
    "vendas[0][1] = 50\n",
    "\n",
    "print(vendas)"
   ]
  },
  {
   "cell_type": "markdown",
   "metadata": {},
   "source": [
    "# E se agora eu tenho um novo produto 'mac', como eu adiciono as vendas em cada um dos vendedores?"
   ]
  },
  {
   "cell_type": "code",
   "execution_count": 21,
   "metadata": {},
   "outputs": [
    {
     "name": "stdout",
     "output_type": "stream",
     "text": [
      "[[100, 200, 10], [300, 500, 15], [50, 1000, 6], [900, 10, 70]]\n"
     ]
    }
   ],
   "source": [
    "vendedores = ['Lira', 'João', 'Diego', 'Alon']\n",
    "produtos = ['ipad', 'iphone']\n",
    "vendas = [\n",
    "  [100, 200],\n",
    "  [300, 500],\n",
    "  [50, 1000],\n",
    "  [900, 10],\n",
    "]\n",
    "vendas_mac = [10, 15, 6, 70]\n",
    "vendas[0].append(vendas_mac[0]) # O método .append() é usado para adicionar o valor 10 (que está em vendas_mac[0]) à primeira sublista de vendas (que é [100, 200]).\n",
    "# O comando vendas[0].append(vendas_mac[0]) adiciona o número 10 à primeira sublista de vendas, deixando vendas[0] igual a [100, 200, 10].\n",
    "\n",
    "vendas[1].append(vendas_mac[1])\n",
    "vendas[2].append(vendas_mac[2])\n",
    "vendas[3].append(vendas_mac[3])\n",
    "\n",
    "print(vendas)"
   ]
  },
  {
   "cell_type": "code",
   "execution_count": 19,
   "metadata": {},
   "outputs": [
    {
     "name": "stdout",
     "output_type": "stream",
     "text": [
      "[[100, 200, 1], [300, 500], [50, 1000], [900, 10]]\n"
     ]
    }
   ],
   "source": [
    "vendas = [\n",
    "  [100, 200],\n",
    "  [300, 500],\n",
    "  [50, 1000],\n",
    "  [900, 10],\n",
    "]\n",
    "vendas_mac = [10, 15, 6, 70]\n",
    "vendas[0].append(1)     \n",
    "\n",
    "########### Explicação\n",
    "# vendas[0]: Isso se refere à primeira sublista de vendas, ou seja, à lista [100, 200].\n",
    "# O método .append(1) é utilizado para adicionar o valor 1 ao final da primeira sublista de vendas.\n",
    "# Então, ao executar esse comando, o valor 1 será adicionado ao final de vendas[0], que era [100, 200], e a sublista se tornará:\n",
    "# [100, 200, 1]\n",
    "\n",
    "print(vendas)"
   ]
  },
  {
   "cell_type": "markdown",
   "metadata": {},
   "source": [
    "# Exercícios\n",
    "\n",
    "## 1. Mudança de Carga Tributária\n",
    "\n",
    "- Reformas e mudanças de cargas tributárias são bem comuns no Brasil.\n",
    "\n",
    "Digamos que você trabalhe em uma empresa de ecommerce\n",
    "\n",
    "No Brasil, o imposto sobre livros é zerado. De um ano para o outro, o governo criou um novo imposto que incide em 10% sobre o valor dos livros e agora você precisa alterar o registro dos preços dos livros da empresa para garantir que esse imposto vai ser repassado para o preço final do produto.\n",
    "\n",
    "Crie um código que recalcule o valor do livro da sua lista de produtos e ajuste na tabela.\n",
    "\n",
    "Além disso, calcule qual vai ser o impacto financeiro da criação desse imposto para a empresa (ou seja, quanto que o imposto vai aumentar de custo para a empresa)\n",
    "\n",
    "Obs: para facilitar, colocamos apenas 1 livro na lista, mas em breve vamos aprender um for que vai adaptar esse cenário para qualquer quantidade de livros na sua lista.\n",
    "\n",
    "Obs2: Seu código deve funcionar mesmo que não haja livros na lista de produtos da empresa"
   ]
  },
  {
   "cell_type": "code",
   "execution_count": 49,
   "metadata": {},
   "outputs": [
    {
     "name": "stdout",
     "output_type": "stream",
     "text": [
      "Vamos pagar de imposto a mais: R$200,000.0\n"
     ]
    }
   ],
   "source": [
    "#10% valor dos livros\n",
    "#verificar o custo desse aumento\n",
    "\n",
    "produtos = ['computador', 'livro', 'tablet', 'celular', 'tv', 'ar condicionado', 'alexa', 'máquina de café', 'kindle']\n",
    "\n",
    "#cada item da lista dos produtos corresponde a quantidade de vendas no mês e preço, nessa ordem\n",
    "produtos_ecommerce = [\n",
    "    [10000, 2500],\n",
    "    [50000, 40],\n",
    "    [7000, 1200],\n",
    "    [20000, 1500],\n",
    "    [5800, 1300],\n",
    "    [7200, 2500],\n",
    "    [200, 800],\n",
    "    [3300, 700],\n",
    "    [1900, 400]\n",
    "]\n",
    "\n",
    "#Verifica se o produto 'livro' está presente na lista produtos. Se verdadeiro, executa o bloco de código\n",
    "if 'livro' in produtos: \n",
    "  # Localizando o índice do produto \"livro\" na lista produtos, indice será 1\n",
    "  indice_livro = produtos.index('livro') \n",
    "  \n",
    "  #multiplicar 50000 * 40 = 200000\n",
    "  total_antigo = produtos_ecommerce[indice_livro][0] * produtos_ecommerce[indice_livro][1] \n",
    "\n",
    "    #Aumentando o valor do produto em 10% que está na lista \"produtos_ecommerce\" de índice [1][1]\n",
    "  produtos_ecommerce[indice_livro][1] = produtos_ecommerce[indice_livro][1] * 1.1 \n",
    "\n",
    "  #multiplicar 50000 * 44 = 220000, para descobrir o valor do \"novo total\"\n",
    "  novo_total = produtos_ecommerce[indice_livro][0] * produtos_ecommerce[indice_livro][1]\n",
    "\n",
    "  print('Vamos pagar de imposto a mais: R${:,}'.format(novo_total - total_antigo))\n",
    " \n"
   ]
  },
  {
   "cell_type": "markdown",
   "metadata": {},
   "source": [
    "# Exercícios\n",
    "\n",
    "## 1. Faturamento do Melhor e do Pior Mês do Ano\n",
    "\n",
    "Qual foi o valor de vendas do melhor mês do Ano?\n",
    "E valor do pior mês do ano?"
   ]
  },
  {
   "cell_type": "code",
   "execution_count": null,
   "metadata": {},
   "outputs": [],
   "source": [
    "meses = ['jan', 'fev', 'mar', 'abr', 'mai', 'jun', 'jul', 'ago', 'set', 'out', 'nov', 'dez']\n",
    "vendas_1sem = [25000, 29000, 22200, 17750, 15870, 19900]\n",
    "vendas_2sem = [19850, 20120, 17540, 15555, 49051, 9650]\n",
    "\n",
    "\n",
    "#vendas = [1000, 1500, 15000, 270, 900, 100, 1200]\n",
    "\n",
    "#produto_mais_vendido = max(vendas)\n",
    "#print('O valor do produto mais vendido é {} unidades'.format(produto_mais_vendido))\n",
    "\n",
    "#produto_menos_vendido = min(vendas)\n",
    "#print('O valor do produto menos vendido é {} unidades'.format(produto_menos_vendido))"
   ]
  },
  {
   "cell_type": "markdown",
   "metadata": {},
   "source": [
    "## 2. Continuação\n",
    "\n",
    "Agora relacione as duas listas para printar 'O melhor mês do ano foi {} com {} vendas' e o mesmo para o pior mês do ano.\n",
    "\n",
    "Calcule também o faturamento total do Ano e quanto que o melhor mês representou do faturamento total.\n",
    "\n",
    "Obs: Para o faturamento total, pode usar a função sum(lista) que soma todos os itens de uma lista"
   ]
  },
  {
   "cell_type": "markdown",
   "metadata": {},
   "source": [
    "## 3. Crie uma lista com o top 3 valores de vendas do ano (sem fazer \"no olho\")\n",
    "\n",
    "Dica: o método remove retira um item da lista."
   ]
  },
  {
   "cell_type": "code",
   "execution_count": null,
   "metadata": {},
   "outputs": [],
   "source": [
    "top3 = []"
   ]
  },
  {
   "cell_type": "markdown",
   "metadata": {},
   "source": [
    "                                        # TUPLA\n",
    "\n",
    "A tupla é uma coleção ordenada e imutável de elementos. Isso significa que, uma vez criada, não podemos modificar seus elementos. Podemos criar uma tupla usando parênteses e acessar seus elementos da mesma forma que uma lista. Além disso, a tupla possui dois métodos úteis: o método count, que retorna a quantidade de vezes que um elemento aparece na tupla, e o método índice, que retorna o índice da primeira ocorrência de um elemento na tupla. "
   ]
  },
  {
   "cell_type": "code",
   "execution_count": null,
   "metadata": {},
   "outputs": [],
   "source": [
    "# Criando uma tupla de exemplo\n",
    "\n",
    "minha_tupla = (1, 2, 2,  3, 4)\n",
    "\n",
    "print(\"Minha Tupla:\", minha_tupla)\n",
    "\n",
    "#Não é possível mudar o valor da Tupla\n",
    "#Sera retornado o valor \"1\"\n",
    "print(\"Minha tupla[0]:\",minha_tupla[0])\n",
    "\n",
    "#Sera retornado o valor \"2\", porque estou utilizando o índice 2\n",
    "print(\"Minha tupla[2]:\",minha_tupla[2])\n",
    "\n",
    "#Será retornado o último elemento da Tupla\n",
    "print(\"Minha tupla[-1]:\",minha_tupla[-1])\n",
    "\n",
    "#Count é o elemento que retorna a quantidade de vezes que um elemento aparece na tupla\n",
    "\n",
    "contagem = minha_tupla.count(2)\n",
    "print(\"Quantidade de vezes que o elemento 2 aparece na Tupla: \",contagem,\"vezes\")\n",
    "\n",
    "#index\n",
    "#Quero descobrir o índice do elemento 3\n",
    "indice = minha_tupla.index(3)\n",
    "print(\"Indice da primeira ocorrência do elemento 3:\", indice)"
   ]
  }
 ],
 "metadata": {
  "kernelspec": {
   "display_name": ".venv",
   "language": "python",
   "name": "python3"
  },
  "language_info": {
   "codemirror_mode": {
    "name": "ipython",
    "version": 3
   },
   "file_extension": ".py",
   "mimetype": "text/x-python",
   "name": "python",
   "nbconvert_exporter": "python",
   "pygments_lexer": "ipython3",
   "version": "3.10.4"
  }
 },
 "nbformat": 4,
 "nbformat_minor": 2
}
