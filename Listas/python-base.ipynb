{
 "cells": [
  {
   "cell_type": "markdown",
   "metadata": {},
   "source": [
    "                            ========== LISTAS EM PYTHON ========== \n",
    "\n",
    "Estrutura:\n",
    "\n",
    "lista = [valor, valor, valor, valor, ..]\n",
    "\n",
    "\n",
    "* Lista é um dos objetos mais importantes de Python, por isso vamos trabalhar bastante neles\n",
    "* Quando importamos uma base de dados para o Python, normalmente ele ё lido como uma \"lista\" ou como alguma \"variação de lista\"\n",
    "Listas em Python foram feitas para serem homogêneas, apesar aceitarem valores heterogêneos.\n",
    "Quando fala que a lista ser feita para ser homogênea, significa que a lista deve ser somente de texto/string, se for de número ser somente de número. Devemos evitar colocar uma lista de texto e números ao mesmo tempo dentro dela\n",
    "Exemplos de Lista:\n",
    "\n",
    "Listas de Produtos de uma Loja:"
   ]
  },
  {
   "cell_type": "code",
   "execution_count": null,
   "metadata": {},
   "outputs": [],
   "source": [
    "nome = 'celular' #Variaveis também funcionam dentro das listas\n",
    "produtos = ['tv', nome, 'mouse', 'teclado', 'tablet']\n",
    "print(produtos)"
   ]
  },
  {
   "cell_type": "markdown",
   "metadata": {},
   "source": [
    "Outra forma da lista de produtos de uma loja"
   ]
  },
  {
   "cell_type": "code",
   "execution_count": 31,
   "metadata": {},
   "outputs": [],
   "source": [
    "produtos = ['tv', \n",
    "            'celular',\n",
    "            'mouse',\n",
    "            'teclado',\n",
    "            'tablet',\n",
    "            ]"
   ]
  },
  {
   "cell_type": "markdown",
   "metadata": {},
   "source": [
    "Lista de Unidades Vendidas de cada Produto da Loja:"
   ]
  },
  {
   "cell_type": "code",
   "execution_count": 32,
   "metadata": {},
   "outputs": [],
   "source": [
    "vendas = [1000, 1500, 350, 270, 900]"
   ]
  },
  {
   "cell_type": "markdown",
   "metadata": {},
   "source": [
    "Criando uma lista vazia"
   ]
  },
  {
   "cell_type": "code",
   "execution_count": 33,
   "metadata": {},
   "outputs": [],
   "source": [
    "vendas = []"
   ]
  },
  {
   "cell_type": "markdown",
   "metadata": {},
   "source": [
    "lista[i] -> é o valor de índice \"i\" da lista\n",
    "Observação: Lembre-se que no python o índice começa em 0, então o primeiro item de uma lista é o item lista[0]\n",
    "\n",
    "Para substituir um valor de uma lista você pode fazer:\n",
    "lista[i] = novo_valor"
   ]
  },
  {
   "cell_type": "markdown",
   "metadata": {},
   "source": [
    "Nesse caso, as listas funcionam da seguinte forma:\n",
    "produtos = ['tv', 'celular', 'mouse', 'teclado', 'tablet']\n",
    "\n",
    "índice       0  ,  1       ,  2     ,  3       ,  4\n",
    "\n",
    "vendas = [   1000, 1500,      350,     270,       900]"
   ]
  },
  {
   "cell_type": "code",
   "execution_count": null,
   "metadata": {},
   "outputs": [],
   "source": [
    "# Pegando o índice de número 1 da lista produtos\n",
    "produtos = ['tv', 'celular', 'mouse', 'teclado', 'tablet']\n",
    "print(produtos[1])"
   ]
  },
  {
   "cell_type": "code",
   "execution_count": null,
   "metadata": {},
   "outputs": [],
   "source": [
    "# Pegando o índice de número 1 da lista vendas\n",
    "vendas = [1000, 1500, 350, 270, 900]\n",
    "print(vendas[1])"
   ]
  },
  {
   "cell_type": "code",
   "execution_count": 36,
   "metadata": {},
   "outputs": [
    {
     "name": "stdout",
     "output_type": "stream",
     "text": [
      "Vendas do produto celular foram de 1500 unidades\n"
     ]
    }
   ],
   "source": [
    "# Pegando o índice de número 1 da lista vendas e o índice de número 1 da lista produtos e mostrando na tela\n",
    "print('Vendas do produto {} foram de {} unidades'.format(produtos[1], vendas[1]))"
   ]
  },
  {
   "cell_type": "code",
   "execution_count": null,
   "metadata": {},
   "outputs": [],
   "source": [
    "#O indice de número 3 da lista de vendas é o valor 270\n",
    "print(vendas)\n",
    "#Modificando o valor do indice de número 3 da lista de vendas para o valor 300\n",
    "vendas[3] = 300\n",
    "print(vendas)\n",
    "## Pegando o índice de número 3 da lista vendas e o índice de número 3 da lista produtos e mostrando na tela \n",
    "print('Vendas do produto {} foram de {} unidades'.format(produtos[3], vendas[3]))\n"
   ]
  },
  {
   "cell_type": "markdown",
   "metadata": {},
   "source": [
    "IMPORTANTE: Uma string no python é como se fosse uma lista de texto\n",
    "A string no python é imutavel, ou seja, não é possível mudar o valor dela"
   ]
  },
  {
   "cell_type": "code",
   "execution_count": null,
   "metadata": {},
   "outputs": [],
   "source": [
    "#Estou querendo que mostre na tela, o indice de número 0 da variavel texto que será a letra \"l\"\n",
    "texto = 'lira@gmail.com'\n",
    "print(texto[0])"
   ]
  },
  {
   "cell_type": "markdown",
   "metadata": {},
   "source": [
    "IMPORTANTE: Nesse caso abaixo, estou exemplificando que não é possível mudar o valor de uma string. Apesar da string ser basicamente uma lista de caracteres, não é possível substituir um caracter pelo o outro como fazemos com a lista"
   ]
  },
  {
   "cell_type": "code",
   "execution_count": null,
   "metadata": {},
   "outputs": [],
   "source": [
    "#Modificando o caracter de indice 1 da variavel \"texto\"\n",
    "texto = 'lira@gmail.com'\n",
    "print(texto[1])\n",
    "\n",
    "#Tentando modificar a string, tentando modificar a string que está localizada no indice 1 de \"i\" para \"a\"\n",
    "texto[1] = 'a'\n",
    "print(texto)"
   ]
  },
  {
   "cell_type": "markdown",
   "metadata": {},
   "source": [
    "# Como descobrir o índice de um item de uma lista?\n",
    "\n",
    "i = lista.index('item')\n",
    "\n",
    "Exemplo:\n",
    "\n",
    "Digamos que você puxou do Banco de Dados da sua empresa uma lista com todos os produtos que a empresa vende e a quantidade em estoque de todos eles."
   ]
  },
  {
   "cell_type": "code",
   "execution_count": 1,
   "metadata": {},
   "outputs": [],
   "source": [
    "produtos = ['tv', 'celular', 'tablet', 'mouse', 'teclado', 'geladeira', 'forno']\n",
    "estoque = [100, 150, 100, 120, 70, 180, 80]"
   ]
  },
  {
   "cell_type": "markdown",
   "metadata": {},
   "source": [
    "Nesse caso a lista é \"pequena\" para fins didáticos, mas essa lista poderia ter dezenas de milhares de produtos diferentes.\n",
    "\n",
    "E agora, como eu faço para descobrir a quantidade em estoque do produto geladeira?"
   ]
  },
  {
   "cell_type": "code",
   "execution_count": null,
   "metadata": {},
   "outputs": [],
   "source": [
    "#Encontrar o índice do produto 'geladeira' na lista produtos.\n",
    "i = produtos.index('geladeira')\n",
    "\n",
    "#Usa o índice encontrado anteriormente para acessar a quantidade correspondente ao produto na lista \"estoque\" e armazena essa quantidade na variável qtde_estoque\n",
    "qtde_estoque = estoque[i]\n",
    "\n",
    "#Imprimir o índice encontrado.\n",
    "print('O índice do produto geladeira é {}'.format(i))\n",
    "\n",
    "#Exibe a quantidade em estoque do produto 'geladeira'.\n",
    "print('Quantidade em estoque da geladeira é de: {}'.format(qtde_estoque))\n",
    "\n",
    "#Usar o índice encontrado anteriormente para acessar a lista produto e exibir o seu nome.\n",
    "print(produtos[i])"
   ]
  },
  {
   "cell_type": "markdown",
   "metadata": {},
   "source": [
    "Crie um programa para fazer uma consulta de estoque. O usuário do programa deve inserir o nome do produto e, caso ele não exista na lista, ele deve ser avisado. Caso exista, o programa deve dizer a quantidade de unidades em estoque do produto"
   ]
  },
  {
   "cell_type": "code",
   "execution_count": null,
   "metadata": {},
   "outputs": [],
   "source": [
    "# 1° Vamos fazer um programa que pega informação do usuário e procura aquele item na lista"
   ]
  },
  {
   "cell_type": "code",
   "execution_count": null,
   "metadata": {},
   "outputs": [],
   "source": [
    "produtos = ['tv', 'celular', 'tablet', 'mouse', 'teclado', 'geladeira', 'forno']\n",
    "estoque = [100, 150, 100, 120, 70, 180, 80]\n",
    "\n",
    "nm_produto = input('Insiraa o nome do produto em letra minúscula')\n",
    "\n",
    "#Se o \"produto\" digitado é armazenado na variavel \"nm_produto\"  estiver na lista \"produtos\"\n",
    "if nm_produto in produtos: \n",
    "  #Descobrindo o índice do produto digitado \"nm_produto\" que está na lista \"produtos\"\n",
    "  i = produtos.index(nm_produto)\n",
    "\n",
    "  #Usa o índice encontrado anteriormente e armazenado na variavel \"i\" para acessar a quantidade correspondente ao produto que tem no estoque na lista \"estoque\" e armazena essa quantidade na variável qtde_estoque\n",
    "  qtde_estoque = estoque[i] #\n",
    "\n",
    "  print('Temos {} unidades de {} no estoque'.format(qtde_estoque,nm_produto))\n",
    "else:\n",
    "  print('{} não existe no estoque'.format(nm_produto))"
   ]
  },
  {
   "cell_type": "markdown",
   "metadata": {},
   "source": [
    "# Adicionar e Remover itens de uma lista\n",
    "\n",
    "Adicionar:\n",
    "lista.append(item)\n",
    "\n",
    "Remover:\n",
    "item_removido = lista.pop(indice)\n",
    "lista.remove(item)\n",
    "\n",
    "Digamos que você está construindo o controle de produtos da Apple.\n",
    "E a Apple lançou o IPhone 11 e irá doar seus estoques do IPhone X"
   ]
  },
  {
   "cell_type": "code",
   "execution_count": null,
   "metadata": {},
   "outputs": [],
   "source": [
    "produtos = ['apple tv', 'mac', 'iphone x', 'Ipad', 'apple watch', 'mac book', 'airpods']\n",
    "print(produtos)\n",
    "\n",
    "######## Trocar o valor atual pelo valor 'iphone 11' na lista \"produtos\" ######## \n",
    "produtos[2] = 'iphone 11' #Altera o terceiro elemento da lista produtos, substituindo o valor atual pelo valor 'iphone 11'. Esse método troca o elemento\n",
    "print(produtos)"
   ]
  },
  {
   "cell_type": "code",
   "execution_count": null,
   "metadata": {},
   "outputs": [],
   "source": [
    "######### Adicionar o iphone 12 na lista produtos ######## \n",
    "produtos.append('iphone 12')\n",
    "print(produtos)"
   ]
  },
  {
   "cell_type": "code",
   "execution_count": null,
   "metadata": {},
   "outputs": [],
   "source": [
    "#Remover o iphone 11 da lista de produtos, ou seja, do indice 2 utilizando o \"pop\"\n",
    "print(produtos)\n",
    "\n",
    "produtos.pop(2)\n",
    "\n",
    "print(produtos)"
   ]
  },
  {
   "cell_type": "code",
   "execution_count": null,
   "metadata": {},
   "outputs": [],
   "source": [
    "#Utilizando o \"pop\" podemos armazenar em uma variavel, o valor  que retiramos da lista\n",
    "#Remover o iphone 12 da lista de produtos, ou seja, do indice 7 utilizando o \"pop\"\n",
    "print(produtos)\n",
    "\n",
    "item_removido = produtos.pop(7)\n",
    "\n",
    "print('O produto removido foi {} da lista'.format(item_removido))\n",
    "print(produtos)"
   ]
  },
  {
   "cell_type": "code",
   "execution_count": null,
   "metadata": {},
   "outputs": [],
   "source": [
    "######### Remover o iphone 12 da lista de produtos utilizando o \"remove\" ######## \n",
    "print(produtos)\n",
    "\n",
    "produtos.remove('iphone 12')\n",
    "\n",
    "print(produtos)"
   ]
  },
  {
   "cell_type": "markdown",
   "metadata": {},
   "source": [
    "# Existem 2 formas de tratar o erro:\n",
    "\n",
    "1. Criar um if para evitar que ele aconteça\n"
   ]
  },
  {
   "cell_type": "code",
   "execution_count": null,
   "metadata": {},
   "outputs": [],
   "source": [
    "produtos = ['apple tv', 'mac', 'iphone x', 'Ipad', 'apple watch', 'mac book', 'airpods']\n",
    "print(produtos)\n",
    "\n",
    "# Remover o iphone x da lista de produtos\n",
    "produto_remover = 'iphonex'\n",
    "\n",
    "#Se o produto \"iphonex\" não estiver na lista de \"produtos\"\n",
    "if produto_remover in produtos:\n",
    "  produtos.remove('iphonex') #Remove esse produto da lista de \"produtos\"\n",
    "else:#Senão\n",
    "  print('{} não existe na lista de produtos'.format(produto_remover))\n",
    "\n",
    "#Como na lista tem \"iphone x\" e não tem \"iphonex\", diz que não tem na lista esse produto"
   ]
  },
  {
   "cell_type": "markdown",
   "metadata": {},
   "source": [
    "2. Esperar que ele possa acontecer e tratar caso o erro aconteça com:"
   ]
  },
  {
   "cell_type": "code",
   "execution_count": null,
   "metadata": {},
   "outputs": [],
   "source": [
    "produtos = ['apple tv', 'mac', 'iphone x', 'Ipad', 'apple watch', 'mac book', 'airpods']\n",
    "print(produtos)\n",
    "\n",
    "try:#tentar fazer\n",
    "    produtos.remover('iphonex') #Tento remover da lista o produto \"iphonex\"\n",
    "    print(produtos)\n",
    "except: #Caso dê errado, caso não exista esse produto na lista será impresso essa mensagem abaixo\n",
    "    print('iphonex não existe na lista de produtos')"
   ]
  },
  {
   "cell_type": "code",
   "execution_count": null,
   "metadata": {},
   "outputs": [],
   "source": [
    "produtos = ['apple tv', 'mac', 'iphone x', 'Ipad', 'apple watch', 'mac book', 'airpods']\n",
    "print(produtos)\n",
    "\n",
    "try:#tentar fazer\n",
    "    produtos.remove('iphone x') #Tento remover da lista o produto \"iphone x\"\n",
    "    print(produtos)\n",
    "except: #Caso não exista esse produto na lista de \"produtos\" será impresso essa mensagem abaixo\n",
    "    print('iphone x não existe na lista de produtos')"
   ]
  },
  {
   "cell_type": "code",
   "execution_count": null,
   "metadata": {},
   "outputs": [],
   "source": [
    "produtos = ['apple tv', 'mac', 'iphone x', 'Ipad', 'apple watch', 'mac book', 'airpods']\n",
    "print(produtos)\n",
    "\n",
    "try:#tentar fazer\n",
    "    produtos.remove('iphone x') #Tento remover da lista o produto \"iphone x\"\n",
    "    print(produtos)\n",
    "except: #Caso não exista esse produto na lista de \"produtos\" quero que faça nada e continue o cód\n",
    "    pass"
   ]
  },
  {
   "cell_type": "markdown",
   "metadata": {},
   "source": [
    "# Algumas funções básicas de lista\n",
    "# Tamanho da Lista\n",
    "\n",
    "tamanho = len(lista)"
   ]
  },
  {
   "cell_type": "code",
   "execution_count": null,
   "metadata": {},
   "outputs": [],
   "source": [
    "produtos = ['apple tv', 'mac', 'iphone x', 'Ipad', 'apple watch', 'mac book', 'airpods']\n",
    "\n",
    "############ Quantos produtos temos a venda? ############\n",
    "tamanho = len(produtos) #Qual é o tamanho da lista \"produtos\"\n",
    "\n",
    "print('Temos na lista de produtos {} produtos'.format(tamanho))"
   ]
  },
  {
   "cell_type": "markdown",
   "metadata": {},
   "source": [
    "# Maior e Menor Valor\n",
    "\n",
    "maior = max(lista)\n",
    "\n",
    "menor = min(lista)"
   ]
  },
  {
   "cell_type": "code",
   "execution_count": null,
   "metadata": {},
   "outputs": [],
   "source": [
    "vendas = [1000, 1500, 15000, 270, 900, 100, 1200]\n",
    "\n",
    "produto_mais_vendido = max(vendas)\n",
    "print('O valor do produto mais vendido é {} unidades'.format(produto_mais_vendido))\n",
    "\n",
    "produto_menos_vendido = min(vendas)\n",
    "print('O valor do produto menos vendido é {} unidades'.format(produto_menos_vendido))"
   ]
  },
  {
   "cell_type": "code",
   "execution_count": null,
   "metadata": {},
   "outputs": [],
   "source": [
    "produtos = ['apple tv', 'mac', 'iphone x', 'Ipad', 'apple watch', 'mac book', 'airpods']\n",
    "vendas = [1000, 1500, 15000, 270, 900, 100, 1200]\n",
    "\n",
    "produto_mais_vendido = max(vendas)\n",
    "\n",
    "produto_menos_vendido = min(vendas)\n",
    "\n",
    "############# Qual o item mais vendido? #############\n",
    "indice = vendas.index(produto_mais_vendido) #Descobrindo o índice do produto mais vendido\n",
    "\n",
    "#Descobrindo qual produto foi mais vendido, utilizando o indice descoberto anteriormente\n",
    "produto_mais_vendido = produtos[indice] \n",
    "\n",
    "print('O produto mais vendido é o \"{}\" de índice \"{}\"'.format(produto_mais_vendido,indice))\n",
    "\n",
    "############## Qual o item menos vendido? #############\n",
    "\n",
    "indice = vendas.index(produto_menos_vendido)#Descobrindo o índice do produto menos vendido\n",
    "\n",
    "produto_menos_vendido = produtos[indice]\n",
    "\n",
    "print('O produto menos vendido é o \"{}\" de índice \"{}\"'.format(produto_menos_vendido,indice))\n"
   ]
  },
  {
   "cell_type": "markdown",
   "metadata": {},
   "source": [
    "# Juntar Listas, Ordenar e Cuidados Especiais\n",
    "\n",
    "2 formas:\n",
    "- lista1.extend(lista2) #Estou pegando a lista2 e adicionando ela na lista 1, ou seja, a lista 1 será modificada\n",
    "\n",
    "- lista_nova = lista1 + lista2 #Criando uma nova lista chamada \"lista_nova\" que é a junção da lista1 mais a lista2\n",
    "\n",
    "Observação: o Método .append não junta listas, mas adiciona um valor no final da lista.\n",
    "O método .append adiciona um item no final da lista"
   ]
  },
  {
   "cell_type": "code",
   "execution_count": 1,
   "metadata": {},
   "outputs": [
    {
     "name": "stdout",
     "output_type": "stream",
     "text": [
      "['apple tv', 'mac', 'iphone x', 'iphone 11', 'Ipad', 'apple watch', 'mac book', 'airpods', 'iphone 12', 'ioculos']\n"
     ]
    }
   ],
   "source": [
    "#Estou adicionando a lista \"novos_produtos\" a lista \"produtos\"\n",
    "\n",
    "produtos = ['apple tv', 'mac','iphone x', 'iphone 11', 'Ipad', 'apple watch', 'mac book', 'airpods']\n",
    "novos_produtos = ['iphone 12', 'ioculos']\n",
    "\n",
    "produtos.extend(novos_produtos)\n",
    "print(produtos)"
   ]
  },
  {
   "cell_type": "code",
   "execution_count": null,
   "metadata": {},
   "outputs": [],
   "source": [
    "#Criando uma nova lista chamada \"todos_produtos\" que é a junção da lista de nome \"produtos\" mais a lista de nome \"novos_produtos\"\n",
    "\n",
    "produtos = ['apple tv', 'mac','iphone x', 'iphone 11', 'Ipad', 'apple watch', 'mac book', 'airpods']\n",
    "novos_produtos = ['iphone 12', 'ioculos']\n",
    "\n",
    "todos_produtos = produtos + novos_produtos\n",
    "print(todos_produtos)\n"
   ]
  },
  {
   "cell_type": "markdown",
   "metadata": {},
   "source": [
    "Exemplificando o porque não deve utilizar o método .append para juntar listas"
   ]
  },
  {
   "cell_type": "code",
   "execution_count": null,
   "metadata": {},
   "outputs": [],
   "source": [
    "produtos = ['apple tv', 'mac','iphone x', 'iphone 11', 'Ipad', 'apple watch', 'mac book', 'airpods']\n",
    "novos_produtos = ['iphone 12', 'ioculos']\n",
    "\n",
    "\n",
    "#Quando usamos o método .append estamos adicionando um valor no final da lista \"produtos\", ou seja, o valor é a lista inteira de nome \"novos_produtos\" sendo adicionada. Estamos literalmente colocando uma lista dentro de outra lista quando utilizamos o .append\n",
    "produtos.append(novos_produtos)\n",
    "print(produtos)"
   ]
  },
  {
   "cell_type": "markdown",
   "metadata": {},
   "source": [
    "Cuidado:\n",
    "\n",
    "- [1] + [2] não e a mesma coisa que 1 + 2, então cuidado sempre com o formato de valores na hora de fazer operações"
   ]
  },
  {
   "cell_type": "code",
   "execution_count": null,
   "metadata": {},
   "outputs": [],
   "source": [
    "produtos = ['apple tv', 'mac','iphone x', 'iphone 11', 'Ipad', 'apple watch', 'mac book', 'airpods']\n",
    "vendas = [1000, 1500, 15000, 20000, 270, 900, 100, 1200]\n",
    "\n",
    "#Quero saber o total de vendas de iphone, nesse caso só temos \"iphone x\" e \"iphone 11\"\n",
    "#Nessa linha abaixo estou somando a quantidade de iphone x com a de iphone 11.\n",
    "#Quando pegamos um item de uma lista através do indice, ele só retorna o valor, ele não dá uma lista que contem o valor\n",
    "total_iphone = vendas[2] + vendas[3]\n",
    "print(total_iphone)"
   ]
  },
  {
   "cell_type": "code",
   "execution_count": null,
   "metadata": {},
   "outputs": [],
   "source": [
    "#Criei duas listas com apenas um item em cada uma das listas\n",
    "vendas_iphonex = [15000]\n",
    "vendas_iphone11 = [20000]\n",
    "\n",
    "#Dessa forma abaixo, será criado uma nova lista, não será somado os valores dos itens nas listas que estão armazenados nas variaveis\n",
    "total_iphone_listas = vendas_iphonex + vendas_iphone11\n",
    "print(total_iphone_listas)"
   ]
  },
  {
   "cell_type": "code",
   "execution_count": null,
   "metadata": {},
   "outputs": [],
   "source": [
    "#Outro exemplo\n",
    "#Tenho duas listas que tem somente um item só em cada lista, é quero somar os valores das duas listas\n",
    "vendas_iphonex = [15000]\n",
    "vendas_iphone11 = [20000]\n",
    "\n",
    "#Tenho que informar o índice do item que quero somar em cada lista.\n",
    "#Nesse caso abaixo quero somar o item de indice 0 da lista \"vendas_iphonex\" com o item de indice 0 da lista \"vendas_iphone11\"\n",
    "total_iphone_listas = vendas_iphonex[0] + vendas_iphone11[0]\n",
    "print(total_iphone_listas)\n"
   ]
  },
  {
   "cell_type": "markdown",
   "metadata": {},
   "source": [
    "Ordenar valores de uma lista\n",
    "Ordernar é colocar os valores em ordem alfabetica\n",
    "Colocar os valores do maior para o menor ou vice-versa\n",
    "\n",
    "lista.sort()"
   ]
  },
  {
   "cell_type": "code",
   "execution_count": null,
   "metadata": {},
   "outputs": [],
   "source": [
    "produtos = ['apple tv', 'mac','iphone x', 'iphone 11', 'Ipad', 'apple watch', 'mac book', 'airpods']\n",
    "\n",
    "#Ordenando a lvariavel de \"produtos\" que tem uma lista com produtos em ordem alfabetica.\n",
    "# O resultado não é alfabetica, devido o python fazer diferença letras maiusculas e letras minusculas. O \"Ipad\" está em primeiro, devido o \"I\" está em letra maiuscula.\n",
    "# A ordem que o python usa  é a da tabela ASCII, nessa tabela diz que as letras maiusculas vem primeiro do que as letras minusculas\n",
    "produtos.sort()\n",
    "print(produtos)"
   ]
  },
  {
   "cell_type": "code",
   "execution_count": null,
   "metadata": {},
   "outputs": [],
   "source": [
    "vendas = [1000, 1500, 15000, 20000, 270, 900, 100, 1200]\n",
    "\n",
    "#Como é somente números, será ordenado do menor para o maior número\n",
    "vendas.sort()\n",
    "print(vendas)"
   ]
  },
  {
   "cell_type": "code",
   "execution_count": null,
   "metadata": {},
   "outputs": [],
   "source": [
    "vendas = [1000, 1500, 15000, 20000, 270, 900, 100, 1200]\n",
    "\n",
    "#Nesse caso como coloquei \"reverse=True\" será ordenado do maior para o menor número\n",
    "vendas.sort(reverse=True)\n",
    "print(vendas)"
   ]
  },
  {
   "cell_type": "markdown",
   "metadata": {},
   "source": [
    "# Print de Listas\n",
    "\n",
    "2 Opções:\n",
    "\n",
    "- print \"normal\"\n",
    "- método join -> texto.join(lista)"
   ]
  },
  {
   "cell_type": "code",
   "execution_count": null,
   "metadata": {},
   "outputs": [],
   "source": [
    "produtos = ['apple tv', 'mac','iphone x', 'iphone 11', 'Ipad', 'apple watch', 'mac book', 'airpods']\n",
    "print(produtos)\n",
    "print('=-=-=' * 15)\n",
    "# O join vai exibir todos os produtos que tenho na lista separando através de uma vírgula\n",
    "print(', '.join(produtos))\n",
    "print('=-=-=' * 15)\n",
    "#Outro exemplo\n",
    "print('; '.join(produtos))\n",
    "print('=-=-=' * 15)\n",
    "#Deixando cada produto em uma linha, exibindo cada produto em uma linha\n",
    "# \\n é o caracter do \"Enter\"\n",
    "print('\\n'.join(produtos))\n"
   ]
  },
  {
   "cell_type": "markdown",
   "metadata": {},
   "source": [
    "Lembrando do método split de strings\n",
    "\n",
    "lista = texto.split(separador)"
   ]
  },
  {
   "cell_type": "code",
   "execution_count": null,
   "metadata": {},
   "outputs": [],
   "source": [
    "# A variavel \"produtos\" armazena um texto completo. Quero pegar cada item desse e colocar na lista. Quem permite fazer isso é o \"split\", principalmente quando você está lendo arquivos \"csv\" ou quando você está importando informações, as vezes de já vir separadas elas vem dessa forma abaixo como um texto único só que separado por vírgula\n",
    "produtos = 'apple tv, mac, iphone x, iphone 11, Ipad, apple watch, mac book, airpods'\n",
    "\n",
    "#Criando uma nova lista\n",
    "#Dessa forma o split pega o delimitador \"virgula\" que a gente tinha e ele separa os itens por esse delimitador\n",
    "lista= produtos.split(',')\n",
    "\n",
    "print(lista)\n",
    "print('=-=-=' * 15)\n",
    "#Retirando o espaço depois da virgula \n",
    "lista= produtos.split(', ')\n",
    "\n",
    "print(lista)"
   ]
  },
  {
   "cell_type": "markdown",
   "metadata": {},
   "source": [
    "# Alterações \"Incrementais\" de Variáveis\n",
    "\n",
    "# Estrutura\n",
    "- varíavel = varíavel + outro_valor\n",
    "Exemplo: \n",
    "\n",
    "soma_vendas = soma_vendas + 500\n",
    "\n",
    "# ou então\n",
    "- varíavel += outro_valor\n",
    "Exemplo: \n",
    "\n",
    "soma_vendas += 500"
   ]
  },
  {
   "cell_type": "code",
   "execution_count": null,
   "metadata": {},
   "outputs": [],
   "source": [
    "#Exemplo:\n",
    "\n",
    "faturamento = 3000\n",
    "faturamento = faturamento + 1000 #Agora o valor da variavel \"faturamente\" será o antigo valor da variavel \"faturamento\"  que é 3000 mais o valor de 1000 totalizando 4000\n",
    "\n",
    "print(faturamento)"
   ]
  },
  {
   "cell_type": "code",
   "execution_count": null,
   "metadata": {},
   "outputs": [],
   "source": [
    "#Exemplo: Também é possível fazer com texto\n",
    "\n",
    "email = 'lira@gmail'\n",
    "email = email + '.com'\n",
    "\n",
    "print(email)"
   ]
  },
  {
   "cell_type": "markdown",
   "metadata": {},
   "source": [
    "Exemplo: Vamos adicionar às variáveis criadas o Produto IPad, 500 vendas"
   ]
  },
  {
   "cell_type": "code",
   "execution_count": null,
   "metadata": {},
   "outputs": [],
   "source": [
    "lista = ['mac', 'iphone']\n",
    "vendas = [100, 200]\n",
    "#Adicionando o produto IPAD na lista\n",
    "\n",
    "#Poderiamos fazer dessa primeira maneira para adicionar o produto/item na lista\n",
    "#lista.append('Ipad')\n",
    "\n",
    "#Outra forma de adicionar o item/produto IPAD na lista utilizando \"Alterações Incrementais de Variáveis\"\n",
    "#No código abaixo estou fazendo exatamente isso \"listanova = lista1 + lista2\", ou seja, o novo valor da minha variavel lista, vai ser o antigo valor mais a lista que tem o item/produto \"Ipad\"\n",
    "lista = lista + ['Ipad']\n",
    "\n",
    "print(lista)"
   ]
  },
  {
   "cell_type": "code",
   "execution_count": null,
   "metadata": {},
   "outputs": [],
   "source": [
    "#Alterando o valor da variavel soma_vendas, pois quero acrescentar o valor do IPAD que colocamos na lista\n",
    "soma_vendas = 300\n",
    "#Adicionando na soma a quantidade de IPad\n",
    "soma_vendas = soma_vendas + 500 #Adicionando a variavel soma_vendas o valor antigo da variavel soma_vendas mais o valor 500, totalizando 800\n",
    "print(soma_vendas)\n"
   ]
  },
  {
   "cell_type": "code",
   "execution_count": null,
   "metadata": {},
   "outputs": [],
   "source": [
    "\n",
    "email = 'Esse mês vendemos um total de {} produtos, sendo:\\n{} unidades de {}\\n{} unidades de {}'.format(soma_vendas, vendas[0], lista[0], vendas[1], lista[1])\n",
    "#Quero adicionar no texto desse e-mail, tantas unidades de Ipad \n",
    "\n",
    "email = email + '\\n{} unidades de Ipad'.format(500) #Estou fazendo alterações incrementais na variavel, estou pegando o valor antigo da variavel é adicionando algo nela\n",
    "\n",
    "print(email)"
   ]
  },
  {
   "cell_type": "markdown",
   "metadata": {},
   "source": [
    "# Copiar e \"Igualdade\" de Listas\n",
    "\n",
    "### Estrutura:\n",
    "\n",
    "- Quando fazemos:\n",
    "lista2 = lista1\n",
    "não estamos criando uma lista nova chamada lista2, que tem os mesmos valores da lista1. Na verdade temos uma única lista que tem duas variaveis que aponta para mesma lista, isso que dizer que elas ainda estão ligadas se modificar uma lista vai modificar a outra lista.mas estamos atribuindo outra variável à mesma lista.\n",
    "\n",
    "- Se quisermos copiar lista devemos fazer\n",
    "lista2 = lista1.copy()\n",
    "ou entao\n",
    "lista2 = lista1[:]\n",
    "\n",
    "Para entender bem isso, vamos ver na prática:"
   ]
  },
  {
   "cell_type": "code",
   "execution_count": null,
   "metadata": {},
   "outputs": [],
   "source": [
    "#Quero criar uma cópia da lista de nome \"lista\"\n",
    "lista = ['ipad', 'iphone x', 'apple tv']\n",
    "lista2 = lista #Atribuindo o valor da lista de nome \"lista\" a variavel \"lista2\", se modificar a lista \"lista\" a \"lista2\" também será modificada\n",
    "\n",
    "print(lista)\n",
    "print(lista2)"
   ]
  },
  {
   "cell_type": "code",
   "execution_count": null,
   "metadata": {},
   "outputs": [],
   "source": [
    "#Agora vou modificar, ou seja, vou retirar \"iphone x\" devido ter saido de linha e vou vender agora o \"iphone 11\" da lista de nome \"lista\"\n",
    "lista = ['ipad', 'iphone x', 'apple tv']\n",
    "lista2 = lista #Atribuindo o valor da lista de nome \"lista\" a variavel \"lista2\", ou seja, aqui quando modificamos uma lista  estamos automaticamente modificando a outra e vice-versa\n",
    "\n",
    "lista[1] = 'iphone 11'\n",
    "\n",
    "print(lista)\n",
    "print(lista2)"
   ]
  },
  {
   "cell_type": "code",
   "execution_count": null,
   "metadata": {},
   "outputs": [],
   "source": [
    "#### Agora copiando, ou seja, FAZENDO UMA CÓPIA DA LISTA\n",
    "\n",
    "#Quero ter uma lista original que seria a lista de nome \"lista\", mas quero ter uma lista de nome \"lista2\" para modificar ela sem impactar a minha lista original.\n",
    "#Para fazer isso podemos utilizar o método .copy() ou você pode  \"lista2 = lista1[:]\" igualar a lista2 a todo conteudo da lista1"
   ]
  },
  {
   "cell_type": "code",
   "execution_count": null,
   "metadata": {},
   "outputs": [],
   "source": [
    "lista = ['ipad', 'iphone x', 'apple tv']\n",
    "lista2 = lista.copy()\n",
    "\n",
    "print(lista)\n",
    "print(lista2)"
   ]
  },
  {
   "cell_type": "code",
   "execution_count": null,
   "metadata": {},
   "outputs": [],
   "source": [
    "lista = ['ipad', 'iphone x', 'apple tv']\n",
    "lista2 = lista.copy()\n",
    "\n",
    "lista[1] = 'iphone 11' #Estou alterando de iphone x para iphone 11  o item de indice 1 da lista de nome \"lista\"\n",
    "\n",
    "print(lista)\n",
    "print(lista2)\n",
    "\n",
    "#Agora a lista de nome \"lista\" e a lista de nome \"lista2\", são agora variaveis independentes.\n",
    "#Quando criei a \"lista2\" ela era uma cópia da lista de nome \"lista\", mas a partir do momento que você modificar alguma dessas lista, elas não terão itens dentro dela identicos"
   ]
  },
  {
   "cell_type": "code",
   "execution_count": null,
   "metadata": {},
   "outputs": [],
   "source": [
    "#Observação:\n",
    "\n",
    "lista = ['ipad', 'iphone x', 'apple tv']\n",
    "lista2 = lista[:1]#Caso eu queira pegar todos os itens até o iphone x,ou seja, pegar todos os itens até o indice 1, faço da seguinte maneira\n",
    "\n",
    "print(lista)\n",
    "print(lista2)"
   ]
  },
  {
   "cell_type": "code",
   "execution_count": null,
   "metadata": {},
   "outputs": [],
   "source": [
    "lista = ['ipad', 'iphone x', 'apple tv']\n",
    "lista2 = lista[:] #Quero pegar todos os itens da lista. Quero que a minha lista 2, seja todos os itens da lista de nome \"lista\", ou seja, é a mesma coisa que copiar\n",
    "\n",
    "lista[1] = 'iphone 11'\n",
    "\n",
    "print(lista)\n",
    "print(lista2)"
   ]
  },
  {
   "cell_type": "code",
   "execution_count": null,
   "metadata": {},
   "outputs": [],
   "source": [
    "nome = input('Digite seu nome: ')\n",
    "for x in range(10):\n",
    "  print(f'{x+1} {nome}')"
   ]
  },
  {
   "cell_type": "markdown",
   "metadata": {},
   "source": [
    "# Listas de Listas\n",
    "\n",
    "# Estrutura:\n",
    "\n",
    "Cada item de uma lista pode ser qualquer tipo de variável. Inclusive, uma lista.\n",
    "Quando dentro de uma lista temos cada item como sendo outra lista, temos um \"nested list\", ou seja, uma lista de listas.\n",
    "Todas as regras de lista e tudo que vimos até agora funciona exatamente igual, mas vamos ver como isso funciona na prática"
   ]
  },
  {
   "cell_type": "code",
   "execution_count": 6,
   "metadata": {},
   "outputs": [],
   "source": [
    "vendedores = ['Lira', 'João', 'Diego', 'Alon']\n",
    "produtos = ['ipad', 'iphone']\n",
    "vendas = [\n",
    "  [100, 200],\n",
    "  [300, 500],\n",
    "  [50, 1000],\n",
    "  [900, 10],\n",
    "]"
   ]
  },
  {
   "cell_type": "markdown",
   "metadata": {},
   "source": [
    "# Quando João vendeu de Ipad?\n",
    "# Quando Diego vendeu de Iphone?\n",
    "# Qual o total de vendas de Iphone?"
   ]
  },
  {
   "cell_type": "code",
   "execution_count": null,
   "metadata": {},
   "outputs": [],
   "source": [
    "# Quando João vendeu de Ipad?\n",
    "vendas_ipad_joao = vendas[1][0]\n",
    "print(vendas_ipad_joao)"
   ]
  },
  {
   "cell_type": "code",
   "execution_count": null,
   "metadata": {},
   "outputs": [],
   "source": [
    "# Quando João vendeu de Ipad?\n",
    "print(f'{vendedores[1]} vendeu {vendas[1][0]} unidades de {produtos[0]} e {vendas[1][1]} unidades de {produtos[1]} ')\n",
    "\n",
    "#Explicando esse comando \"vendas[1][0]\"\n",
    "#Estou pegando da minha lista de vendas, o item de índice 1 que é uma lista e dentro dessa lista estou pegando o indice 0"
   ]
  },
  {
   "cell_type": "code",
   "execution_count": null,
   "metadata": {},
   "outputs": [],
   "source": [
    "# Quando Diego vendeu de Iphone?\n",
    "\n",
    "print(f'{vendedores[2]} vendeu {vendas[2][1]} unidades de {produtos[1]}')"
   ]
  },
  {
   "cell_type": "code",
   "execution_count": null,
   "metadata": {},
   "outputs": [],
   "source": [
    "# Qual o total de vendas de Iphone?\n",
    "total_vendas_iphone = vendas[0][1] + vendas[1][1] + vendas[2][1] + vendas[3][1]\n",
    "print(f'O total de vendas de {produtos[1]} foi {total_vendas_iphone}')"
   ]
  },
  {
   "cell_type": "markdown",
   "metadata": {},
   "source": [
    "# E se Lira na verdade fez apenas 50 vendas de Iphone, como eu modifico na minha lista o valor de vendas dele?"
   ]
  },
  {
   "cell_type": "code",
   "execution_count": null,
   "metadata": {},
   "outputs": [],
   "source": [
    "vendedores = ['Lira', 'João', 'Diego', 'Alon']\n",
    "produtos = ['ipad', 'iphone']\n",
    "vendas = [\n",
    "  [100, 200],\n",
    "  [300, 500],\n",
    "  [50, 1000],\n",
    "  [900, 10],\n",
    "]\n",
    "vendas[0][1] = 50\n",
    "\n",
    "print(vendas)"
   ]
  },
  {
   "cell_type": "markdown",
   "metadata": {},
   "source": [
    "# E se agora eu tenho um novo produto 'mac', como eu adiciono as vendas em cada um dos vendedores?"
   ]
  },
  {
   "cell_type": "code",
   "execution_count": null,
   "metadata": {},
   "outputs": [],
   "source": [
    "vendedores = ['Lira', 'João', 'Diego', 'Alon']\n",
    "produtos = ['ipad', 'iphone']\n",
    "vendas = [\n",
    "  [100, 200],\n",
    "  [300, 500],\n",
    "  [50, 1000],\n",
    "  [900, 10],\n",
    "]\n",
    "vendas_mac = [10, 15, 6, 70]\n",
    "vendas[0].append(vendas_mac[0]) # O método .append() é usado para adicionar o valor 10 (que está em vendas_mac[0]) à primeira sublista de vendas (que é [100, 200]).\n",
    "# O comando vendas[0].append(vendas_mac[0]) adiciona o número 10 à primeira sublista de vendas, deixando vendas[0] igual a [100, 200, 10].\n",
    "\n",
    "vendas[1].append(vendas_mac[1])\n",
    "vendas[2].append(vendas_mac[2])\n",
    "vendas[3].append(vendas_mac[3])\n",
    "\n",
    "print(vendas)"
   ]
  },
  {
   "cell_type": "code",
   "execution_count": null,
   "metadata": {},
   "outputs": [],
   "source": [
    "vendas = [\n",
    "  [100, 200],\n",
    "  [300, 500],\n",
    "  [50, 1000],\n",
    "  [900, 10],\n",
    "]\n",
    "vendas_mac = [10, 15, 6, 70]\n",
    "vendas[0].append(1)     \n",
    "\n",
    "########### Explicação\n",
    "# vendas[0]: Isso se refere à primeira sublista de vendas, ou seja, à lista [100, 200].\n",
    "# O método .append(1) é utilizado para adicionar o valor 1 ao final da primeira sublista de vendas.\n",
    "# Então, ao executar esse comando, o valor 1 será adicionado ao final de vendas[0], que era [100, 200], e a sublista se tornará:\n",
    "# [100, 200, 1]\n",
    "\n",
    "print(vendas)"
   ]
  },
  {
   "cell_type": "markdown",
   "metadata": {},
   "source": [
    "# Exercícios\n",
    "\n",
    "## 1. Mudança de Carga Tributária\n",
    "\n",
    "- Reformas e mudanças de cargas tributárias são bem comuns no Brasil.\n",
    "\n",
    "Digamos que você trabalhe em uma empresa de ecommerce\n",
    "\n",
    "No Brasil, o imposto sobre livros é zerado. De um ano para o outro, o governo criou um novo imposto que incide em 10% sobre o valor dos livros e agora você precisa alterar o registro dos preços dos livros da empresa para garantir que esse imposto vai ser repassado para o preço final do produto.\n",
    "\n",
    "Crie um código que recalcule o valor do livro da sua lista de produtos e ajuste na tabela.\n",
    "\n",
    "Além disso, calcule qual vai ser o impacto financeiro da criação desse imposto para a empresa (ou seja, quanto que o imposto vai aumentar de custo para a empresa)\n",
    "\n",
    "Obs: para facilitar, colocamos apenas 1 livro na lista, mas em breve vamos aprender um for que vai adaptar esse cenário para qualquer quantidade de livros na sua lista.\n",
    "\n",
    "Obs2: Seu código deve funcionar mesmo que não haja livros na lista de produtos da empresa"
   ]
  },
  {
   "cell_type": "code",
   "execution_count": null,
   "metadata": {},
   "outputs": [],
   "source": [
    "#10% valor dos livros\n",
    "#verificar o custo desse aumento\n",
    "\n",
    "produtos = ['computador', 'livro', 'tablet', 'celular', 'tv', 'ar condicionado', 'alexa', 'máquina de café', 'kindle']\n",
    "\n",
    "#cada item da lista dos produtos corresponde a quantidade de vendas no mês e preço, nessa ordem\n",
    "produtos_ecommerce = [\n",
    "    [10000, 2500],\n",
    "    [50000, 40],\n",
    "    [7000, 1200],\n",
    "    [20000, 1500],\n",
    "    [5800, 1300],\n",
    "    [7200, 2500],\n",
    "    [200, 800],\n",
    "    [3300, 700],\n",
    "    [1900, 400]\n",
    "]\n",
    "\n",
    "#Verifica se o produto 'livro' está presente na lista produtos. Se verdadeiro, executa o bloco de código\n",
    "if 'livro' in produtos: \n",
    "  # Localizando o índice do produto \"livro\" na lista produtos, indice será 1\n",
    "  indice_livro = produtos.index('livro') \n",
    "  \n",
    "  #multiplicar 50000 * 40 = 200000\n",
    "  total_antigo = produtos_ecommerce[indice_livro][0] * produtos_ecommerce[indice_livro][1] \n",
    "\n",
    "    #Aumentando o valor do produto em 10% que está na lista \"produtos_ecommerce\" de índice [1][1]\n",
    "  produtos_ecommerce[indice_livro][1] = produtos_ecommerce[indice_livro][1] * 1.1 \n",
    "\n",
    "  #multiplicar 50000 * 44 = 220000, para descobrir o valor do \"novo total\"\n",
    "  novo_total = produtos_ecommerce[indice_livro][0] * produtos_ecommerce[indice_livro][1]\n",
    "\n",
    "  print('Vamos pagar de imposto a mais: R${:,}'.format(novo_total - total_antigo))\n",
    " \n"
   ]
  },
  {
   "cell_type": "markdown",
   "metadata": {},
   "source": [
    "# Exercícios\n",
    "\n",
    "## 1. Faturamento do Melhor e do Pior Mês do Ano\n",
    "\n",
    "Qual foi o valor de vendas do melhor mês do Ano?\n",
    "E valor do pior mês do ano?"
   ]
  },
  {
   "cell_type": "code",
   "execution_count": null,
   "metadata": {},
   "outputs": [],
   "source": [
    "meses = ['jan', 'fev', 'mar', 'abr', 'mai', 'jun', 'jul', 'ago', 'set', 'out', 'nov', 'dez']\n",
    "vendas_1sem = [25000, 29000, 22200, 17750, 15870, 19900]\n",
    "vendas_2sem = [19850, 20120, 17540, 15555, 49051, 9650]\n",
    "\n",
    "\n",
    "#vendas = [1000, 1500, 15000, 270, 900, 100, 1200]\n",
    "\n",
    "#produto_mais_vendido = max(vendas)\n",
    "#print('O valor do produto mais vendido é {} unidades'.format(produto_mais_vendido))\n",
    "\n",
    "#produto_menos_vendido = min(vendas)\n",
    "#print('O valor do produto menos vendido é {} unidades'.format(produto_menos_vendido))"
   ]
  },
  {
   "cell_type": "markdown",
   "metadata": {},
   "source": [
    "## 2. Continuação\n",
    "\n",
    "Agora relacione as duas listas para printar 'O melhor mês do ano foi {} com {} vendas' e o mesmo para o pior mês do ano.\n",
    "\n",
    "Calcule também o faturamento total do Ano e quanto que o melhor mês representou do faturamento total.\n",
    "\n",
    "Obs: Para o faturamento total, pode usar a função sum(lista) que soma todos os itens de uma lista"
   ]
  },
  {
   "cell_type": "markdown",
   "metadata": {},
   "source": [
    "## 3. Crie uma lista com o top 3 valores de vendas do ano (sem fazer \"no olho\")\n",
    "\n",
    "Dica: o método remove retira um item da lista."
   ]
  },
  {
   "cell_type": "code",
   "execution_count": null,
   "metadata": {},
   "outputs": [],
   "source": [
    "top3 = []"
   ]
  },
  {
   "cell_type": "markdown",
   "metadata": {},
   "source": [
    "                                        # TUPLA\n",
    "\n",
    "A tupla é uma coleção ordenada e imutável de elementos. Isso significa que, uma vez criada, não podemos modificar seus elementos. Podemos criar uma tupla usando parênteses e acessar seus elementos da mesma forma que uma lista. Além disso, a tupla possui dois métodos úteis: o método count, que retorna a quantidade de vezes que um elemento aparece na tupla, e o método índice, que retorna o índice da primeira ocorrência de um elemento na tupla. "
   ]
  },
  {
   "cell_type": "code",
   "execution_count": null,
   "metadata": {},
   "outputs": [],
   "source": [
    "# Criando uma tupla de exemplo\n",
    "\n",
    "minha_tupla = (1, 2, 2,  3, 4)\n",
    "\n",
    "print(\"Minha Tupla:\", minha_tupla)\n",
    "\n",
    "#Não é possível mudar o valor da Tupla\n",
    "#Sera retornado o valor \"1\"\n",
    "print(\"Minha tupla[0]:\",minha_tupla[0])\n",
    "\n",
    "#Sera retornado o valor \"2\", porque estou utilizando o índice 2\n",
    "print(\"Minha tupla[2]:\",minha_tupla[2])\n",
    "\n",
    "#Será retornado o último elemento da Tupla\n",
    "print(\"Minha tupla[-1]:\",minha_tupla[-1])\n",
    "\n",
    "#Count é o elemento que retorna a quantidade de vezes que um elemento aparece na tupla\n",
    "\n",
    "contagem = minha_tupla.count(2)\n",
    "print(\"Quantidade de vezes que o elemento 2 aparece na Tupla: \",contagem,\"vezes\")\n",
    "\n",
    "#index\n",
    "#Quero descobrir o índice do elemento 3\n",
    "indice = minha_tupla.index(3)\n",
    "print(\"Indice da primeira ocorrência do elemento 3:\", indice)"
   ]
  },
  {
   "cell_type": "markdown",
   "metadata": {},
   "source": [
    "# Dicionarios\n",
    "\n",
    "Um dicionário é uma coleção não ordenada de pares chave-valor. Podemos criar um dicionário usando chaves e armazenar informações dentro dele. Cada chave é importante para acessar a informação posteriormente. Podemos adicionar várias chaves e valores ao dicionário, inclusive outros dicionários. Podemos exibir o dicionário usando a função print e acessar os valores usando as chaves. Se tentarmos acessar uma chave que não existe, receberemos uma exceção KeyError. Podemos adicionar novas chaves ao dicionário mesmo depois de criá-lo. "
   ]
  },
  {
   "cell_type": "code",
   "execution_count": null,
   "metadata": {},
   "outputs": [],
   "source": [
    "# No dicionario não tem uma ordem como a lista é a Tupla, essas chaves podem ser criadas de forma aleatoria\n",
    "# Criando um dicionário de exemplo\n",
    "\n",
    "#Dicionario armazenado na váriavel \"pessoa\"\n",
    "#chave será nome, idade e cidade\n",
    "#valor será o nome da pessoa,idade da pessoa e cidade da pessoa nesse caso\n",
    "#No valor, poderiamos passar uma lista\n",
    "pessoa = {\"nome\": \"João\", \"idade\": 30, \"cidade\": \"São Paulo\"}\n",
    "\n",
    "# Exibindo o dicionário\n",
    "print(\"Meu dicionário de exemplo:\", pessoa)\n",
    "\n",
    "#Acessando valores por chave\n",
    "# O interpretador vai ver o que está dentro da chave \"nome\" e vai retornar o nome da pessoa que é \"João\"\n",
    "print(\"Nome:\", pessoa[\"nome\"])\n",
    "print(\"Idade:\", pessoa[\"idade\"])\n",
    "print(\"Cidade:\", pessoa[\"cidade\"])\n",
    "\n",
    "#Se tentar acessar uma chave que não existe no dicionário\n",
    "#print(\"Sobrenome:\", pessoa[\"sobrenome\"])\n",
    "\n",
    "#Se eu quiser atribuir um valor a um dicionário que já foi criado\n",
    "pessoa[\"sobrenome\"] = \"Silva\"\n",
    "print(\"Sobrenome:\", pessoa[\"sobrenome\"])\n",
    "print(\"Dicionário:\", pessoa )"
   ]
  },
  {
   "cell_type": "markdown",
   "metadata": {},
   "source": [
    "Aprendemos como atualizar um valor existente em um dicionário, utilizando a mesma sintaxe de criação. Também vimos como remover um par chave-valor utilizando o comando del. É importante lembrar que o del exclui todo o par chave-valor, não apenas a chave ou o valor separadamente.\n",
    "\n",
    "Em seguida, exploramos três métodos principais para manipular dicionários: keys(), values() e items(). O método keys() retorna todas as chaves do dicionário em formato de lista. O método values() retorna todos os valores do dicionário em formato de lista. Já o método items() retorna uma lista de tuplas contendo todos os pares chave-valor.\n",
    "\n",
    "É importante notar que, ao utilizar o método keys(), values() ou items(), é necessário transformar o resultado em uma lista utilizando a função list() para acessar os elementos individualmente."
   ]
  },
  {
   "cell_type": "code",
   "execution_count": null,
   "metadata": {},
   "outputs": [],
   "source": [
    "# Alterar ou atualizar um valor já existente. Adicionamos sobrenome, mas no caso ela não existia\n",
    "#Atualizando a idade, mudar a idade de 30 para 31 no dicionário\n",
    "pessoa[\"idade\"] = 31\n",
    "print(\"idade atualizada:\", pessoa[\"idade\"])\n",
    "print(pessoa)"
   ]
  },
  {
   "cell_type": "code",
   "execution_count": null,
   "metadata": {},
   "outputs": [],
   "source": [
    "# Removendo um par de chave valor\n",
    "del pessoa[\"sobrenome\"]\n",
    "\n",
    "print(\"Meu dicionário de  exemplo:\", pessoa)"
   ]
  },
  {
   "cell_type": "code",
   "execution_count": null,
   "metadata": {},
   "outputs": [],
   "source": [
    "# Métodos: keys()   - Retorno de todas as chaves do nosso dicionário em formato de lista\n",
    "\n",
    "chaves1 = pessoa.keys()\n",
    "print(\"Chaves do dicionário:\", chaves1)\n",
    "\n",
    "chaves = list(pessoa.keys()) #transformando o resultado em uma lista, para permitir acessa cada elemento individualmente\n",
    "print(\"Chaves do dicionário:\", chaves)\n",
    "\n",
    "print(\"Primeira chave:\", chaves[0]) #Acessando a primeira chave, como se fosse uma lista\n",
    "\n",
    "#          values() - Retorno em formato de lista de todos os valores do dicionário\n",
    "\n",
    "valores1 = pessoa.values()\n",
    "print(\"Valores do dicionários:\", valores1)\n",
    "\n",
    "valores = list(pessoa.values()) #transformando o resultado em uma lista, para permitir acessa cada elemento individualmente\n",
    "print(\"Valores do dicionários:\", valores)\n",
    "print(\"Primeiro valor do dicionário:\", valores[0])\n",
    "\n",
    "#          items()  - Retorno de uma lista de Tuplas contendo todos os pares de chave valor\n",
    "\n",
    "#Temos uma lista onde cada elemento é uma tupla com a chave é o valor\n",
    "\n",
    "itens = pessoa.items()\n",
    "print(\"Pares chave-valor do dicionário:\", itens)\n",
    "\n",
    "itens1 = list(pessoa.items())#transformando o resultado em uma lista, para permitir acessa cada elemento individualmente\n",
    "print(\"Pares chave-valor do dicionário:\", itens1)\n",
    "print(\"Primeiro valor:\", itens1[0][1]) #Acessando o primeiro item que vai ser uma tupla. O índice 0 vai referência ao primeiro par de chave-valor que é \"nome: João\" e o índice 1 faz referencia a João que é o valor que quero acessar\n",
    "\n",
    "print(\"Primeira chave-valor: %s = %s\" % (itens1[0][0], itens1[0][1]))"
   ]
  },
  {
   "cell_type": "markdown",
   "metadata": {},
   "source": [
    "Condicionais no Python permite que a gente tome decisões com base em condições. Essas decisões vão basicamente executar um bloco de código que vai está dentro dessa condicional\n",
    "\n",
    "Condicionais no python geralmente vamos utilizar o \"if, elif e else\""
   ]
  },
  {
   "cell_type": "code",
   "execution_count": null,
   "metadata": {},
   "outputs": [],
   "source": [
    "#Comparação de idade\n",
    "\n",
    "#if - SE\n",
    "#else - senão\n",
    "#elif - senao se\n",
    "\n",
    "#Exemplo de \"if\"\n",
    "\n",
    "idade = 19\n",
    "print(\"Exemplo de comando 'if'\")\n",
    "if idade >= 18:\n",
    "  print(\"Você é maior de idade.\")\n",
    "\n",
    "if idade == 19:\n",
    "  print(\"Você tem 19 anos\")\n",
    "\n",
    "if idade <18:\n",
    "  print(\"Você é menor de idade\")\n",
    "\n",
    "if idade != 10: #Idade é diferente de 10\n",
    "  print(\"Você não tem 10 anos\")"
   ]
  },
  {
   "cell_type": "code",
   "execution_count": null,
   "metadata": {},
   "outputs": [],
   "source": [
    "#Exemplo de \"if\"\n",
    "\n",
    "idade = 11\n",
    "print(\"Exemplo de comando 'if'\")\n",
    "if idade >= 18:\n",
    "  print(\"Você é maior de idade.\")\n",
    "elif idade >= 12:\n",
    "  print(\"Você é um adolescente\")\n",
    "else:\n",
    "  print(\"Você é menor de idade.\")"
   ]
  },
  {
   "cell_type": "code",
   "execution_count": null,
   "metadata": {},
   "outputs": [],
   "source": [
    "idade = int(input(\"Quantos anos você tem? \"))\n",
    "mensagem = \"Pode tirar a carteira de habilitação\" if idade >= 18 else \"Você não pode tirar a carteira de habilitação\"\n",
    "print(mensagem)"
   ]
  },
  {
   "cell_type": "markdown",
   "metadata": {},
   "source": [
    "O while é usado para repetir um bloco de código enquanto uma condição for verdadeira. Vamos começar com um exemplo simples, onde temos um contador que começa em 0 e é incrementado a cada iteração do loop. O loop continua enquanto o contador for menor que 5. Também podemos usar o break para sair do loop em determinada condição. Em seguida, vamos aplicar o while em um projeto prático, criando um menu para um gerenciador de lista de tarefas. O loop while será usado para repetir o menu até que o usuário escolha a opção de sair.\n",
    "\n",
    "while = enquanto"
   ]
  },
  {
   "cell_type": "code",
   "execution_count": null,
   "metadata": {},
   "outputs": [],
   "source": [
    "print(\"Exemplo de while\")\n",
    "\n",
    "contador = 0\n",
    "\n",
    "while contador < 5: #Enquanto o valor armazenado na variável contador for menor que 5\n",
    "  print(\"Contagem:\",contador)\n",
    "  contador = contador + 1 # contador += 1\n",
    "\n",
    "print(\"Programa finalizado\")"
   ]
  },
  {
   "cell_type": "code",
   "execution_count": null,
   "metadata": {},
   "outputs": [],
   "source": [
    "print(\"Exemplo de while\")\n",
    "\n",
    "contador = 0\n",
    "\n",
    "while True: #Enquanto o valor armazenado na variável contador for verdadeiro\n",
    "  print(\"Contagem:\",contador)\n",
    "  contador = contador + 1 # contador += 1\n",
    "  if contador == 5:\n",
    "    break\n",
    "print(\"Programa finalizado\")"
   ]
  },
  {
   "cell_type": "markdown",
   "metadata": {},
   "source": [
    "Funções em python é um bloco de código reutilizado, ou seja, é possível utilizar varias vezes. Quando chamado ele executa uma tarefa especifica"
   ]
  },
  {
   "cell_type": "code",
   "execution_count": null,
   "metadata": {},
   "outputs": [],
   "source": [
    "#nome da função é 'saudacao'\n",
    "# entre parenteses é o que chamamos de parâmetros dessa função\n",
    "def saudacao(nome):\n",
    "  print(f\"Olá, {nome}!\")\n",
    "\n",
    "print(\"\\n Chamando a função saudação:\")\n",
    "saudacao(\"Alice\")\n",
    "saudacao(\"Bob\")"
   ]
  },
  {
   "cell_type": "code",
   "execution_count": null,
   "metadata": {},
   "outputs": [],
   "source": [
    "#Função com retorno\n",
    "\n",
    "def quadrado(numero): #definindo uma função chamada quadrado, que vai receber um argumento chamado 'numero' que será o número que o usuário fornecer quando a função for chamada.\n",
    "  resultado = numero ** 2 #Estamos elevando o número que foi passado como argumento (o valor de numero) ao quadrado\n",
    "  return resultado #return vai retornar o valor da variável resultado para quem chamou a função.\n",
    "\n",
    "print(\"\\nChamando função quadrado\")\n",
    "resultado_quadrado = quadrado(5) #Estamos chamando a função 'quadrado' e passando o número '5' como argumento. A função vai calcular o quadrado de 5 E armazenar na variável 'resultado_quadrado'\n",
    "print(\"Resultado da função quadrado\",resultado_quadrado)"
   ]
  },
  {
   "cell_type": "code",
   "execution_count": null,
   "metadata": {},
   "outputs": [],
   "source": [
    "#Função com multiplos parametros\n",
    "def soma(numero1, numero2):\n",
    "  resultado = numero1 + numero2\n",
    "  return resultado\n",
    "\n",
    "print(\"\\nChamando a função soma:\")\n",
    "numero1 = 20\n",
    "numero2 = 50\n",
    "resultado_soma = soma(20,50)\n",
    "print(\"A soma do número %s e o numero %s é %s\" % (numero1, numero2, resultado_soma))"
   ]
  },
  {
   "cell_type": "markdown",
   "metadata": {},
   "source": [
    "Exceções são eventos que ocorrem durante a execução do programa e podem interrompê-lo se não forem tratadas adequadamente. É comum que programadores inexperientes deixem exceções sem tratamento, o que pode resultar em bugs no software. Vamos começar com a tratativa genérica de exceções, utilizando o bloco try-except. Dentro do bloco try, colocamos o código que queremos executar e, caso ocorra uma exceção, ela será capturada pelo bloco except. Podemos especificar o tipo de exceção que queremos capturar ou utilizar uma exceção genérica. Também é possível lançar exceções propositalmente utilizando o comando raise. Além disso, podemos utilizar os blocos else e finally para executar código após o try ou independentemente do resultado. Esses conceitos são fundamentais para lidar com exceções de forma eficiente em nossos programas."
   ]
  },
  {
   "cell_type": "code",
   "execution_count": null,
   "metadata": {},
   "outputs": [],
   "source": [
    "print(\"Exemplo de captura de exeções\")\n",
    "while True:\n",
    "  try:\n",
    "    numero = int(input(\"Digite um número inteiro: \"))\n",
    "    resultado = 10 / numero\n",
    "    print(f\"Resultado {resultado}\")\n",
    "  except Exception as e: #A exceção que ocorrer de forma generica vai ser armazenada na variavel \"e\"\n",
    "    print(f\"Erro: {e}\")"
   ]
  },
  {
   "cell_type": "code",
   "execution_count": null,
   "metadata": {},
   "outputs": [],
   "source": [
    "print(\"Exemplo de captura de exeções\")\n",
    "\n",
    "try:\n",
    "  numero = int(input(\"Digite um número inteiro: \"))\n",
    "  resultado = 10 / numero\n",
    "  print(f\"Resultado {resultado}\")\n",
    "except ValueError as e:\n",
    "  print(f\"Erro de value error: {e}\")\n",
    "  raise ValueError(\"Tipo de variaveis incompativeis\")\n",
    "except Exception as e: #A exceção que ocorrer de forma generica vai ser armazenada na variavel \"e\"\n",
    "  print(f\"Erro: {e}\")\n",
    "\n",
    "  #raise vai permitir que você interrompa, propositalmente o código"
   ]
  },
  {
   "cell_type": "code",
   "execution_count": null,
   "metadata": {},
   "outputs": [],
   "source": [
    "print(\"Exemplo de captura de exeções\")\n",
    "\n",
    "try:\n",
    "  numero = int(input(\"Digite um número inteiro: \"))\n",
    "  resultado = 10 / numero\n",
    "except ValueError as e:\n",
    "  print(f\"Erro de value error: {e}\")\n",
    "  raise ValueError(\"Tipo de variaveis incompativeis\")\n",
    "except Exception as e: #A exceção que ocorrer de forma generica vai ser armazenada na variavel \"e\"\n",
    "  print(f\"Erro: {e}\")\n",
    "else:     #Execute algo após ele ter sido bem sucedido, ou seja, se funcionou 100% o código. Só vai ser executado se deu certo o   resultado = 10 / numero\n",
    "  print(f\"Resultado: {resultado}\")\n",
    "\n",
    "  #raise vai permitir que você interrompa, propositalmente o código"
   ]
  },
  {
   "cell_type": "code",
   "execution_count": null,
   "metadata": {},
   "outputs": [],
   "source": [
    "#Caso você queira executar alguma coisa mesmo quando deu a exceção, podemos usar o finally\n",
    "\n",
    "print(\"Exemplo de captura de exeções\")\n",
    "\n",
    "try:\n",
    "  numero = int(input(\"Digite um número inteiro: \"))\n",
    "  resultado = 10 / numero\n",
    "except ValueError as e:\n",
    "  print(f\"Erro de value error: {e}\")\n",
    "  raise ValueError(\"Tipo de variaveis incompativeis\")\n",
    "except Exception as e: #A exceção que ocorrer de forma generica vai ser armazenada na variavel \"e\"\n",
    "  print(f\"Erro: {e}\")\n",
    "else:     #Execute algo após ele ter sido bem sucedido, ou seja, se funcionou 100% o código. Só vai ser executado se deu certo o   resultado = 10 / numero\n",
    "  print(f\"Resultado: {resultado}\")\n",
    "finally: #vai fazer mesmo se der certo ou errado\n",
    "  print(\"Operação finalizada\")\n",
    "\n",
    "  #raise vai permitir que você interrompa, propositalmente o código"
   ]
  },
  {
   "cell_type": "markdown",
   "metadata": {},
   "source": [
    "========== For ==========\n",
    "    A estrutura for é ideal quando já sabemos quantas vezes o código precisa ser repetido.\n",
    "\n",
    "=================================================================================================\n",
    "O loop \"for\" é utilizado para iterar sobre uma sequência de elementos, como listas, tuplas e dicionários. Vamos começar vendo como o loop \"for\" funciona com listas. Em seguida, veremos como utilizá-lo com tuplas e dicionários. Com dicionários, podemos imprimir as chaves, os valores ou ambos juntos.\n",
    "\n",
    "A função range, que retorna um intervalo numérico em formato de lista. Podemos usar o range para criar listas de forma mais rápida, em vez de declarar manualmente cada elemento. Também podemos usar a função length em conjunto com o range para obter a quantidade de elementos em uma lista. Outra função útil é a enumerate, que permite extrair tanto o valor quanto o índice de cada elemento de uma lista. Essas funções são muito utilizadas em programação e é importante saber quando e como utilizá-las."
   ]
  },
  {
   "cell_type": "code",
   "execution_count": null,
   "metadata": {},
   "outputs": [],
   "source": [
    "for i in range(5):\n",
    "  print(\"Indice:\", i)         #O \"i\" é o indice, contagem do que está executando"
   ]
  },
  {
   "cell_type": "code",
   "execution_count": null,
   "metadata": {},
   "outputs": [],
   "source": [
    "#For percorrendo/interando em uma lista\n",
    "#Uma lista é um conjunto de elementos (números, strings, etc) organizados em sequência.\n",
    "\n",
    "frutas = [\"maça\", \"banana\", \"laranja\"] #Cria uma lista chamada frutas contendo três elementos: \"maçã\", \"banana\" e \"laranja\".\n",
    "\n",
    "for fruta in frutas:  #O \"for\" percorrer cada elemento da lista, a variavel fruta assume em cada iteração o valor de um elemento da lista frutas\n",
    "  print(\"Fruta:\", fruta)\n",
    "\n",
    "for fruta in frutas:\n",
    "    print(\"Lista completa:\", frutas)"
   ]
  },
  {
   "cell_type": "code",
   "execution_count": null,
   "metadata": {},
   "outputs": [],
   "source": [
    "#Percorrendo/Iterando em uma string\n",
    "#Uma string é uma sequência de caracteres. O for pode percorrer cada caractere individualmente.\n",
    "\n",
    "texto = \"Python\"\n",
    "\n",
    "for letra in texto: # O `for` percorre cada letra da string \"texto\"\n",
    "  print(\"Letra:\", letra)"
   ]
  },
  {
   "cell_type": "code",
   "execution_count": null,
   "metadata": {},
   "outputs": [],
   "source": [
    "#Criando uma lista\n",
    "\n",
    "print(\"For utilizando lista\")\n",
    "lista = [1, 2, 3, 4, 5]\n",
    "for elemento in lista:    #Variavel \"elemento\"\n",
    "  print(elemento)\n",
    "print('Fim')\n",
    "\n",
    "#Criando uma tupla\n",
    "print(\"For utilizando tupla\")\n",
    "tupla = (1, 2, 3, 4, 5)\n",
    "for elemento in tupla:\n",
    "  print(elemento)\n",
    "\n",
    "print(\"For utilizando dicionarios  - chaves\")\n",
    "pessoa = {\"nome\": \"João\", \"idade\": 30, \"cidade\": \"São Paulo\"}\n",
    "for chave in pessoa.keys():\n",
    "  print(chave)\n",
    "\n",
    "#Para retornar uma sequencia de elementos com todos os valores do dicionario\n",
    "print(\"\\nFor utilizando dicionarios  - valores\")\n",
    "for valor in pessoa.values():\n",
    "  print(valor)\n",
    "\n",
    "#Para retornar na tela tanto a chave do dicionario como o valor.\n",
    "#O \"items\" retorna uma lista de Tuplas, cada elemento da lista é uma Tupla\n",
    "print(\"\\nFor utilizando dicionarios  - items\")\n",
    "for chave, valor in pessoa.items():\n",
    "  print(f\"{chave}: {valor}\")"
   ]
  },
  {
   "cell_type": "code",
   "execution_count": null,
   "metadata": {},
   "outputs": [],
   "source": [
    "#range(): intervalo númerico em formato de lista\n",
    "print(list(range(0,10))) #Vai mostrar na tela do 0 ao 9\n",
    "\n",
    "print(\"\\n Utilizando a função range()\")\n",
    "for numero in range(5):\n",
    "  print(\"Número:\", numero)\n",
    "\n",
    "#len():  Vai retornar a quantidade de item que temos nessa lista \n",
    "print(\"\\n Utilizando a função range() com len()\")\n",
    "lista = [1, 2, 3, 4, 5]\n",
    "for indice in range(0, len(lista)): #Para cada indice da lista\n",
    "  print(\"Indice:\", indice)\n",
    "#Explicação do código acima\n",
    "#len(lista): Mede o tamanho da lista(neste caso, são 5 itens)\n",
    "#range(0, len(lista): Gera os números de 0 até o tamanho da lista, ou seja, [0, 1, 2, 3, 4].\n",
    "\n",
    "#Esse código acima utilizando \"len()\" seria a mesma coisa do código abaixo\n",
    "print(\"\\nUtilizando a função range(). Estou exemplificando como é o código sem o len() \")\n",
    "for indice in range(0, 5):\n",
    "  print(indice)"
   ]
  },
  {
   "cell_type": "code",
   "execution_count": null,
   "metadata": {},
   "outputs": [],
   "source": [
    "#Acessando um elemento dessa lista\n",
    "print(\"\\n Utilizando a função range() com len()\")\n",
    "lista = [1, 2, 3, 4, 5]\n",
    "print(lista)\n",
    "for indice in range(0, len(lista)): #Para cada indice da lista\n",
    "  print(\"Indice:\", indice)\n",
    "  print(\"Elemento:\", lista[indice])\n",
    "\n",
    "#Acessando um elemento dessa lista\n",
    "#O código transforma a lista original [1, 2, 3, 4, 5] em uma nova lista onde:\n",
    "\n",
    "#Todos os índices diferentes de 3 são alterados para 0.\n",
    "#O índice 3 é alterado para 5.\n",
    "print(\"\\n Utilizando a função range() com len()\")\n",
    "lista = [1, 2, 3, 4, 5]\n",
    "print(lista)\n",
    "for indice in range(0, len(lista)): #Para cada indice da lista\n",
    "  if indice == 3: #Se o índice for igual a 3:\n",
    "    lista[indice] = 5 #o valor da lista na posição 3 é alterado para 5.\n",
    "  else: #Se o índice não for 3:\n",
    "    lista[indice] = 0 #o valor da lista na posição atual é alterado para 0.\n",
    "print(lista)"
   ]
  },
  {
   "cell_type": "code",
   "execution_count": null,
   "metadata": {},
   "outputs": [],
   "source": [
    "#========== RANGE ==========\n",
    "# Parâmetros da função range()\n",
    "#<início_da_faixa>, <fim_da_faixa> e <incremento> (opcional)\n",
    "\n",
    "list(range(10, 16))     #Incremento =  1:\n",
    "list(range(10, 16, 2))  #Incremento =  2:\n",
    "list(range(16, 10, -1)) #Incremento = -1:\n",
    "list(range(16, 10, -2)) #Incremento = -2:"
   ]
  },
  {
   "cell_type": "code",
   "execution_count": null,
   "metadata": {},
   "outputs": [],
   "source": [
    "#========== enumerate() ==========\n",
    "#A função enumerate, que permite extrair tanto o valor quanto o índice de cada elemento de uma lista.\n",
    "lista_enumerate = [\"a\", \"b\", \"c\"]\n",
    "for indice, valor in enumerate(lista_enumerate):\n",
    "  print(f\"{indice}: {valor}\")\n",
    "\n",
    "  lista_enumerate = [\"a\", \"b\", \"c\"]\n",
    "for indice, valor in enumerate(lista_enumerate):\n",
    "  print(f\"{indice}: {valor}\")\n",
    "  if indice == 1:\n",
    "    print(\"Indice 1\")"
   ]
  },
  {
   "cell_type": "markdown",
   "metadata": {},
   "source": [
    "==================================== BREAK ====================================\n",
    "Traduzindo break literalmente para a língua portuguesa, temos a palavra “quebra”.\n",
    "É justamente esse o papel do comando break: quebrar a execução de uma estrutura de repetição, isto é, forçar a saída do fluxo do programa de dentro do laço."
   ]
  },
  {
   "cell_type": "code",
   "execution_count": null,
   "metadata": {},
   "outputs": [],
   "source": [
    "print(\"***** OPERAÇÃO DE DIVISÃO *****\")\n",
    "while True:\n",
    "  n1 = int(input(\"Informe o primeiro número: \"))\n",
    "  n2 = int(input(\"Informe o segundo número: \"))\n",
    "  if n2 == 0:\n",
    "    print(\"Divisor não pode ser 0.\\nPrograma será encerrado...\")\n",
    "    break\n",
    "  print(f\"{n1} / {n2} = {(n1/n2):.2f}\")\n",
    "print(\"***** Fim da Operação de divisão *****\")"
   ]
  }
 ],
 "metadata": {
  "kernelspec": {
   "display_name": ".venv",
   "language": "python",
   "name": "python3"
  },
  "language_info": {
   "codemirror_mode": {
    "name": "ipython",
    "version": 3
   },
   "file_extension": ".py",
   "mimetype": "text/x-python",
   "name": "python",
   "nbconvert_exporter": "python",
   "pygments_lexer": "ipython3",
   "version": "3.10.4"
  }
 },
 "nbformat": 4,
 "nbformat_minor": 2
}
