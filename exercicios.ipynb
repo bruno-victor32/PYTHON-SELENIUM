{
 "cells": [
  {
   "cell_type": "markdown",
   "metadata": {},
   "source": [
    "======================================= Exercícios =============================================="
   ]
  },
  {
   "cell_type": "markdown",
   "metadata": {},
   "source": [
    "1. Crie um programa no qual o usuário informe um número inteiro positivo N e armazene-o em uma variável. Em seguida, o usuário deve digitar N números. Ao fim, o programa deve imprimir a média aritmética dos N números digitados."
   ]
  },
  {
   "cell_type": "code",
   "execution_count": 2,
   "metadata": {},
   "outputs": [
    {
     "name": "stdout",
     "output_type": "stream",
     "text": [
      "O 1° número digitado é 1\n",
      "O 2° número digitado é 2\n",
      "O 3° número digitado é 3\n",
      "O 4° número digitado é 4\n",
      "O 5° número digitado é 5\n",
      "O 6° número digitado é 6\n",
      "O 7° número digitado é 7\n",
      "O 8° número digitado é 8\n",
      "A média é 4.50\n"
     ]
    }
   ],
   "source": [
    "contador = int(input(\"Quantos número você quer digitar?\"))\n",
    "soma = 0\n",
    "for elemento in range(contador):\n",
    "  num = int(input(\"Digite um número inteiro positivo:\"))\n",
    "  elemento += 1\n",
    "  print(f'O {elemento}° número digitado é {num}')\n",
    "  soma = soma + num\n",
    "media = soma / contador\n",
    "print(f'A média é {media:.2f}')\n"
   ]
  },
  {
   "cell_type": "markdown",
   "metadata": {},
   "source": [
    "2. Imagine que você está construindo uma automação para enviar todo dia por e-mail um resumo da produção de uma fábrica. Construa um código que exiba a quantidade produzida de cada os produtos nesse \"e-mail\""
   ]
  },
  {
   "cell_type": "code",
   "execution_count": 1,
   "metadata": {},
   "outputs": [
    {
     "name": "stdout",
     "output_type": "stream",
     "text": [
      "15000 unidades produzidas de coca\n",
      "12000 unidades produzidas de pepsi\n",
      "13000 unidades produzidas de guarana\n",
      "5000 unidades produzidas de sprite\n"
     ]
    }
   ],
   "source": [
    "produtos = ['coca', 'pepsi', 'guarana', 'sprite'] #Criando uma lista chamada \"Produtos\"\n",
    "producao = [15000, 12000, 13000, 5000] #Criando uma lista chamada \"Produção\"\n",
    "\n",
    "tamanho = len(produtos)#A função len() calcula o tamanho da lista produtos e salva na variavel \n",
    "\n",
    "for i in range(tamanho):#Como lista de produtos tem 4 elementos o range gera  sequencia [0,1,2,3]\n",
    "  print('{} unidades produzidas de {}'.format(producao[i], produtos[i]))\n",
    "\n",
    "#Explicação do for\n",
    "#Este é um laço de repetição (for) que vai repetir um bloco de código 4 vezes (porque tamanho da lista de produtos é de 4 elementos).\n",
    "#A função range(tamanho) cria uma sequência de números começando em 0 e terminando em 3 (ou seja, [0, 1, 2, 3]).\n",
    "#A variável i assume cada um desses números, um por vez:\n",
    "#Na 1ª repetição, i = 0.\n",
    "#Na 2ª repetição, i = 1.\n",
    "#Na 3ª repetição, i = 2.\n",
    "#Na 4ª repetição, i = 3."
   ]
  }
 ],
 "metadata": {
  "kernelspec": {
   "display_name": ".venv",
   "language": "python",
   "name": "python3"
  },
  "language_info": {
   "codemirror_mode": {
    "name": "ipython",
    "version": 3
   },
   "file_extension": ".py",
   "mimetype": "text/x-python",
   "name": "python",
   "nbconvert_exporter": "python",
   "pygments_lexer": "ipython3",
   "version": "3.10.4"
  }
 },
 "nbformat": 4,
 "nbformat_minor": 2
}
