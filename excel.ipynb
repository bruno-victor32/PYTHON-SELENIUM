{
 "cells": [
  {
   "cell_type": "markdown",
   "metadata": {},
   "source": [
    "Fechando um arquivo Excel usando Python"
   ]
  },
  {
   "cell_type": "code",
   "execution_count": 1,
   "metadata": {},
   "outputs": [],
   "source": [
    "import win32com.client #Biblioteca que faz a integração do Python com os programas do seu computador"
   ]
  },
  {
   "cell_type": "code",
   "execution_count": 2,
   "metadata": {},
   "outputs": [
    {
     "name": "stdout",
     "output_type": "stream",
     "text": [
      "Excel closed using win32com\n"
     ]
    }
   ],
   "source": [
    "excel = win32com.client.Dispatch(\"Excel.Application\") #Inicializa o Excel, permitindo controlar o Excel a partir do python\n",
    "excel.Quit() #Esse comando encerra a aplicação do Excel que foi aberta pelo código Python.\n",
    "print(\"Excel closed using win32com\")"
   ]
  },
  {
   "cell_type": "markdown",
   "metadata": {},
   "source": [
    "Abrindo o excel"
   ]
  },
  {
   "cell_type": "code",
   "execution_count": 4,
   "metadata": {},
   "outputs": [],
   "source": [
    "\n",
    "# Abre o Excel\n",
    "excel = win32com.client.Dispatch(\"Excel.Application\")\n",
    "excel.Visible = True  # Torna o Excel visível, não deixa ele em segundo plano\n",
    "workbook = excel.Workbooks.Add()  # Cria uma nova planilha no Excel\n",
    "sheet = workbook.Sheets(1) # Acessa a primeira planilha\n",
    "sheet.Cells(1, 1).Value = \"Olá, Excel!\"  # Escreve na célula A1 da planilha selecionada \"Olá, Excel!\".\n"
   ]
  },
  {
   "cell_type": "code",
   "execution_count": null,
   "metadata": {},
   "outputs": [],
   "source": [
    "# Abrir o Excel\n",
    "excel = win32com.client.Dispatch(\"Excel.Application\")\n",
    "excel.Visible = True  # Torna o Excel visível (opcional)\n",
    "\n",
    "# Criar uma nova planilha\n",
    "workbook = excel.Workbooks.Add()\n",
    "sheet = workbook.Sheets(1)\n",
    "sheet.Cells(1, 1).Value = \"Automação do Excel com Python\"\n",
    "\n",
    "# Salvar o arquivo em um local específico\n",
    "file_path = r\"C:\\Users\\bruno\\Downloads\\arquivo_automacao.xlsx\"  # Substitua pelo caminho desejado\n",
    "workbook.SaveAs(file_path)  # Salva o arquivo no local especificado\n",
    "print(f\"Arquivo salvo em: {file_path}\")\n",
    "\n",
    "# Fechar o Excel\n",
    "excel.Quit()  # Encerra o Excel\n",
    "print(\"Excel fechado usando win32com\")\n"
   ]
  },
  {
   "cell_type": "code",
   "execution_count": null,
   "metadata": {},
   "outputs": [],
   "source": [
    "import win32com.client\n",
    "\n",
    "# Conectar à instância do Excel já aberta\n",
    "excel = win32com.client.Dispatch(\"Excel.Application\")\n",
    "\n",
    "# Tornar o Excel visível, se necessário\n",
    "excel.Visible = True\n",
    "\n",
    "# Acessar o arquivo ativo, que foi aberto por outro programa\n",
    "workbook = excel.ActiveWorkbook\n",
    "\n",
    "# Realizar algumas modificações (por exemplo, alterar uma célula)\n",
    "sheet = workbook.Sheets(1)\n",
    "sheet.Cells(1, 1).Value = \"Alterado por Python!\"\n",
    "\n",
    "# Salvar o arquivo no mesmo local\n",
    "workbook.Save()\n",
    "\n",
    "# Se precisar salvar em outro local com novo nome:\n",
    "# workbook.SaveAs(r\"C:\\Novo\\Caminho\\meu_novo_arquivo.xlsx\")\n",
    "\n",
    "print(\"Arquivo salvo com sucesso!\")\n",
    "\n",
    "# Fechar o Excel (opcional)\n",
    "# excel.Quit()"
   ]
  },
  {
   "cell_type": "markdown",
   "metadata": {},
   "source": [
    "O módulo os oferece uma interface para interagir com o sistema operacional de forma independente do ambiente. Ou seja, você pode escrever código Python que funciona em diferentes sistemas operacionais (como Windows, Linux ou macOS) sem se preocupar com detalhes específicos de cada um.\n",
    "\n",
    "O comando os.system() em Python é usado para executar comandos do sistema operacional diretamente do código Python. Ele permite que você execute programas ou scripts como se estivesse usando o terminal ou prompt de comando."
   ]
  },
  {
   "cell_type": "code",
   "execution_count": 8,
   "metadata": {},
   "outputs": [],
   "source": [
    "import os # Permite interagir com o sistema operacional, executar comandos do sistema e manipular arquivos e diretórios."
   ]
  },
  {
   "cell_type": "code",
   "execution_count": 9,
   "metadata": {},
   "outputs": [
    {
     "name": "stdout",
     "output_type": "stream",
     "text": [
      "Excel terminated using taskkill\n"
     ]
    }
   ],
   "source": [
    "\n",
    "os.system(\"taskkill /f /im excel.exe\") #Executando o comando taskkill para finalizar o Excel de forma, forçada (ou seja, encerra o Excel imediatamente, sem solicitar confirmação)\n",
    "print(\"Excel terminated using taskkill\")"
   ]
  }
 ],
 "metadata": {
  "kernelspec": {
   "display_name": ".venv",
   "language": "python",
   "name": "python3"
  },
  "language_info": {
   "codemirror_mode": {
    "name": "ipython",
    "version": 3
   },
   "file_extension": ".py",
   "mimetype": "text/x-python",
   "name": "python",
   "nbconvert_exporter": "python",
   "pygments_lexer": "ipython3",
   "version": "3.10.4"
  }
 },
 "nbformat": 4,
 "nbformat_minor": 2
}
