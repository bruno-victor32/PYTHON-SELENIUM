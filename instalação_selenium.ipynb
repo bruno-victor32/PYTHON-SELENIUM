{
 "cells": [
  {
   "cell_type": "markdown",
   "metadata": {},
   "source": [
    "Qualquer rotina que você for fazer na internet, é possível utilizar o Selenium para fazer automação"
   ]
  },
  {
   "cell_type": "markdown",
   "metadata": {},
   "source": [
    "Instalando o Selenium, abra o terminal e execute o comando abaixo\n",
    "Instalando dessa forma, caso tenha o selenium instalado na sua máquina, será atualizado a versão do Selenium"
   ]
  },
  {
   "cell_type": "code",
   "execution_count": null,
   "metadata": {},
   "outputs": [],
   "source": [
    "pip install --upgrade selenium "
   ]
  },
  {
   "cell_type": "code",
   "execution_count": null,
   "metadata": {},
   "outputs": [],
   "source": [
    "pip install webdriver-manager"
   ]
  },
  {
   "cell_type": "markdown",
   "metadata": {},
   "source": [
    "Em termos de compatibilidade com os sites da Internet o Google Chrome é o melhor navegador\n"
   ]
  },
  {
   "cell_type": "markdown",
   "metadata": {},
   "source": [
    "É necessário identificar a versão do Chrome, o selenium para funcionar precisa do chrome driver e do python. O chrome driver permite o selenium comandar o seu navegador\n",
    "\n",
    "1° Passo: Acessar o navegador google chrome é verificar a versão do mesmo.\n",
    "Nesse caso o meu é a Versão 122.0.6261.129 (Compilação oficial) (64 bits).\n",
    "O que importa para a gente é esses 3 primeiros número \"122\"\n",
    "\n",
    "2° Passo: Baixar a versão do chromedriver compatível com o seu navegador. Se não houver um chromedriver da versão exata da sua, pegue uma versão que tenha pelo menos o primeiro número igual.\n",
    "https://developer.chrome.com/docs/chromedriver/downloads?hl=pt-br\n",
    "\n",
    "3° Passo: Colocar na pasta que o python está instalado"
   ]
  },
  {
   "cell_type": "markdown",
   "metadata": {},
   "source": [
    "Verificando aonde o python está instalado no computador"
   ]
  },
  {
   "cell_type": "code",
   "execution_count": null,
   "metadata": {},
   "outputs": [],
   "source": [
    "import sys\n",
    "print(sys.executable)"
   ]
  },
  {
   "cell_type": "markdown",
   "metadata": {},
   "source": [
    "Quando rodar esses comandos abaixo e uma nova janela do Chrome foi aberta, quer dizer que o selenium e o chromedriver estão funcionando"
   ]
  },
  {
   "cell_type": "code",
   "execution_count": 5,
   "metadata": {},
   "outputs": [],
   "source": [
    "from selenium import webdriver\n",
    "\n",
    "# Abrindo uma nova janela do navegador google chrome\n",
    "navegador = webdriver.Chrome()"
   ]
  },
  {
   "cell_type": "markdown",
   "metadata": {},
   "source": [
    "Caso eu não queira baixar o \"chromedriver\" e colocar na pasta aonde o python está instalado.\n",
    "Quero que atualize automaticamente \"chromedriver\", caso o google chrome atualize também.\n",
    "\n",
    "Uma alternativa que surgiu recentemente é usar o \"webdriver-manager\", uma outra biblioteca que faz o gerenciamento do seu chromedriver para você. Nesse caso, precisamos primeiro instalar o webdrivermanager"
   ]
  },
  {
   "cell_type": "markdown",
   "metadata": {},
   "source": [
    "Em seguida, importamos o ChromeDriverManager e usamos ele no Serviço do nosso Selenium, assim:\n",
    "\n",
    "#Se eu quiser que sempre que rode um código em Selenium, sejá verificado a versão do navegador Chrome e baixe o ChromeDriver correspondente automaticamente e abra o navegador"
   ]
  },
  {
   "cell_type": "code",
   "execution_count": 7,
   "metadata": {},
   "outputs": [],
   "source": [
    "from selenium import webdriver #webdrive é utilizado para criar seu navegador e usar o selenium\n",
    "from selenium.webdriver.chrome.service import Service #Service é o que diz para o nosso web driver(selenium) aonde esta instalado o chromedriver \n",
    "from webdriver_manager.chrome import ChromeDriverManager\n",
    "\n",
    "servico = Service(ChromeDriverManager().install()) #Estou fazendo a instalação do ChromeDriver, vai passar o local que ele instalou o ChromeDriverManager para o seu \"Service\"\n",
    "navegador = webdriver.Chrome(service=servico) #Vamos pegar o \"serviço\" e passar para o seu google chrome, será criado uma variavel que nesse caso é \"navegador\" e vai abrir um novo navegador"
   ]
  },
  {
   "cell_type": "markdown",
   "metadata": {},
   "source": [
    " ========== COMO ACESSAR UMA PÁGINA COM O SELENIUM ========== "
   ]
  },
  {
   "cell_type": "code",
   "execution_count": 14,
   "metadata": {},
   "outputs": [],
   "source": [
    "#Inicialização do Selenium, aonde vai criar e abrir o navegador\n",
    "\n",
    "from selenium import webdriver\n",
    "from selenium.webdriver.chrome.service import Service\n",
    "from webdriver_manager.chrome import ChromeDriverManager\n",
    "\n",
    "servico = Service(ChromeDriverManager().install())\n",
    "navegador = webdriver.Chrome(service=servico)"
   ]
  },
  {
   "cell_type": "markdown",
   "metadata": {},
   "source": [
    "Abrir uma página especifica utilizando o \"Selenium\""
   ]
  },
  {
   "cell_type": "code",
   "execution_count": 10,
   "metadata": {},
   "outputs": [],
   "source": [
    "# .get() #Permite abrir uma página especifica de um site qualquer, passamos dentro das () o site que queremos abrir.\n",
    "\n",
    "navegador.get(\"https://www.hashtagtreinamentos.com/\")"
   ]
  },
  {
   "cell_type": "markdown",
   "metadata": {},
   "source": [
    "Abrir um arquivo HTML que está na minha máquina utilizando \"Selenium\""
   ]
  },
  {
   "cell_type": "code",
   "execution_count": 15,
   "metadata": {},
   "outputs": [],
   "source": [
    "navegador.get(r\"file:///C:/Users/bruno/Downloads/%23Cursos/Hashtag/Python%20Impressionador/24.Integra%C3%A7%C3%A3o%20Python%20-%20Automa%C3%A7%C3%A3o%20Web%20(Web-Scraping%20com%20Selenium)/MATERIAL%20DE%20APOIO/03/Pagina%20Hashtag.html\")"
   ]
  },
  {
   "cell_type": "markdown",
   "metadata": {},
   "source": [
    "========== MÉTODOS DE SELEÇÃO DO SELENIUM =========="
   ]
  },
  {
   "cell_type": "code",
   "execution_count": 32,
   "metadata": {},
   "outputs": [],
   "source": [
    "#Inicialização do Selenium, aonde vai criar e abrir o navegador\n",
    "\n",
    "from selenium import webdriver\n",
    "from selenium.webdriver.chrome.service import Service\n",
    "from webdriver_manager.chrome import ChromeDriverManager\n",
    "\n",
    "servico = Service(ChromeDriverManager().install())\n",
    "navegador = webdriver.Chrome(service=servico)"
   ]
  },
  {
   "cell_type": "markdown",
   "metadata": {},
   "source": [
    "Abrir um arquivo HTML que está na minha máquina utilizando \"Selenium\", de forma dinamica. Para simular uma página web."
   ]
  },
  {
   "cell_type": "code",
   "execution_count": null,
   "metadata": {},
   "outputs": [],
   "source": [
    "# .get() #Permite abrir uma página especifica de um site qualquer, passamos dentro das () o site que queremos abrir.\n",
    "\n",
    "# Biblioteca \"os\" é uma biblioteca que trabalha com arquivos do seu computador\n",
    "# os.getcwd() Pasta/local aonde você está construindo o seu código\n",
    "\n",
    "import os\n",
    "\n",
    "caminho = os.getcwd() #Nesse caso estou pegando o local que esse arquivo \"instalação_selenium.ipynb\" está salvo no computador\n",
    "arquivo = caminho + r\"\\Pagina Hashtag.html\" # Quero que o local/caminho aonde está esse arquivo \"instalação_selenium.ipynb\" em python seja completado com o nome da página. Portanto dessa forma vamos ter o caminho da página que queremos abrir de forma dinamica\n",
    "print(arquivo)\n",
    "navegador.get(arquivo)\n",
    "\n",
    "\n",
    "\n",
    "\n",
    "#navegador.get(r\"file:///C:/Users/bruno/Downloads/%23Cursos/Hashtag/Python%20Impressionador/24.Integra%C3%A7%C3%A3o%20Python%20-%20Automa%C3%A7%C3%A3o%20Web%20(Web-Scraping%20com%20Selenium)/MATERIAL%20DE%20APOIO/03/Pagina%20Hashtag.html\")"
   ]
  },
  {
   "cell_type": "markdown",
   "metadata": {},
   "source": [
    "Abrir um arquivo HTML que está na minha máquina utilizando \"Selenium\". Para simular uma página web."
   ]
  },
  {
   "cell_type": "code",
   "execution_count": 33,
   "metadata": {},
   "outputs": [],
   "source": [
    "navegador.get(r\"file:///C:/Users/bruno/Downloads/%23Cursos/Hashtag/Python%20Impressionador/24.Integra%C3%A7%C3%A3o%20Python%20-%20Automa%C3%A7%C3%A3o%20Web%20(Web-Scraping%20com%20Selenium)/MATERIAL%20DE%20APOIO/04/Pagina Hashtag.html\")"
   ]
  },
  {
   "cell_type": "markdown",
   "metadata": {},
   "source": [
    "1° Método de Seleção usando \"Selenium\":\n",
    "É pelo ID\n",
    "\n",
    "2° Método de Seleção usando \"Selenium\":\n",
    "É pelo xpath\n",
    "\n",
    "3° Método de Seleção usando \"Selenium\":\n",
    "Pelo nome da classe \"class_name\"\n",
    "\n",
    "4° Método de Seleção usando \"Selenium\":\n",
    "Pelo texto que está contido nele\n",
    "\n",
    "5° Método de Seleção usando \"Selenium\":\n",
    "Pelo tipo de informação que ele é, se ele é um link ou uma imagem\n",
    "\n",
    "Para inicio é recomendado utilizar o ID, porque o ID de um item em uma página HTML não é repetido. Cada item tem um ID especifico e normalmente não é modificado ao longo do tempo. \n"
   ]
  },
  {
   "cell_type": "markdown",
   "metadata": {},
   "source": [
    "Selecionando um elemento utilizando o Selenium\n",
    "Existe duas maneiras:\n",
    ".find_element    Dessa forma vai trazer somente um único elemento/item da sua página. O \".find_element\" ele dá como resposta um item.\n",
    "\n",
    ".find_elements   Dessa outra forma, vai trazer uma lista com vários itens da sua página. Se utilizar o \".find_elements\" para um único item, vai retornar uma lista com um único item. O \".find_elements\" ele dá como resposta uma lista em python\n",
    "\n",
    "A biblioteca \"by\" é como você vai importar esse elemento"
   ]
  },
  {
   "cell_type": "code",
   "execution_count": 26,
   "metadata": {},
   "outputs": [],
   "source": [
    "# Esse código abaixo, permite selecionar um elemento.\n",
    "# Nesse caso vamos selecionar um elemento/campo \"Seu primeiro nome\" pelo ID\n",
    "# A  variavel navegador \n",
    "# .send_keys() permite escrever em algum elemento/campo\n",
    "\n",
    "from selenium.webdriver.common.by import By\n",
    "\n",
    "campo_nome = navegador.find_element(By.ID,'fullname') #Campo de \"Seu primeiro nome\" do formulario, da página HTML. Estou selecionando o campo é armazenando na variavel de nome \"campo_nome\"\n",
    "campo_nome.send_keys(\"Bruno\") #Escrevendo \"Bruno\" no campo \"Seu primeiro nome\" do formulario\n"
   ]
  },
  {
   "cell_type": "markdown",
   "metadata": {},
   "source": [
    "Outra forma de fazer a mesma coisa que o código acima.\n",
    "A única diferença é que nesse código abaixo, vou selecionar o campo utilizando ID e não vou armazenar em uma variavel, vou selecionar o campo e escrever Bruno no campo, sem precisar armazenar em uma variavel o ID do campo"
   ]
  },
  {
   "cell_type": "code",
   "execution_count": 34,
   "metadata": {},
   "outputs": [],
   "source": [
    "from selenium.webdriver.common.by import By\n",
    "\n",
    "navegador.find_element(By.ID,'fullname').send_keys('Bruno Victor')"
   ]
  },
  {
   "cell_type": "markdown",
   "metadata": {},
   "source": [
    "Selecionando o campo/item \"Seu melhor e-mail\" utilizando ID. vou selecionar o campo e escrever bruno.victor32@yahoo.com.br no campo"
   ]
  },
  {
   "cell_type": "code",
   "execution_count": 35,
   "metadata": {},
   "outputs": [],
   "source": [
    "from selenium.webdriver.common.by import By\n",
    "\n",
    "navegador.find_element(By.ID,'email').send_keys('bruno.victor32@yahoo.com.br')"
   ]
  },
  {
   "cell_type": "markdown",
   "metadata": {},
   "source": [
    "Clicando no Botão de \"Enviar\", utilizando o ID para selecionar o campo e utilizando o método \"click()\" para clicar no botão \"Enviar\" do formulário"
   ]
  },
  {
   "cell_type": "code",
   "execution_count": 37,
   "metadata": {},
   "outputs": [],
   "source": [
    "navegador.find_element(By.ID,'_form_176_submit').click()"
   ]
  },
  {
   "cell_type": "markdown",
   "metadata": {},
   "source": [
    "Executando o código feito por partes acima, de forma completa!!!"
   ]
  },
  {
   "cell_type": "code",
   "execution_count": 39,
   "metadata": {},
   "outputs": [],
   "source": [
    "from selenium import webdriver\n",
    "from selenium.webdriver.chrome.service import Service\n",
    "from webdriver_manager.chrome import ChromeDriverManager\n",
    "from selenium.webdriver.common.by import By\n",
    "\n",
    "servico = Service(ChromeDriverManager().install())\n",
    "navegador = webdriver.Chrome(service=servico)\n",
    "\n",
    "navegador.get(r\"file:///C:/Users/bruno/Downloads/%23Cursos/Hashtag/Python%20Impressionador/24.Integra%C3%A7%C3%A3o%20Python%20-%20Automa%C3%A7%C3%A3o%20Web%20(Web-Scraping%20com%20Selenium)/MATERIAL%20DE%20APOIO/04/Pagina Hashtag.html\")\n",
    "\n",
    "navegador.find_element(By.ID,'fullname').send_keys('Bruno Victor')\n",
    "navegador.find_element(By.ID,'email').send_keys('bruno.victor32@yahoo.com.br')\n",
    "\n",
    "navegador.find_element(By.ID,'_form_176_submit').click()"
   ]
  },
  {
   "cell_type": "markdown",
   "metadata": {},
   "source": [
    "========== Seleção de elementos por Class Name e XPATH ==========\n",
    "\n",
    "Os metodos de seleção mais utilizados são os ID = \"id\", XPATH = \"xpath\" e o CLASS_NAME = \"class name\"\n",
    "1° Tentamos encontrar o método de seleção ID, para utilizar ele\n",
    "Se não ter o ID, tentamos utilizar o método de seleção abaixo\n",
    "2° Tentamos encontrar o método de seleção CLASS NAME\n",
    "Se não ter o ID, tentamos utilizar o método de seleção abaixo\n",
    "3° Tentamos encontrar o método de seleção XPATH\n",
    "\n",
    "IMPORTANTE: É importante verificar se a class é unica na página, ou ela também é utilizada para outro elemento da nossa página\n",
    "\n",
    "O que é o XPATH?\n",
    "É como se fosse um código que informa quem é o elemento na página. Nesse momento para usar não é necessário saber como esse código e construido. O XPATH é como se fosse o caminho daquela elemento especifico dentro página/código.\n",
    "\n",
    "                                            IMPORTANTE\n",
    "                                            ==========\n",
    "Não é recomendado utilizar sempre o XPATH, devido um dia ocorrer alguma mudança na página na localização do item. Como nesse caso da logo se mudar aonde ela fica na página, será alterado o XPATH da logo/elemento. Mudar o XPATH de um elemento da página é um processo relativamente fácil de acontecer. A possibilidade de mudar e maior no XPATH do que no CLASS NAME ou no ID.\n",
    "A ordem de utilização é:\n",
    "1° Utilizar ID, caso não tenha o elemento o ID, utilizar a CLASS NAME caso não tenha o elemento o CLASS NAME, utilizo o XPATH."
   ]
  },
  {
   "cell_type": "code",
   "execution_count": 40,
   "metadata": {},
   "outputs": [],
   "source": [
    "from selenium import webdriver\n",
    "from selenium.webdriver.chrome.service import Service\n",
    "from webdriver_manager.chrome import ChromeDriverManager\n",
    "from selenium.webdriver.common.by import By\n",
    "\n",
    "servico = Service(ChromeDriverManager().install())\n",
    "navegador = webdriver.Chrome(service=servico)\n",
    "\n",
    "navegador.get(r\"file:///C:/Users/bruno/Downloads/%23Cursos/Hashtag/Python%20Impressionador/24.Integra%C3%A7%C3%A3o%20Python%20-%20Automa%C3%A7%C3%A3o%20Web%20(Web-Scraping%20com%20Selenium)/MATERIAL%20DE%20APOIO/04/Pagina Hashtag.html\")"
   ]
  },
  {
   "cell_type": "markdown",
   "metadata": {},
   "source": [
    "Vamos selecionar o logo escrito \"HashTag\" através da classe de nome \"custom-logo\" e vamos clicar no logo"
   ]
  },
  {
   "cell_type": "code",
   "execution_count": 42,
   "metadata": {},
   "outputs": [],
   "source": [
    "from selenium.webdriver.common.by import By\n",
    "\n",
    "navegador.find_element(By.CLASS_NAME, 'custom-logo').click() #Estou selecionando o elemento, a logo que tem a classe de nome \"custom-logo\" e em seguida vou clicar na logo"
   ]
  },
  {
   "cell_type": "markdown",
   "metadata": {},
   "source": [
    "Para selecionar o XPATH do elemento. \n",
    "1° Passo: Acesso o inspecionar da página\n",
    "2° Passo: Clico no elemento da página\n",
    "3° Passo: No código que diz respeito ao elemento e está em azul, clico com o botão direito do mouse\n",
    "4° Passo: Em seguida clico em Copy, e seleciono Copy XPath\n",
    "\n",
    "OBSERVAÇÃO: O XPATH é recomendado colocar em aspas simples, devido possivelmente ter dentro do texto do XPATH aspas duplas"
   ]
  },
  {
   "cell_type": "code",
   "execution_count": 44,
   "metadata": {},
   "outputs": [],
   "source": [
    "from selenium.webdriver.common.by import By\n",
    "\n",
    "navegador.find_element(By.XPATH,'//*[@id=\"header\"]/div/div/div[1]/a/img').click()"
   ]
  },
  {
   "cell_type": "markdown",
   "metadata": {},
   "source": [
    "========== OUTRAS FORMAS DE SELECIONAR UM ELEMENTO NO SELENIUM =========="
   ]
  },
  {
   "cell_type": "code",
   "execution_count": 52,
   "metadata": {},
   "outputs": [],
   "source": [
    "from selenium import webdriver\n",
    "from selenium.webdriver.chrome.service import Service\n",
    "from webdriver_manager.chrome import ChromeDriverManager\n",
    "\n",
    "servico = Service(ChromeDriverManager().install())\n",
    "navegador = webdriver.Chrome(service=servico)\n",
    "\n",
    "navegador.get(r\"file:///C:/Users/bruno/Downloads/%23Cursos/Hashtag/Python%20Impressionador/24.Integra%C3%A7%C3%A3o%20Python%20-%20Automa%C3%A7%C3%A3o%20Web%20(Web-Scraping%20com%20Selenium)/MATERIAL%20DE%20APOIO/04/Pagina Hashtag.html\")"
   ]
  },
  {
   "cell_type": "markdown",
   "metadata": {},
   "source": [
    "Selecionar utilizando a tag de um elemento, utilizando quando queremos selecionar uma tag especifica.\n",
    "Por exemplo: Youtube cria tags especificas deles. Youtube tem uma tag chamada \"videotumbemail\", não é uma tag padrão do HTML. Mas é uma tag que o Youtube criou para usar dentro ecossistema deles.\n",
    "\n",
    "- Vamos selecionar o título\n",
    "Extrair o texto do título da nossa página"
   ]
  },
  {
   "cell_type": "code",
   "execution_count": 48,
   "metadata": {},
   "outputs": [
    {
     "name": "stdout",
     "output_type": "stream",
     "text": [
      "TODOS OS CURSOS DA HASHTAG TREINAMENTOS\n"
     ]
    }
   ],
   "source": [
    "# .text permite pegar o texto daquele elemento\n",
    "\n",
    "from selenium.webdriver.common.by import By\n",
    "\n",
    "titulo = navegador.find_element(By.TAG_NAME,'h2').text #Estou selecionando o título da página através da tag do título que é \"h2\" e pegando o texto que está dentro daquela tag utilizando \".text()\". Podemos armazenar esse texto que selecionamos em uma variavel chamada \"titulo\"\n",
    "print(titulo) #Mostrar na tela o texto do titulo que selecionamos"
   ]
  },
  {
   "cell_type": "markdown",
   "metadata": {},
   "source": [
    "Seleção do elemento pelo Texto do link. Selecionar pelo Partial Link Text(ou LINK_TEXT)\n",
    "- Quero conseguir pegar o número de whatsapp de contato\n",
    "\n",
    "Suponhamos que eu entrei no site é não sei aonde está o número de whatsapp e preciso pegar ele.\n",
    "Na página é possível perceber que o número de whatsapp é um link, quando for um link de uma página HTML e possível selecionar o elemento atraves do Partial Link Text, ou seja, por um pedaço do texto daquele link\n",
    "\n",
    "Diferenças entre LINK_TEXT e o PARTIAL_LINK_TEXT\n",
    "LINK_TEXT - Tem que saber o texto inteiro do link que está inscrito na página\n",
    "PARTIAL_LINK_TEXT - Você só precisa saber um pedaço do texto que está inscrito"
   ]
  },
  {
   "cell_type": "code",
   "execution_count": 54,
   "metadata": {},
   "outputs": [
    {
     "name": "stdout",
     "output_type": "stream",
     "text": [
      "(21) 99865-8852 (WhatsApp)\n"
     ]
    }
   ],
   "source": [
    "# No nosso caso iremos utilizar o PARTIAL_LINK_TEXT devido a gente colocar um pedaço do texto que vai ser \"whatsapp\", para descobrir aonde ele está na página.\n",
    "# Vai ser feito uma busca em todos os links da página e vai procurar nesses links da página quem tem a palavra \"Whatsapp\" dentro do texto do link\n",
    "#Temos que se atentar a forma que foi escrito no site. Por exemplo: Se colocar Whatsapp e na página é WhatsApp com letra \"A\" maiuscula, não seria encontrado. Porque o Python diferencia palavras maiusculas e minusculas\n",
    "\n",
    "numero_whatsapp = navegador.find_element(By.PARTIAL_LINK_TEXT,'WhatsApp').text\n",
    "print(numero_whatsapp)"
   ]
  },
  {
   "cell_type": "markdown",
   "metadata": {},
   "source": [
    "Selecionar elemento utilizando o parametro name\n",
    "- Preencher o campo \"Seu melhor e-mail*\" do formulário, utilizando o parametro \"name\""
   ]
  },
  {
   "cell_type": "code",
   "execution_count": 55,
   "metadata": {},
   "outputs": [],
   "source": [
    "navegador.find_element(By.NAME, 'email').send_keys(\"bruno.victor@yahoo.com.br\")"
   ]
  },
  {
   "cell_type": "markdown",
   "metadata": {},
   "source": [
    "Selecionar pelo CSS Seletor\n",
    "- Parecido com o XPATH, acaba não sendo usado tanto\n",
    "\n",
    "- Não é recomendado utilizar o CSS Seletor"
   ]
  }
 ],
 "metadata": {
  "kernelspec": {
   "display_name": "Python 3",
   "language": "python",
   "name": "python3"
  },
  "language_info": {
   "codemirror_mode": {
    "name": "ipython",
    "version": 3
   },
   "file_extension": ".py",
   "mimetype": "text/x-python",
   "name": "python",
   "nbconvert_exporter": "python",
   "pygments_lexer": "ipython3",
   "version": "3.13.0"
  }
 },
 "nbformat": 4,
 "nbformat_minor": 2
}
