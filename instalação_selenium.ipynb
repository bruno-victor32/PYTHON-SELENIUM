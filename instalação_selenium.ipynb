{
 "cells": [
  {
   "cell_type": "markdown",
   "metadata": {},
   "source": [
    "Qualquer rotina que você for fazer na internet, é possível utilizar o Selenium para fazer automação"
   ]
  },
  {
   "cell_type": "markdown",
   "metadata": {},
   "source": [
    "Instalando o Selenium, abra o terminal e execute o comando abaixo\n",
    "Instalando dessa forma, caso tenha o selenium instalado na sua máquina, será atualizado a versão do Selenium"
   ]
  },
  {
   "cell_type": "code",
   "execution_count": null,
   "metadata": {},
   "outputs": [],
   "source": [
    "pip install --upgrade selenium "
   ]
  },
  {
   "cell_type": "code",
   "execution_count": null,
   "metadata": {},
   "outputs": [],
   "source": [
    "pip install webdriver-manager"
   ]
  },
  {
   "cell_type": "markdown",
   "metadata": {},
   "source": [
    "Em termos de compatibilidade com os sites da Internet o Google Chrome é o melhor navegador\n"
   ]
  },
  {
   "cell_type": "markdown",
   "metadata": {},
   "source": [
    "É necessário identificar a versão do Chrome, o selenium para funcionar precisa do chrome driver e do python. O chrome driver permite o selenium comandar o seu navegador\n",
    "\n",
    "1° Passo: Acessar o navegador google chrome é verificar a versão do mesmo.\n",
    "Nesse caso o meu é a Versão 122.0.6261.129 (Compilação oficial) (64 bits).\n",
    "O que importa para a gente é esses 3 primeiros número \"122\"\n",
    "\n",
    "2° Passo: Baixar a versão do chromedriver compatível com o seu navegador. Se não houver um chromedriver da versão exata da sua, pegue uma versão que tenha pelo menos o primeiro número igual.\n",
    "https://developer.chrome.com/docs/chromedriver/downloads?hl=pt-br\n",
    "\n",
    "3° Passo: Colocar na pasta que o python está instalado"
   ]
  },
  {
   "cell_type": "markdown",
   "metadata": {},
   "source": [
    "Verificando aonde o python está instalado no computador"
   ]
  },
  {
   "cell_type": "code",
   "execution_count": null,
   "metadata": {},
   "outputs": [],
   "source": [
    "import sys\n",
    "print(sys.executable)"
   ]
  },
  {
   "cell_type": "markdown",
   "metadata": {},
   "source": [
    "Quando rodar esses comandos abaixo e uma nova janela do Chrome foi aberta, quer dizer que o selenium e o chromedriver estão funcionando"
   ]
  },
  {
   "cell_type": "code",
   "execution_count": 5,
   "metadata": {},
   "outputs": [],
   "source": [
    "from selenium import webdriver\n",
    "\n",
    "# Abrindo uma nova janela do navegador google chrome\n",
    "navegador = webdriver.Chrome()"
   ]
  },
  {
   "cell_type": "markdown",
   "metadata": {},
   "source": [
    "Caso eu não queira baixar o \"chromedriver\" e colocar na pasta aonde o python está instalado.\n",
    "Quero que atualize automaticamente \"chromedriver\", caso o google chrome atualize também.\n",
    "\n",
    "Uma alternativa que surgiu recentemente é usar o \"webdriver-manager\", uma outra biblioteca que faz o gerenciamento do seu chromedriver para você. Nesse caso, precisamos primeiro instalar o webdrivermanager"
   ]
  },
  {
   "cell_type": "markdown",
   "metadata": {},
   "source": [
    "Em seguida, importamos o ChromeDriverManager e usamos ele no Serviço do nosso Selenium, assim:\n",
    "\n",
    "#Se eu quiser que sempre que rode um código em Selenium, sejá verificado a versão do navegador Chrome e baixe o ChromeDriver correspondente automaticamente e abra o navegador"
   ]
  },
  {
   "cell_type": "code",
   "execution_count": 7,
   "metadata": {},
   "outputs": [],
   "source": [
    "from selenium import webdriver #webdrive é utilizado para criar seu navegador e usar o selenium\n",
    "from selenium.webdriver.chrome.service import Service #Service é o que diz para o nosso web driver(selenium) aonde esta instalado o chromedriver \n",
    "from webdriver_manager.chrome import ChromeDriverManager\n",
    "\n",
    "servico = Service(ChromeDriverManager().install()) #Estou fazendo a instalação do ChromeDriver, vai passar o local que ele instalou o ChromeDriverManager para o seu \"Service\"\n",
    "navegador = webdriver.Chrome(service=servico) #Vamos pegar o \"serviço\" e passar para o seu google chrome, será criado uma variavel que nesse caso é \"navegador\" e vai abrir um novo navegador"
   ]
  },
  {
   "cell_type": "markdown",
   "metadata": {},
   "source": [
    " ========== COMO ACESSAR UMA PÁGINA COM O SELENIUM ========== "
   ]
  },
  {
   "cell_type": "code",
   "execution_count": 14,
   "metadata": {},
   "outputs": [],
   "source": [
    "#Inicialização do Selenium, aonde vai criar e abrir o navegador\n",
    "\n",
    "from selenium import webdriver\n",
    "from selenium.webdriver.chrome.service import Service\n",
    "from webdriver_manager.chrome import ChromeDriverManager\n",
    "\n",
    "servico = Service(ChromeDriverManager().install())\n",
    "navegador = webdriver.Chrome(service=servico)"
   ]
  },
  {
   "cell_type": "markdown",
   "metadata": {},
   "source": [
    "Abrir uma página especifica utilizando o \"Selenium\""
   ]
  },
  {
   "cell_type": "code",
   "execution_count": 10,
   "metadata": {},
   "outputs": [],
   "source": [
    "# .get() #Permite abrir uma página especifica de um site qualquer, passamos dentro das () o site que queremos abrir.\n",
    "\n",
    "navegador.get(\"https://www.hashtagtreinamentos.com/\")"
   ]
  },
  {
   "cell_type": "markdown",
   "metadata": {},
   "source": [
    "Abrir um arquivo HTML que está na minha máquina utilizando \"Selenium\""
   ]
  },
  {
   "cell_type": "code",
   "execution_count": 15,
   "metadata": {},
   "outputs": [],
   "source": [
    "navegador.get(r\"file:///C:/Users/bruno/Downloads/%23Cursos/Hashtag/Python%20Impressionador/24.Integra%C3%A7%C3%A3o%20Python%20-%20Automa%C3%A7%C3%A3o%20Web%20(Web-Scraping%20com%20Selenium)/MATERIAL%20DE%20APOIO/03/Pagina%20Hashtag.html\")"
   ]
  },
  {
   "cell_type": "markdown",
   "metadata": {},
   "source": [
    "========== MÉTODOS DE SELEÇÃO DO SELENIUM =========="
   ]
  },
  {
   "cell_type": "code",
   "execution_count": 32,
   "metadata": {},
   "outputs": [],
   "source": [
    "#Inicialização do Selenium, aonde vai criar e abrir o navegador\n",
    "\n",
    "from selenium import webdriver\n",
    "from selenium.webdriver.chrome.service import Service\n",
    "from webdriver_manager.chrome import ChromeDriverManager\n",
    "\n",
    "servico = Service(ChromeDriverManager().install())\n",
    "navegador = webdriver.Chrome(service=servico)"
   ]
  },
  {
   "cell_type": "markdown",
   "metadata": {},
   "source": [
    "Abrir um arquivo HTML que está na minha máquina utilizando \"Selenium\", de forma dinamica. Para simular uma página web."
   ]
  },
  {
   "cell_type": "code",
   "execution_count": null,
   "metadata": {},
   "outputs": [],
   "source": [
    "# .get() #Permite abrir uma página especifica de um site qualquer, passamos dentro das () o site que queremos abrir.\n",
    "\n",
    "# Biblioteca \"os\" é uma biblioteca que trabalha com arquivos do seu computador\n",
    "# os.getcwd() Pasta/local aonde você está construindo o seu código\n",
    "\n",
    "import os\n",
    "\n",
    "caminho = os.getcwd() #Nesse caso estou pegando o local que esse arquivo \"instalação_selenium.ipynb\" está salvo no computador\n",
    "arquivo = caminho + r\"\\Pagina Hashtag.html\" # Quero que o local/caminho aonde está esse arquivo \"instalação_selenium.ipynb\" em python seja completado com o nome da página. Portanto dessa forma vamos ter o caminho da página que queremos abrir de forma dinamica\n",
    "print(arquivo)\n",
    "navegador.get(arquivo)\n",
    "\n",
    "\n",
    "\n",
    "\n",
    "#navegador.get(r\"file:///C:/Users/bruno/Downloads/%23Cursos/Hashtag/Python%20Impressionador/24.Integra%C3%A7%C3%A3o%20Python%20-%20Automa%C3%A7%C3%A3o%20Web%20(Web-Scraping%20com%20Selenium)/MATERIAL%20DE%20APOIO/03/Pagina%20Hashtag.html\")"
   ]
  },
  {
   "cell_type": "markdown",
   "metadata": {},
   "source": [
    "Abrir um arquivo HTML que está na minha máquina utilizando \"Selenium\". Para simular uma página web."
   ]
  },
  {
   "cell_type": "code",
   "execution_count": 33,
   "metadata": {},
   "outputs": [],
   "source": [
    "navegador.get(r\"file:///C:/Users/bruno/Downloads/%23Cursos/Hashtag/Python%20Impressionador/24.Integra%C3%A7%C3%A3o%20Python%20-%20Automa%C3%A7%C3%A3o%20Web%20(Web-Scraping%20com%20Selenium)/MATERIAL%20DE%20APOIO/04/Pagina Hashtag.html\")"
   ]
  },
  {
   "cell_type": "markdown",
   "metadata": {},
   "source": [
    "1° Método de Seleção usando \"Selenium\":\n",
    "É pelo ID\n",
    "\n",
    "2° Método de Seleção usando \"Selenium\":\n",
    "É pelo xpath\n",
    "\n",
    "3° Método de Seleção usando \"Selenium\":\n",
    "Pelo nome da classe \"class_name\"\n",
    "\n",
    "4° Método de Seleção usando \"Selenium\":\n",
    "Pelo texto que está contido nele\n",
    "\n",
    "5° Método de Seleção usando \"Selenium\":\n",
    "Pelo tipo de informação que ele é, se ele é um link ou uma imagem\n",
    "\n",
    "Para inicio é recomendado utilizar o ID, porque o ID de um item em uma página HTML não é repetido. Cada item tem um ID especifico e normalmente não é modificado ao longo do tempo. \n"
   ]
  },
  {
   "cell_type": "markdown",
   "metadata": {},
   "source": [
    "Selecionando um elemento utilizando o Selenium\n",
    "Existe duas maneiras:\n",
    ".find_element    Dessa forma vai trazer somente um único elemento/item da sua página. O \".find_element\" ele dá como resposta um item.\n",
    "\n",
    ".find_elements   Dessa outra forma, vai trazer uma lista com vários itens da sua página. Se utilizar o \".find_elements\" para um único item, vai retornar uma lista com um único item. O \".find_elements\" ele dá como resposta uma lista em python\n",
    "\n",
    "A biblioteca \"by\" é como você vai importar esse elemento"
   ]
  },
  {
   "cell_type": "code",
   "execution_count": 26,
   "metadata": {},
   "outputs": [],
   "source": [
    "# Esse código abaixo, permite selecionar um elemento.\n",
    "# Nesse caso vamos selecionar um elemento/campo \"Seu primeiro nome\" pelo ID\n",
    "# A  variavel navegador \n",
    "# .send_keys() permite escrever em algum elemento/campo\n",
    "\n",
    "from selenium.webdriver.common.by import By\n",
    "\n",
    "campo_nome = navegador.find_element(By.ID,'fullname') #Campo de \"Seu primeiro nome\" do formulario, da página HTML. Estou selecionando o campo é armazenando na variavel de nome \"campo_nome\"\n",
    "campo_nome.send_keys(\"Bruno\") #Escrevendo \"Bruno\" no campo \"Seu primeiro nome\" do formulario\n"
   ]
  },
  {
   "cell_type": "markdown",
   "metadata": {},
   "source": [
    "Outra forma de fazer a mesma coisa que o código acima.\n",
    "A única diferença é que nesse código abaixo, vou selecionar o campo utilizando ID e não vou armazenar em uma variavel, vou selecionar o campo e escrever Bruno no campo, sem precisar armazenar em uma variavel o ID do campo"
   ]
  },
  {
   "cell_type": "code",
   "execution_count": 34,
   "metadata": {},
   "outputs": [],
   "source": [
    "from selenium.webdriver.common.by import By\n",
    "\n",
    "navegador.find_element(By.ID,'fullname').send_keys('Bruno Victor')"
   ]
  },
  {
   "cell_type": "markdown",
   "metadata": {},
   "source": [
    "Selecionando o campo/item \"Seu melhor e-mail\" utilizando ID. vou selecionar o campo e escrever bruno.victor32@yahoo.com.br no campo"
   ]
  },
  {
   "cell_type": "code",
   "execution_count": 35,
   "metadata": {},
   "outputs": [],
   "source": [
    "from selenium.webdriver.common.by import By\n",
    "\n",
    "navegador.find_element(By.ID,'email').send_keys('bruno.victor32@yahoo.com.br')"
   ]
  },
  {
   "cell_type": "markdown",
   "metadata": {},
   "source": [
    "Clicando no Botão de \"Enviar\", utilizando o ID para selecionar o campo e utilizando o método \"click()\" para clicar no botão \"Enviar\" do formulário"
   ]
  },
  {
   "cell_type": "code",
   "execution_count": 37,
   "metadata": {},
   "outputs": [],
   "source": [
    "navegador.find_element(By.ID,'_form_176_submit').click()"
   ]
  },
  {
   "cell_type": "markdown",
   "metadata": {},
   "source": [
    "Executando o código feito por partes acima, de forma completa!!!"
   ]
  },
  {
   "cell_type": "code",
   "execution_count": 39,
   "metadata": {},
   "outputs": [],
   "source": [
    "from selenium import webdriver\n",
    "from selenium.webdriver.chrome.service import Service\n",
    "from webdriver_manager.chrome import ChromeDriverManager\n",
    "from selenium.webdriver.common.by import By\n",
    "\n",
    "servico = Service(ChromeDriverManager().install())\n",
    "navegador = webdriver.Chrome(service=servico)\n",
    "\n",
    "navegador.get(r\"file:///C:/Users/bruno/Downloads/%23Cursos/Hashtag/Python%20Impressionador/24.Integra%C3%A7%C3%A3o%20Python%20-%20Automa%C3%A7%C3%A3o%20Web%20(Web-Scraping%20com%20Selenium)/MATERIAL%20DE%20APOIO/04/Pagina Hashtag.html\")\n",
    "\n",
    "navegador.find_element(By.ID,'fullname').send_keys('Bruno Victor')\n",
    "navegador.find_element(By.ID,'email').send_keys('bruno.victor32@yahoo.com.br')\n",
    "\n",
    "navegador.find_element(By.ID,'_form_176_submit').click()"
   ]
  },
  {
   "cell_type": "markdown",
   "metadata": {},
   "source": [
    "========== Seleção de elementos por Class Name e XPATH ==========\n",
    "\n",
    "Os metodos de seleção mais utilizados são os ID = \"id\", XPATH = \"xpath\" e o CLASS_NAME = \"class name\"\n",
    "1° Tentamos encontrar o método de seleção ID, para utilizar ele\n",
    "Se não ter o ID, tentamos utilizar o método de seleção abaixo\n",
    "2° Tentamos encontrar o método de seleção CLASS NAME\n",
    "Se não ter o ID, tentamos utilizar o método de seleção abaixo\n",
    "3° Tentamos encontrar o método de seleção XPATH\n",
    "\n",
    "IMPORTANTE: É importante verificar se a class é unica na página, ou ela também é utilizada para outro elemento da nossa página\n",
    "\n",
    "O que é o XPATH?\n",
    "É como se fosse um código que informa quem é o elemento na página. Nesse momento para usar não é necessário saber como esse código e construido. O XPATH é como se fosse o caminho daquela elemento especifico dentro página/código.\n",
    "\n",
    "                                            IMPORTANTE\n",
    "                                            ==========\n",
    "Não é recomendado utilizar sempre o XPATH, devido um dia ocorrer alguma mudança na página na localização do item. Como nesse caso da logo se mudar aonde ela fica na página, será alterado o XPATH da logo/elemento. Mudar o XPATH de um elemento da página é um processo relativamente fácil de acontecer. A possibilidade de mudar e maior no XPATH do que no CLASS NAME ou no ID.\n",
    "A ordem de utilização é:\n",
    "1° Utilizar ID, caso não tenha o elemento o ID, utilizar a CLASS NAME caso não tenha o elemento o CLASS NAME, utilizo o XPATH."
   ]
  },
  {
   "cell_type": "code",
   "execution_count": 40,
   "metadata": {},
   "outputs": [],
   "source": [
    "from selenium import webdriver\n",
    "from selenium.webdriver.chrome.service import Service\n",
    "from webdriver_manager.chrome import ChromeDriverManager\n",
    "from selenium.webdriver.common.by import By\n",
    "\n",
    "servico = Service(ChromeDriverManager().install())\n",
    "navegador = webdriver.Chrome(service=servico)\n",
    "\n",
    "navegador.get(r\"file:///C:/Users/bruno/Downloads/%23Cursos/Hashtag/Python%20Impressionador/24.Integra%C3%A7%C3%A3o%20Python%20-%20Automa%C3%A7%C3%A3o%20Web%20(Web-Scraping%20com%20Selenium)/MATERIAL%20DE%20APOIO/04/Pagina Hashtag.html\")"
   ]
  },
  {
   "cell_type": "markdown",
   "metadata": {},
   "source": [
    "Vamos selecionar o logo escrito \"HashTag\" através da classe de nome \"custom-logo\" e vamos clicar no logo"
   ]
  },
  {
   "cell_type": "code",
   "execution_count": 42,
   "metadata": {},
   "outputs": [],
   "source": [
    "from selenium.webdriver.common.by import By\n",
    "\n",
    "navegador.find_element(By.CLASS_NAME, 'custom-logo').click() #Estou selecionando o elemento, a logo que tem a classe de nome \"custom-logo\" e em seguida vou clicar na logo"
   ]
  },
  {
   "cell_type": "markdown",
   "metadata": {},
   "source": [
    "Para selecionar o XPATH do elemento. \n",
    "1° Passo: Acesso o inspecionar da página\n",
    "2° Passo: Clico no elemento da página\n",
    "3° Passo: No código que diz respeito ao elemento e está em azul, clico com o botão direito do mouse\n",
    "4° Passo: Em seguida clico em Copy, e seleciono Copy XPath\n",
    "\n",
    "OBSERVAÇÃO: O XPATH é recomendado colocar em aspas simples, devido possivelmente ter dentro do texto do XPATH aspas duplas"
   ]
  },
  {
   "cell_type": "code",
   "execution_count": 44,
   "metadata": {},
   "outputs": [],
   "source": [
    "from selenium.webdriver.common.by import By\n",
    "\n",
    "navegador.find_element(By.XPATH,'//*[@id=\"header\"]/div/div/div[1]/a/img').click()"
   ]
  },
  {
   "cell_type": "markdown",
   "metadata": {},
   "source": [
    "========== OUTRAS FORMAS DE SELECIONAR UM ELEMENTO NO SELENIUM =========="
   ]
  },
  {
   "cell_type": "code",
   "execution_count": 52,
   "metadata": {},
   "outputs": [],
   "source": [
    "from selenium import webdriver\n",
    "from selenium.webdriver.chrome.service import Service\n",
    "from webdriver_manager.chrome import ChromeDriverManager\n",
    "\n",
    "servico = Service(ChromeDriverManager().install())\n",
    "navegador = webdriver.Chrome(service=servico)\n",
    "\n",
    "navegador.get(r\"file:///C:/Users/bruno/Downloads/%23Cursos/Hashtag/Python%20Impressionador/24.Integra%C3%A7%C3%A3o%20Python%20-%20Automa%C3%A7%C3%A3o%20Web%20(Web-Scraping%20com%20Selenium)/MATERIAL%20DE%20APOIO/04/Pagina Hashtag.html\")"
   ]
  },
  {
   "cell_type": "markdown",
   "metadata": {},
   "source": [
    "Selecionar utilizando a tag de um elemento, utilizando quando queremos selecionar uma tag especifica.\n",
    "Por exemplo: Youtube cria tags especificas deles. Youtube tem uma tag chamada \"videotumbemail\", não é uma tag padrão do HTML. Mas é uma tag que o Youtube criou para usar dentro ecossistema deles.\n",
    "\n",
    "- Vamos selecionar o título\n",
    "Extrair o texto do título da nossa página"
   ]
  },
  {
   "cell_type": "code",
   "execution_count": 48,
   "metadata": {},
   "outputs": [
    {
     "name": "stdout",
     "output_type": "stream",
     "text": [
      "TODOS OS CURSOS DA HASHTAG TREINAMENTOS\n"
     ]
    }
   ],
   "source": [
    "# .text permite pegar o texto daquele elemento\n",
    "\n",
    "from selenium.webdriver.common.by import By\n",
    "\n",
    "titulo = navegador.find_element(By.TAG_NAME,'h2').text #Estou selecionando o título da página através da tag do título que é \"h2\" e pegando o texto que está dentro daquela tag utilizando \".text()\". Podemos armazenar esse texto que selecionamos em uma variavel chamada \"titulo\"\n",
    "print(titulo) #Mostrar na tela o texto do titulo que selecionamos"
   ]
  },
  {
   "cell_type": "markdown",
   "metadata": {},
   "source": [
    "Seleção do elemento pelo Texto do link. Selecionar pelo Partial Link Text(ou LINK_TEXT)\n",
    "- Quero conseguir pegar o número de whatsapp de contato\n",
    "\n",
    "Suponhamos que eu entrei no site é não sei aonde está o número de whatsapp e preciso pegar ele.\n",
    "Na página é possível perceber que o número de whatsapp é um link, quando for um link de uma página HTML e possível selecionar o elemento atraves do Partial Link Text, ou seja, por um pedaço do texto daquele link\n",
    "\n",
    "Diferenças entre LINK_TEXT e o PARTIAL_LINK_TEXT\n",
    "LINK_TEXT - Tem que saber o texto inteiro do link que está inscrito na página\n",
    "PARTIAL_LINK_TEXT - Você só precisa saber um pedaço do texto que está inscrito"
   ]
  },
  {
   "cell_type": "code",
   "execution_count": 54,
   "metadata": {},
   "outputs": [
    {
     "name": "stdout",
     "output_type": "stream",
     "text": [
      "(21) 99865-8852 (WhatsApp)\n"
     ]
    }
   ],
   "source": [
    "# No nosso caso iremos utilizar o PARTIAL_LINK_TEXT devido a gente colocar um pedaço do texto que vai ser \"whatsapp\", para descobrir aonde ele está na página.\n",
    "# Vai ser feito uma busca em todos os links da página e vai procurar nesses links da página quem tem a palavra \"Whatsapp\" dentro do texto do link\n",
    "#Temos que se atentar a forma que foi escrito no site. Por exemplo: Se colocar Whatsapp e na página é WhatsApp com letra \"A\" maiuscula, não seria encontrado. Porque o Python diferencia palavras maiusculas e minusculas\n",
    "\n",
    "numero_whatsapp = navegador.find_element(By.PARTIAL_LINK_TEXT,'WhatsApp').text\n",
    "print(numero_whatsapp)"
   ]
  },
  {
   "cell_type": "markdown",
   "metadata": {},
   "source": [
    "Selecionar elemento utilizando o parametro name\n",
    "- Preencher o campo \"Seu melhor e-mail*\" do formulário, utilizando o parametro \"name\""
   ]
  },
  {
   "cell_type": "code",
   "execution_count": 55,
   "metadata": {},
   "outputs": [],
   "source": [
    "navegador.find_element(By.NAME, 'email').send_keys(\"bruno.victor@yahoo.com.br\")"
   ]
  },
  {
   "cell_type": "markdown",
   "metadata": {},
   "source": [
    "Selecionar pelo CSS Seletor\n",
    "- Parecido com o XPATH, acaba não sendo usado tanto\n",
    "\n",
    "- Não é recomendado utilizar o CSS Seletor"
   ]
  },
  {
   "cell_type": "markdown",
   "metadata": {},
   "source": [
    "========== SELECIONANDO VÁRIOS ELEMENTOS DE UMA VEZ =========="
   ]
  },
  {
   "cell_type": "code",
   "execution_count": 65,
   "metadata": {},
   "outputs": [],
   "source": [
    "from selenium import webdriver\n",
    "from selenium.webdriver.chrome.service import Service\n",
    "from webdriver_manager.chrome import ChromeDriverManager\n",
    "from selenium.webdriver.common.by import By\n",
    "\n",
    "servico = Service(ChromeDriverManager().install())\n",
    "navegador = webdriver.Chrome(service=servico)\n",
    "\n",
    "navegador.get(r\"file:///C:/Users/bruno/Downloads/%23Cursos/Hashtag/Python%20Impressionador/24.Integra%C3%A7%C3%A3o%20Python%20-%20Automa%C3%A7%C3%A3o%20Web%20(Web-Scraping%20com%20Selenium)/MATERIAL%20DE%20APOIO/04/Pagina Hashtag.html\")"
   ]
  },
  {
   "cell_type": "markdown",
   "metadata": {},
   "source": [
    "Selecionar vários elementos de uma vez\n",
    "\n",
    "- Nesse caso vamos utilizar o .find_elements para selecionar, será retornado uma lista de elementos\n",
    "- Vamos clicar no item Blog do menu\n",
    "\n",
    "Por exemplo: Suponhamos que você quer extrair do site o link que está associado a cada imagem nesse site\n",
    "\n",
    "Existe empresas que faz um automação de pesquisar uma determinada palavra \"Python\" no Youtube e ele retona uma lista de vídeos. Nessa automação é extraido de cada vídeo do youtube o link do vídeo, devido o youtube permitir fazer propaganda em determinados vídeos do youtube.\n",
    "Depois dizemos para o youtube, os links dos vídeos que queremos fazer propaganda"
   ]
  },
  {
   "cell_type": "code",
   "execution_count": 59,
   "metadata": {},
   "outputs": [],
   "source": [
    "# No exemplo abaixo vamos supor que queremos selecionar/clicar o botão de Blog.\n",
    "\n",
    "# Observação: Quando utilizamos o .find_element de um item de classe 'nav-link', que tem mais de um item na página com a mesma classe 'nav-link'. Por padrão é selecionado/clicado o primeiro elemento que tem essa classe 'nav-link', não será dado um erro. Dessa forma não seria possível clicar no elemento \"BLOG\"\n",
    "\n",
    "navegador.find_element(By.CLASS_NAME, 'nav-link').click()\n"
   ]
  },
  {
   "cell_type": "code",
   "execution_count": 60,
   "metadata": {},
   "outputs": [
    {
     "name": "stdout",
     "output_type": "stream",
     "text": [
      "14\n"
     ]
    }
   ],
   "source": [
    "# Caso eu queira selecionar/ clicar todos os elementos que estão na barra de navegação que tem a classe 'nav-link'\n",
    "\n",
    "#Quando utilizamos o .find_elements esse código a seguir navegador.find_element(By.CLASS_NAME, 'nav-link') não se torna um único elemento da sua página, mas se torna uma lista de elementos. Mesmo que exista somente um elemento com essa classe 'nav-link', devido você está utilizando o .find_elements a resposta padrão dele é uma lista de elementos, por isso devemos armazenar em uma variavel.\n",
    "#Será armazenado na variavel uma lista com todos os elementos da página que tem a classe 'nav-link', essa lista pode está vazia se não encontrar nenhum elemento, essa lista pode ter um item se ele encontrou somente um elemento. Essa lista pode ter varios itens se ele encontrou  varios itens com essa classe 'nav-link', que é nosso caso.\n",
    "\n",
    "lista_elementos = navegador.find_elements(By.CLASS_NAME,'nav-link')\n",
    "print(len(lista_elementos)) # Mostrar o tamanho da lista elementos, nesse caso encontrou 14 elementos nessa classe 'nav-link'"
   ]
  },
  {
   "cell_type": "code",
   "execution_count": 67,
   "metadata": {},
   "outputs": [
    {
     "name": "stdout",
     "output_type": "stream",
     "text": [
      "[<selenium.webdriver.remote.webelement.WebElement (session=\"19d8a212303b233268b3c79f8306118e\", element=\"f.45EF9918A894217D662AA3B960FFC38B.d.D76A75A2F1144A1EC8D47935E64BB519.e.46\")>, <selenium.webdriver.remote.webelement.WebElement (session=\"19d8a212303b233268b3c79f8306118e\", element=\"f.45EF9918A894217D662AA3B960FFC38B.d.D76A75A2F1144A1EC8D47935E64BB519.e.47\")>, <selenium.webdriver.remote.webelement.WebElement (session=\"19d8a212303b233268b3c79f8306118e\", element=\"f.45EF9918A894217D662AA3B960FFC38B.d.D76A75A2F1144A1EC8D47935E64BB519.e.48\")>, <selenium.webdriver.remote.webelement.WebElement (session=\"19d8a212303b233268b3c79f8306118e\", element=\"f.45EF9918A894217D662AA3B960FFC38B.d.D76A75A2F1144A1EC8D47935E64BB519.e.49\")>, <selenium.webdriver.remote.webelement.WebElement (session=\"19d8a212303b233268b3c79f8306118e\", element=\"f.45EF9918A894217D662AA3B960FFC38B.d.D76A75A2F1144A1EC8D47935E64BB519.e.50\")>, <selenium.webdriver.remote.webelement.WebElement (session=\"19d8a212303b233268b3c79f8306118e\", element=\"f.45EF9918A894217D662AA3B960FFC38B.d.D76A75A2F1144A1EC8D47935E64BB519.e.51\")>, <selenium.webdriver.remote.webelement.WebElement (session=\"19d8a212303b233268b3c79f8306118e\", element=\"f.45EF9918A894217D662AA3B960FFC38B.d.D76A75A2F1144A1EC8D47935E64BB519.e.52\")>, <selenium.webdriver.remote.webelement.WebElement (session=\"19d8a212303b233268b3c79f8306118e\", element=\"f.45EF9918A894217D662AA3B960FFC38B.d.D76A75A2F1144A1EC8D47935E64BB519.e.53\")>, <selenium.webdriver.remote.webelement.WebElement (session=\"19d8a212303b233268b3c79f8306118e\", element=\"f.45EF9918A894217D662AA3B960FFC38B.d.D76A75A2F1144A1EC8D47935E64BB519.e.54\")>, <selenium.webdriver.remote.webelement.WebElement (session=\"19d8a212303b233268b3c79f8306118e\", element=\"f.45EF9918A894217D662AA3B960FFC38B.d.D76A75A2F1144A1EC8D47935E64BB519.e.55\")>, <selenium.webdriver.remote.webelement.WebElement (session=\"19d8a212303b233268b3c79f8306118e\", element=\"f.45EF9918A894217D662AA3B960FFC38B.d.D76A75A2F1144A1EC8D47935E64BB519.e.56\")>, <selenium.webdriver.remote.webelement.WebElement (session=\"19d8a212303b233268b3c79f8306118e\", element=\"f.45EF9918A894217D662AA3B960FFC38B.d.D76A75A2F1144A1EC8D47935E64BB519.e.57\")>, <selenium.webdriver.remote.webelement.WebElement (session=\"19d8a212303b233268b3c79f8306118e\", element=\"f.45EF9918A894217D662AA3B960FFC38B.d.D76A75A2F1144A1EC8D47935E64BB519.e.58\")>, <selenium.webdriver.remote.webelement.WebElement (session=\"19d8a212303b233268b3c79f8306118e\", element=\"f.45EF9918A894217D662AA3B960FFC38B.d.D76A75A2F1144A1EC8D47935E64BB519.e.59\")>]\n"
     ]
    }
   ],
   "source": [
    "lista_elementos = navegador.find_elements(By.CLASS_NAME,'nav-link')\n",
    "print(lista_elementos) #Se mostrar na tela a lista de elementos. Muito dificil visualizar os elementos do Selenium, não é possível descobrir quem é ou obter informações dele olhando a lista. Impossível descobrir olhando a lista, quem é o botão do \"Blog\"\n",
    "\n",
    "#Podemos tentar adivinhar:\n",
    "#Indice 0 é o botão \"Curso Excel Online\"\n",
    "#Indice 1 é o botão \"Curso Power BI Online\"\n",
    "#Indice 2 é o botão \"Curso de Python Online\"\n",
    "#Indice 3 é o botão \"Outros cursos\"\n",
    "#Indice 4 é o botão \"Treinamentos para empresas\"\n",
    "#Indice 5 é o botão \"Blog\"\n",
    "#Indice 6 é o botão \"Contato\"\n",
    "\n",
    "lista_elementos[5].click() #Vou clicar no elemento HTML de indice 5 da minha lista"
   ]
  },
  {
   "cell_type": "markdown",
   "metadata": {},
   "source": [
    "Supondo que esse botão Blog, possa mudar de local devido a modificações na página.\n",
    "Quero criar um código que possa pegar a posição do botão Blog, independente da posição na página que ele esteja. Devido eu não querer que esse código pare de funcionar, se algum desenvolvedor mudar a posição do site.\n",
    "Se a gente utilizar o XPATH ou o CLASS_NAME, se alterar a posição do botão Blog, vai parar de funcionar o código/automação"
   ]
  },
  {
   "cell_type": "code",
   "execution_count": 70,
   "metadata": {},
   "outputs": [],
   "source": [
    "# Outra opção seria percorrer a lista de elementos.\n",
    "\n",
    "#Para cada \"elemento\" na minha \"lista_elementos\", vou percorrer essa lista de elementos.\n",
    "#Quero percorrer essa lista de elementos, se tiver a palavra Blog dentro do texto do botão, eu quero clicar nele\n",
    "\n",
    "#Se o texto \"Blog\" estiver dentro do \"elemento.text\" e vou também deixar o nome blog todo em letra minuscula, independente de como está no site, vou deixar ele minusculo e vou comparar com o blog que coloquei no if que é minusculo\n",
    "\n",
    "#Vou clicar nesse elemento e vai me levar para a página do blog\n",
    "\n",
    "#Importante: Verificar na página, inspecionando no código da página como está escrito se está blog minusculo ou Blog ou BLOG e etc\n",
    "\n",
    "#Importante: Sempre que fizer um for para percorrer varios elementos na sua página e você resolver que tem que clicar em algum elemento que em seguida vai levar para outra página, em seguida é recomendado colocar um \"break\"\n",
    "\n",
    "lista_elementos = navegador.find_elements(By.CLASS_NAME,'nav-link')\n",
    "for elemento in lista_elementos:\n",
    "  if \"blog\" in elemento.text.lower():  \n",
    "    elemento.click() \n",
    "    break"
   ]
  },
  {
   "cell_type": "markdown",
   "metadata": {},
   "source": [
    "========== PEGANDO ATRIBUTOS OU TEXTO DE UM ELEMENTO =========="
   ]
  },
  {
   "cell_type": "code",
   "execution_count": 75,
   "metadata": {},
   "outputs": [],
   "source": [
    "from selenium import webdriver\n",
    "from selenium.webdriver.chrome.service import Service\n",
    "from webdriver_manager.chrome import ChromeDriverManager\n",
    "from selenium.webdriver.common.by import By\n",
    "\n",
    "servico = Service(ChromeDriverManager().install())\n",
    "navegador = webdriver.Chrome(service=servico)\n",
    "\n",
    "navegador.get(r\"file:///C:/Users/bruno/Downloads/%23Cursos/Hashtag/Python%20Impressionador/24.Integra%C3%A7%C3%A3o%20Python%20-%20Automa%C3%A7%C3%A3o%20Web%20(Web-Scraping%20com%20Selenium)/MATERIAL%20DE%20APOIO/04/Pagina Hashtag.html\")"
   ]
  },
  {
   "cell_type": "markdown",
   "metadata": {},
   "source": [
    "Pegar informações de um elemento\n",
    "- texto\n",
    "- atributos"
   ]
  },
  {
   "cell_type": "markdown",
   "metadata": {},
   "source": [
    "Exemplo 1: Link do Whatsapp"
   ]
  },
  {
   "cell_type": "code",
   "execution_count": 74,
   "metadata": {},
   "outputs": [
    {
     "name": "stdout",
     "output_type": "stream",
     "text": [
      "https://api.whatsapp.com/send?phone=5521998658852&text=Ol%C3%A1%2C%20gostaria%20de%20tirar%20uma%20d%C3%BAvida%20%20sobre%20o%20curso%20online\n"
     ]
    }
   ],
   "source": [
    "#Quero armazenar na variavel \"texto\" o link do whatsapp que está na página.\n",
    "#Para conseguir pegar esse link do whatsapp, faço da seguinte maneira:\n",
    "#1°   Passo: Acesso a página que está o link que quero pegar\n",
    "#2°   Passo: Clico em inspecionar a página\n",
    "#3°   Passo: Acho a tag <a> que o link, que nesse caso é do whatsapp\n",
    "#3.1° Passo: Copiar o XPATH dessa tag\n",
    "#4°   Passo: Copio o atributo \"href\" \n",
    "\n",
    "# Estou selecionando corretamente o elemento <a> com o XPath /html/body/footer/div/div[1]/div[2]/div/a[2], que  aponta para o link do WhatsApp, e usando o método .get_attribute('href') para obter o valor do atributo href que e o link do WhatsApp.\n",
    "\n",
    "texto = navegador.find_element(By.XPATH, '/html/body/footer/div/div[1]/div[2]/div/a[2]').get_attribute('href')\n",
    "print(texto)"
   ]
  },
  {
   "cell_type": "code",
   "execution_count": 71,
   "metadata": {},
   "outputs": [
    {
     "name": "stdout",
     "output_type": "stream",
     "text": [
      "(21) 99865-8852 (WhatsApp)\n"
     ]
    }
   ],
   "source": [
    "#Estou selecionando o item que passei no XPATH que é o link do telefone do whatsapp e pegando o texto dele e armazenando na variavel \"texto\"\n",
    "#Estou pegando o texto dentro do link que é (21) 99865-8852 (WhatsApp), ou seja, o (o conteúdo visível dentro da tag <a>):\n",
    "\n",
    "texto = navegador.find_element(By.XPATH,'/html/body/footer/div/div[1]/div[2]/div/a[2]').text\n",
    "print(texto)"
   ]
  },
  {
   "cell_type": "code",
   "execution_count": 73,
   "metadata": {},
   "outputs": [
    {
     "name": "stdout",
     "output_type": "stream",
     "text": [
      "None\n"
     ]
    }
   ],
   "source": [
    "#Estou selecionando o item que passei no XPATH que é o link do telefone do whatsapp e clicando nesse link.\n",
    "#Estou selecionando um link específico que contém  um link de WhatsApp usando o XPath. Em seguida, será clicando nesse link.\n",
    "navegador.find_element(By.XPATH, '/html/body/footer/div/div[1]/div[2]/div/a[2]').click()\n"
   ]
  },
  {
   "cell_type": "markdown",
   "metadata": {},
   "source": [
    "Escrever em algum campo é o .send_keys()"
   ]
  },
  {
   "cell_type": "markdown",
   "metadata": {},
   "source": [
    "Exemplo 2: Imagens dos cursos\n",
    "\n",
    "Quero pegar o link que vou ser direcionado ao clicar na imagem \"Excel Impressionador\", nesse caso utilizei o XPATH de uma tag <a> que esta acima da tag <img> dessa imagem é estou utilizando o atributo href da tag <a> para pegar esse link e armazenar na variavel \"link\""
   ]
  },
  {
   "cell_type": "code",
   "execution_count": null,
   "metadata": {},
   "outputs": [
    {
     "name": "stdout",
     "output_type": "stream",
     "text": [
      "https://www.hashtagtreinamentos.com/curso-de-excel-online\n"
     ]
    }
   ],
   "source": [
    "\n",
    "\n",
    "link = navegador.find_element(By.XPATH,'/html/body/section[2]/div/div[4]/figure/a').get_attribute('href')\n",
    "print(link)"
   ]
  },
  {
   "cell_type": "markdown",
   "metadata": {},
   "source": [
    "========== ESTRUTURA DA ÁRVORE HTML =========="
   ]
  },
  {
   "cell_type": "markdown",
   "metadata": {},
   "source": [
    "========== TRABALHANDO COM IFRAMES ========== "
   ]
  },
  {
   "cell_type": "markdown",
   "metadata": {},
   "source": [
    "IFRAMES -Páginas dentro de outras páginas\n",
    "\n",
    "- As vezes, você vai fazer tudo certo no Selenium e aparentemente não vai funcionar o seu código\n",
    "- Possivelmente o elemento que você está tentando selecionar esta dentro do iframe"
   ]
  },
  {
   "cell_type": "code",
   "execution_count": null,
   "metadata": {},
   "outputs": [
    {
     "name": "stdout",
     "output_type": "stream",
     "text": [
      "1,38\n"
     ]
    }
   ],
   "source": [
    "#Queremos pegar o pontos por jogo mandante da 1° linha da tabela\n",
    "\n",
    "link = \"https://pbdatatrader.com.br/jogosdodia\"\n",
    "\n",
    "#Normalmente iriamos fazer da seguinte maneira\n",
    "\n",
    "from selenium import webdriver #webdrive é utilizado para criar seu navegador e usar o selenium\n",
    "from selenium.webdriver.common.by import By\n",
    "import time\n",
    "\n",
    "driver = webdriver.Chrome() #será criado uma variavel que nesse caso é \"navegador\" e vai abrir um novo navegador\n",
    "\n",
    "driver.get(link) #Permite abrir uma página especifica de um site qualquer, passamos dentro das () o site que queremos abrir.\n",
    "time.sleep(7) #Aguardar 7 segundos para a página carregar completamente\n",
    "\n",
    "# Já que conseguimos entrar na nossa página e carregar a mesma, vamos fazer o seguinte.\n",
    "# Como tem dois iframe, vou selecionar o primeiro iframe e vou entrar nele. Digo para o Selenium, agora você vai olhar para o iframe é como se o selenium estivesse mudando de página\n",
    "\n",
    "#Estamos procurando na página um elemento HTML do tipo iframe usando o método find_element e o seletor By.TAG_NAME.O Selenium localiza o iframe e o \"guarda\" na variável iframe para usarmos mais tarde.\n",
    "#1° Iframe\n",
    "iframe = driver.find_element(By.TAG_NAME,'iframe') \n",
    "\n",
    "#Informamos ao Selenium que queremos \"entrar\" no conteúdo do iframe que encontramos anteriormente, por esse motivo passamos a variavel \"iframe\". Estamos \"entrando\" no iframe, permitindo que o Selenium interaja com os elementos dentro dele.\n",
    "driver.switch_to.frame(iframe) # A partir da execução dessa linha, é como se o Selenium conseguisse ler somente o que está dentro desse iframe\n",
    "\n",
    "#Só que a informação que queremos selecionar é mostrar na tela está dentro de outra iframe.\n",
    "#Vamos ter que copiar o código anterior para entrar no segundo iframe, que está dentro do iframe anterior\n",
    "#2° Iframe\n",
    "iframe = driver.find_element(By.TAG_NAME,'iframe')\n",
    "driver.switch_to.frame(iframe)\n",
    "\n",
    "#Estou executando esse código no item que está dentro do segundo iframe\n",
    "texto = driver.find_element(By.XPATH,'//*[@id=\"pvExplorationHost\"]/div/div/exploration/div/explore-canvas/div/div[2]/div/div[2]/div[2]/visual-container-repeat/visual-container[19]/transform/div/div[3]/div/div/visual-modern/div/div/div[2]/div[1]/div[2]/div/div[1]/div/div/div[8]').text\n",
    "print(texto)\n"
   ]
  },
  {
   "cell_type": "code",
   "execution_count": 16,
   "metadata": {},
   "outputs": [],
   "source": [
    "#Para sair do Iframe e voltar para a tela/página principal, faço da seguinte maneira\n",
    "\n",
    "driver.switch_to.default_content()\n",
    "#O que eu mandar fazer abaixo desse comando, será executado na página principal"
   ]
  }
 ],
 "metadata": {
  "kernelspec": {
   "display_name": "Python 3",
   "language": "python",
   "name": "python3"
  },
  "language_info": {
   "codemirror_mode": {
    "name": "ipython",
    "version": 3
   },
   "file_extension": ".py",
   "mimetype": "text/x-python",
   "name": "python",
   "nbconvert_exporter": "python",
   "pygments_lexer": "ipython3",
   "version": "3.13.0"
  }
 },
 "nbformat": 4,
 "nbformat_minor": 2
}
