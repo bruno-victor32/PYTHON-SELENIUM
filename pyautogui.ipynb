{
 "cells": [
  {
   "cell_type": "markdown",
   "metadata": {},
   "source": [
    "Instalar o pyautogui\n",
    "pip install pyautogui\n",
    "\n",
    "As automações de RPA usam os pixels da tela do seu computador para reconhecer as informações\n",
    "Com o Pyautogui é possível pedir para ele clicar em uma imagem especifica de um botão, só que a imagem especifica do botão para o pyautogui é um conjunto de pixels que será procurado na tela"
   ]
  },
  {
   "cell_type": "code",
   "execution_count": 4,
   "metadata": {},
   "outputs": [],
   "source": [
    "import pyautogui\n",
    "import time"
   ]
  },
  {
   "cell_type": "code",
   "execution_count": null,
   "metadata": {},
   "outputs": [],
   "source": [
    "#Pegar a posição do mouse na tela\n",
    "\n",
    "print(pyautogui.position())    # x é a distância horizontal, y é a distância vertical"
   ]
  },
  {
   "cell_type": "code",
   "execution_count": null,
   "metadata": {},
   "outputs": [],
   "source": [
    "#Pegar o tamanho/resolução da tela do seu computador com Pyautogui\n",
    "\n",
    "print(pyautogui.size())"
   ]
  },
  {
   "cell_type": "code",
   "execution_count": null,
   "metadata": {},
   "outputs": [],
   "source": [
    "#Funções do mouse\n",
    "time.sleep(5) #Aguardar 5 segundos \n",
    "pyautogui.click(x=1151, y=157) #Clicar no local que o seu mouse estiver parado\n",
    "\n",
    "#Para usar o click() é necessário anteriormente pegar a posição do mouse que você gostaria de clicar com o position()"
   ]
  },
  {
   "cell_type": "code",
   "execution_count": null,
   "metadata": {},
   "outputs": [],
   "source": [
    "#Funções do mouse\n",
    "pyautogui.click(x=1151, y=157, button=\"right\") #Clicar com o botão direito do mouse\n",
    "pyautogui.click(x=1151, y=157, button=\"middle\") #Clicar com o botão intermediario/meio do mouse\n",
    "\n",
    "#Quantidade de clicks o mouse vai clicar\n",
    "pyautogui.click(x=1151, y=157, clicks=2) #Dessa forma é duplo clique"
   ]
  },
  {
   "cell_type": "code",
   "execution_count": null,
   "metadata": {},
   "outputs": [],
   "source": [
    "#Funções do mouse\n",
    "\n",
    "pyautogui.moveTo(x=1351, y=152, duration=1) #Mover o mouse sem clicar, durantion serve para dizer quantos segundos o mouse vai demorar para mover até o lugar que você determinou"
   ]
  },
  {
   "cell_type": "code",
   "execution_count": null,
   "metadata": {},
   "outputs": [],
   "source": [
    "#Funções do mouse\n",
    "\n",
    "pyautogui.dragTo(x=1351, y=152, duration=1) #Vai clicar e arrastar algo até um lugar determinado"
   ]
  },
  {
   "cell_type": "code",
   "execution_count": null,
   "metadata": {},
   "outputs": [],
   "source": [
    "#Funções do mouse\n",
    "\n",
    "pyautogui.scroll(-200) # numero negativo = scroll para baixo"
   ]
  },
  {
   "cell_type": "code",
   "execution_count": null,
   "metadata": {},
   "outputs": [],
   "source": [
    "# funções do teclado\n",
    "\n",
    "pyautogui.write(\"Se inscreve no canal\") #Permite escrever algum texto na tela"
   ]
  },
  {
   "cell_type": "code",
   "execution_count": null,
   "metadata": {},
   "outputs": [],
   "source": [
    "# funções do teclado\n",
    "\n",
    "pyautogui.hotkey(\"ctrl\", \"v\") #Permite pressionar várias teclas de uma vez"
   ]
  },
  {
   "cell_type": "code",
   "execution_count": null,
   "metadata": {},
   "outputs": [],
   "source": [
    "# funções do teclado\n",
    "\n",
    "pyautogui.press(\"enter\") #Pressiona e solta uma tecla do seu computador, nesse caso e a tecla \"enter\""
   ]
  },
  {
   "cell_type": "code",
   "execution_count": null,
   "metadata": {},
   "outputs": [],
   "source": [
    "#Verificando as teclas do teclado, vai mostrar as teclas \n",
    "\n",
    "print(pyautogui.KEYBOARD_KEYS)"
   ]
  },
  {
   "cell_type": "code",
   "execution_count": null,
   "metadata": {},
   "outputs": [],
   "source": [
    "#Configura uma pausa automática de 2,5 segundos que será aplicada após cada comando do PyAutoGUI.\n",
    "pyautogui.PAUSE = 2.5\n",
    "\n",
    "time.sleep(5) #A diferença do time.sleep(5) é que no determinado lugar ele vai pausar 5 segundos"
   ]
  }
 ],
 "metadata": {
  "kernelspec": {
   "display_name": ".venv",
   "language": "python",
   "name": "python3"
  },
  "language_info": {
   "codemirror_mode": {
    "name": "ipython",
    "version": 3
   },
   "file_extension": ".py",
   "mimetype": "text/x-python",
   "name": "python",
   "nbconvert_exporter": "python",
   "pygments_lexer": "ipython3",
   "version": "3.10.4"
  }
 },
 "nbformat": 4,
 "nbformat_minor": 2
}
